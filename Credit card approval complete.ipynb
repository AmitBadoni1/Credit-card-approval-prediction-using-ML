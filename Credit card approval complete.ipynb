{
 "cells": [
  {
   "cell_type": "markdown",
   "metadata": {
    "papermill": {
     "duration": 0.12245,
     "end_time": "2020-10-28T08:13:18.127880",
     "exception": false,
     "start_time": "2020-10-28T08:13:18.005430",
     "status": "completed"
    },
    "tags": []
   },
   "source": [
    "# Packages Imports"
   ]
  },
  {
   "cell_type": "code",
   "execution_count": 1,
   "metadata": {
    "execution": {
     "iopub.execute_input": "2020-10-28T08:13:18.366995Z",
     "iopub.status.busy": "2020-10-28T08:13:18.366127Z",
     "iopub.status.idle": "2020-10-28T08:13:19.687673Z",
     "shell.execute_reply": "2020-10-28T08:13:19.686781Z"
    },
    "papermill": {
     "duration": 1.446132,
     "end_time": "2020-10-28T08:13:19.687843",
     "exception": false,
     "start_time": "2020-10-28T08:13:18.241711",
     "status": "completed"
    },
    "tags": []
   },
   "outputs": [],
   "source": [
    "import numpy as np\n",
    "import pandas as pd\n",
    "import matplotlib.pylab as plt\n",
    "import seaborn as sns\n",
    "from scipy.stats import normaltest\n",
    "from scipy.stats import norm\n",
    "from scipy.stats import kendalltau\n",
    "from sklearn.preprocessing import RobustScaler\n",
    "from sklearn.model_selection import train_test_split\n",
    "from imblearn.over_sampling import SMOTE\n",
    "\n",
    "from sklearn.linear_model import LogisticRegression\n",
    "from sklearn import metrics\n",
    "from sklearn.metrics import classification_report\n",
    "from sklearn.metrics import accuracy_score, confusion_matrix,f1_score\n",
    "from sklearn.metrics import auc\n",
    "from sklearn.tree import DecisionTreeClassifier\n",
    "from sklearn import svm\n",
    "from sklearn.ensemble import RandomForestClassifier\n",
    "from sklearn.ensemble import AdaBoostClassifier\n",
    "from sklearn.metrics import roc_curve, roc_auc_score\n",
    "from sklearn.naive_bayes import GaussianNB\n",
    "\n",
    "import keras\n",
    "from keras.models import Sequential\n",
    "from keras.layers import Dense"
   ]
  },
  {
   "cell_type": "markdown",
   "metadata": {
    "papermill": {
     "duration": 0.139291,
     "end_time": "2020-10-28T08:13:19.951462",
     "exception": false,
     "start_time": "2020-10-28T08:13:19.812171",
     "status": "completed"
    },
    "tags": []
   },
   "source": [
    "# Data Loading"
   ]
  },
  {
   "cell_type": "code",
   "execution_count": 2,
   "metadata": {
    "execution": {
     "iopub.execute_input": "2020-10-28T08:13:20.199871Z",
     "iopub.status.busy": "2020-10-28T08:13:20.199031Z",
     "iopub.status.idle": "2020-10-28T08:13:21.872013Z",
     "shell.execute_reply": "2020-10-28T08:13:21.870868Z"
    },
    "papermill": {
     "duration": 1.800792,
     "end_time": "2020-10-28T08:13:21.872187",
     "exception": false,
     "start_time": "2020-10-28T08:13:20.071395",
     "status": "completed"
    },
    "tags": []
   },
   "outputs": [
    {
     "data": {
      "text/html": [
       "<div>\n",
       "<style scoped>\n",
       "    .dataframe tbody tr th:only-of-type {\n",
       "        vertical-align: middle;\n",
       "    }\n",
       "\n",
       "    .dataframe tbody tr th {\n",
       "        vertical-align: top;\n",
       "    }\n",
       "\n",
       "    .dataframe thead th {\n",
       "        text-align: right;\n",
       "    }\n",
       "</style>\n",
       "<table border=\"1\" class=\"dataframe\">\n",
       "  <thead>\n",
       "    <tr style=\"text-align: right;\">\n",
       "      <th></th>\n",
       "      <th>CODE_GENDER</th>\n",
       "      <th>FLAG_OWN_CAR</th>\n",
       "      <th>FLAG_OWN_REALTY</th>\n",
       "      <th>CNT_CHILDREN</th>\n",
       "      <th>AMT_INCOME_TOTAL</th>\n",
       "      <th>NAME_INCOME_TYPE</th>\n",
       "      <th>NAME_EDUCATION_TYPE</th>\n",
       "      <th>NAME_FAMILY_STATUS</th>\n",
       "      <th>NAME_HOUSING_TYPE</th>\n",
       "      <th>DAYS_BIRTH</th>\n",
       "      <th>DAYS_EMPLOYED</th>\n",
       "      <th>FLAG_MOBIL</th>\n",
       "      <th>FLAG_WORK_PHONE</th>\n",
       "      <th>FLAG_PHONE</th>\n",
       "      <th>FLAG_EMAIL</th>\n",
       "      <th>OCCUPATION_TYPE</th>\n",
       "      <th>CNT_FAM_MEMBERS</th>\n",
       "    </tr>\n",
       "    <tr>\n",
       "      <th>ID</th>\n",
       "      <th></th>\n",
       "      <th></th>\n",
       "      <th></th>\n",
       "      <th></th>\n",
       "      <th></th>\n",
       "      <th></th>\n",
       "      <th></th>\n",
       "      <th></th>\n",
       "      <th></th>\n",
       "      <th></th>\n",
       "      <th></th>\n",
       "      <th></th>\n",
       "      <th></th>\n",
       "      <th></th>\n",
       "      <th></th>\n",
       "      <th></th>\n",
       "      <th></th>\n",
       "    </tr>\n",
       "  </thead>\n",
       "  <tbody>\n",
       "    <tr>\n",
       "      <th>5008804</th>\n",
       "      <td>M</td>\n",
       "      <td>Y</td>\n",
       "      <td>Y</td>\n",
       "      <td>0</td>\n",
       "      <td>427500.0</td>\n",
       "      <td>Working</td>\n",
       "      <td>Higher education</td>\n",
       "      <td>Civil marriage</td>\n",
       "      <td>Rented apartment</td>\n",
       "      <td>-12005</td>\n",
       "      <td>-4542</td>\n",
       "      <td>1</td>\n",
       "      <td>1</td>\n",
       "      <td>0</td>\n",
       "      <td>0</td>\n",
       "      <td>NaN</td>\n",
       "      <td>2.0</td>\n",
       "    </tr>\n",
       "    <tr>\n",
       "      <th>5008805</th>\n",
       "      <td>M</td>\n",
       "      <td>Y</td>\n",
       "      <td>Y</td>\n",
       "      <td>0</td>\n",
       "      <td>427500.0</td>\n",
       "      <td>Working</td>\n",
       "      <td>Higher education</td>\n",
       "      <td>Civil marriage</td>\n",
       "      <td>Rented apartment</td>\n",
       "      <td>-12005</td>\n",
       "      <td>-4542</td>\n",
       "      <td>1</td>\n",
       "      <td>1</td>\n",
       "      <td>0</td>\n",
       "      <td>0</td>\n",
       "      <td>NaN</td>\n",
       "      <td>2.0</td>\n",
       "    </tr>\n",
       "    <tr>\n",
       "      <th>5008806</th>\n",
       "      <td>M</td>\n",
       "      <td>Y</td>\n",
       "      <td>Y</td>\n",
       "      <td>0</td>\n",
       "      <td>112500.0</td>\n",
       "      <td>Working</td>\n",
       "      <td>Secondary / secondary special</td>\n",
       "      <td>Married</td>\n",
       "      <td>House / apartment</td>\n",
       "      <td>-21474</td>\n",
       "      <td>-1134</td>\n",
       "      <td>1</td>\n",
       "      <td>0</td>\n",
       "      <td>0</td>\n",
       "      <td>0</td>\n",
       "      <td>Security staff</td>\n",
       "      <td>2.0</td>\n",
       "    </tr>\n",
       "    <tr>\n",
       "      <th>5008808</th>\n",
       "      <td>F</td>\n",
       "      <td>N</td>\n",
       "      <td>Y</td>\n",
       "      <td>0</td>\n",
       "      <td>270000.0</td>\n",
       "      <td>Commercial associate</td>\n",
       "      <td>Secondary / secondary special</td>\n",
       "      <td>Single / not married</td>\n",
       "      <td>House / apartment</td>\n",
       "      <td>-19110</td>\n",
       "      <td>-3051</td>\n",
       "      <td>1</td>\n",
       "      <td>0</td>\n",
       "      <td>1</td>\n",
       "      <td>1</td>\n",
       "      <td>Sales staff</td>\n",
       "      <td>1.0</td>\n",
       "    </tr>\n",
       "    <tr>\n",
       "      <th>5008809</th>\n",
       "      <td>F</td>\n",
       "      <td>N</td>\n",
       "      <td>Y</td>\n",
       "      <td>0</td>\n",
       "      <td>270000.0</td>\n",
       "      <td>Commercial associate</td>\n",
       "      <td>Secondary / secondary special</td>\n",
       "      <td>Single / not married</td>\n",
       "      <td>House / apartment</td>\n",
       "      <td>-19110</td>\n",
       "      <td>-3051</td>\n",
       "      <td>1</td>\n",
       "      <td>0</td>\n",
       "      <td>1</td>\n",
       "      <td>1</td>\n",
       "      <td>Sales staff</td>\n",
       "      <td>1.0</td>\n",
       "    </tr>\n",
       "  </tbody>\n",
       "</table>\n",
       "</div>"
      ],
      "text/plain": [
       "        CODE_GENDER FLAG_OWN_CAR FLAG_OWN_REALTY  CNT_CHILDREN  \\\n",
       "ID                                                               \n",
       "5008804           M            Y               Y             0   \n",
       "5008805           M            Y               Y             0   \n",
       "5008806           M            Y               Y             0   \n",
       "5008808           F            N               Y             0   \n",
       "5008809           F            N               Y             0   \n",
       "\n",
       "         AMT_INCOME_TOTAL      NAME_INCOME_TYPE  \\\n",
       "ID                                                \n",
       "5008804          427500.0               Working   \n",
       "5008805          427500.0               Working   \n",
       "5008806          112500.0               Working   \n",
       "5008808          270000.0  Commercial associate   \n",
       "5008809          270000.0  Commercial associate   \n",
       "\n",
       "                   NAME_EDUCATION_TYPE    NAME_FAMILY_STATUS  \\\n",
       "ID                                                             \n",
       "5008804               Higher education        Civil marriage   \n",
       "5008805               Higher education        Civil marriage   \n",
       "5008806  Secondary / secondary special               Married   \n",
       "5008808  Secondary / secondary special  Single / not married   \n",
       "5008809  Secondary / secondary special  Single / not married   \n",
       "\n",
       "         NAME_HOUSING_TYPE  DAYS_BIRTH  DAYS_EMPLOYED  FLAG_MOBIL  \\\n",
       "ID                                                                  \n",
       "5008804   Rented apartment      -12005          -4542           1   \n",
       "5008805   Rented apartment      -12005          -4542           1   \n",
       "5008806  House / apartment      -21474          -1134           1   \n",
       "5008808  House / apartment      -19110          -3051           1   \n",
       "5008809  House / apartment      -19110          -3051           1   \n",
       "\n",
       "         FLAG_WORK_PHONE  FLAG_PHONE  FLAG_EMAIL OCCUPATION_TYPE  \\\n",
       "ID                                                                 \n",
       "5008804                1           0           0             NaN   \n",
       "5008805                1           0           0             NaN   \n",
       "5008806                0           0           0  Security staff   \n",
       "5008808                0           1           1     Sales staff   \n",
       "5008809                0           1           1     Sales staff   \n",
       "\n",
       "         CNT_FAM_MEMBERS  \n",
       "ID                        \n",
       "5008804              2.0  \n",
       "5008805              2.0  \n",
       "5008806              2.0  \n",
       "5008808              1.0  \n",
       "5008809              1.0  "
      ]
     },
     "execution_count": 2,
     "metadata": {},
     "output_type": "execute_result"
    }
   ],
   "source": [
    "# Loading application records into a pandas dataframe\n",
    "appl_df = pd.read_csv( 'application_record.csv', index_col= 'ID' )\n",
    "appl_df.head()"
   ]
  },
  {
   "cell_type": "code",
   "execution_count": 3,
   "metadata": {
    "execution": {
     "iopub.execute_input": "2020-10-28T08:13:22.108343Z",
     "iopub.status.busy": "2020-10-28T08:13:22.107556Z",
     "iopub.status.idle": "2020-10-28T08:13:22.553928Z",
     "shell.execute_reply": "2020-10-28T08:13:22.553094Z"
    },
    "papermill": {
     "duration": 0.568486,
     "end_time": "2020-10-28T08:13:22.554075",
     "exception": false,
     "start_time": "2020-10-28T08:13:21.985589",
     "status": "completed"
    },
    "tags": []
   },
   "outputs": [],
   "source": [
    "# Loading credit records into a pandas dataframe\n",
    "cred_df = pd.read_csv('credit_record.csv')\n",
    "cred_df.set_index('ID',inplace=True)"
   ]
  },
  {
   "cell_type": "code",
   "execution_count": 4,
   "metadata": {
    "execution": {
     "iopub.execute_input": "2020-10-28T08:13:22.799724Z",
     "iopub.status.busy": "2020-10-28T08:13:22.798631Z",
     "iopub.status.idle": "2020-10-28T08:13:22.813628Z",
     "shell.execute_reply": "2020-10-28T08:13:22.812968Z"
    },
    "papermill": {
     "duration": 0.144729,
     "end_time": "2020-10-28T08:13:22.813780",
     "exception": false,
     "start_time": "2020-10-28T08:13:22.669051",
     "status": "completed"
    },
    "tags": []
   },
   "outputs": [
    {
     "data": {
      "text/html": [
       "<div>\n",
       "<style scoped>\n",
       "    .dataframe tbody tr th:only-of-type {\n",
       "        vertical-align: middle;\n",
       "    }\n",
       "\n",
       "    .dataframe tbody tr th {\n",
       "        vertical-align: top;\n",
       "    }\n",
       "\n",
       "    .dataframe thead th {\n",
       "        text-align: right;\n",
       "    }\n",
       "</style>\n",
       "<table border=\"1\" class=\"dataframe\">\n",
       "  <thead>\n",
       "    <tr style=\"text-align: right;\">\n",
       "      <th>ID</th>\n",
       "      <th>5008804</th>\n",
       "      <th>5008805</th>\n",
       "      <th>5008806</th>\n",
       "      <th>5008808</th>\n",
       "      <th>5008809</th>\n",
       "    </tr>\n",
       "  </thead>\n",
       "  <tbody>\n",
       "    <tr>\n",
       "      <th>CODE_GENDER</th>\n",
       "      <td>M</td>\n",
       "      <td>M</td>\n",
       "      <td>M</td>\n",
       "      <td>F</td>\n",
       "      <td>F</td>\n",
       "    </tr>\n",
       "    <tr>\n",
       "      <th>FLAG_OWN_CAR</th>\n",
       "      <td>Y</td>\n",
       "      <td>Y</td>\n",
       "      <td>Y</td>\n",
       "      <td>N</td>\n",
       "      <td>N</td>\n",
       "    </tr>\n",
       "    <tr>\n",
       "      <th>FLAG_OWN_REALTY</th>\n",
       "      <td>Y</td>\n",
       "      <td>Y</td>\n",
       "      <td>Y</td>\n",
       "      <td>Y</td>\n",
       "      <td>Y</td>\n",
       "    </tr>\n",
       "    <tr>\n",
       "      <th>CNT_CHILDREN</th>\n",
       "      <td>0</td>\n",
       "      <td>0</td>\n",
       "      <td>0</td>\n",
       "      <td>0</td>\n",
       "      <td>0</td>\n",
       "    </tr>\n",
       "    <tr>\n",
       "      <th>AMT_INCOME_TOTAL</th>\n",
       "      <td>427500</td>\n",
       "      <td>427500</td>\n",
       "      <td>112500</td>\n",
       "      <td>270000</td>\n",
       "      <td>270000</td>\n",
       "    </tr>\n",
       "    <tr>\n",
       "      <th>NAME_INCOME_TYPE</th>\n",
       "      <td>Working</td>\n",
       "      <td>Working</td>\n",
       "      <td>Working</td>\n",
       "      <td>Commercial associate</td>\n",
       "      <td>Commercial associate</td>\n",
       "    </tr>\n",
       "    <tr>\n",
       "      <th>NAME_EDUCATION_TYPE</th>\n",
       "      <td>Higher education</td>\n",
       "      <td>Higher education</td>\n",
       "      <td>Secondary / secondary special</td>\n",
       "      <td>Secondary / secondary special</td>\n",
       "      <td>Secondary / secondary special</td>\n",
       "    </tr>\n",
       "    <tr>\n",
       "      <th>NAME_FAMILY_STATUS</th>\n",
       "      <td>Civil marriage</td>\n",
       "      <td>Civil marriage</td>\n",
       "      <td>Married</td>\n",
       "      <td>Single / not married</td>\n",
       "      <td>Single / not married</td>\n",
       "    </tr>\n",
       "    <tr>\n",
       "      <th>NAME_HOUSING_TYPE</th>\n",
       "      <td>Rented apartment</td>\n",
       "      <td>Rented apartment</td>\n",
       "      <td>House / apartment</td>\n",
       "      <td>House / apartment</td>\n",
       "      <td>House / apartment</td>\n",
       "    </tr>\n",
       "    <tr>\n",
       "      <th>DAYS_BIRTH</th>\n",
       "      <td>-12005</td>\n",
       "      <td>-12005</td>\n",
       "      <td>-21474</td>\n",
       "      <td>-19110</td>\n",
       "      <td>-19110</td>\n",
       "    </tr>\n",
       "    <tr>\n",
       "      <th>DAYS_EMPLOYED</th>\n",
       "      <td>-4542</td>\n",
       "      <td>-4542</td>\n",
       "      <td>-1134</td>\n",
       "      <td>-3051</td>\n",
       "      <td>-3051</td>\n",
       "    </tr>\n",
       "    <tr>\n",
       "      <th>FLAG_MOBIL</th>\n",
       "      <td>1</td>\n",
       "      <td>1</td>\n",
       "      <td>1</td>\n",
       "      <td>1</td>\n",
       "      <td>1</td>\n",
       "    </tr>\n",
       "    <tr>\n",
       "      <th>FLAG_WORK_PHONE</th>\n",
       "      <td>1</td>\n",
       "      <td>1</td>\n",
       "      <td>0</td>\n",
       "      <td>0</td>\n",
       "      <td>0</td>\n",
       "    </tr>\n",
       "    <tr>\n",
       "      <th>FLAG_PHONE</th>\n",
       "      <td>0</td>\n",
       "      <td>0</td>\n",
       "      <td>0</td>\n",
       "      <td>1</td>\n",
       "      <td>1</td>\n",
       "    </tr>\n",
       "    <tr>\n",
       "      <th>FLAG_EMAIL</th>\n",
       "      <td>0</td>\n",
       "      <td>0</td>\n",
       "      <td>0</td>\n",
       "      <td>1</td>\n",
       "      <td>1</td>\n",
       "    </tr>\n",
       "    <tr>\n",
       "      <th>OCCUPATION_TYPE</th>\n",
       "      <td>NaN</td>\n",
       "      <td>NaN</td>\n",
       "      <td>Security staff</td>\n",
       "      <td>Sales staff</td>\n",
       "      <td>Sales staff</td>\n",
       "    </tr>\n",
       "    <tr>\n",
       "      <th>CNT_FAM_MEMBERS</th>\n",
       "      <td>2</td>\n",
       "      <td>2</td>\n",
       "      <td>2</td>\n",
       "      <td>1</td>\n",
       "      <td>1</td>\n",
       "    </tr>\n",
       "  </tbody>\n",
       "</table>\n",
       "</div>"
      ],
      "text/plain": [
       "ID                            5008804           5008805  \\\n",
       "CODE_GENDER                         M                 M   \n",
       "FLAG_OWN_CAR                        Y                 Y   \n",
       "FLAG_OWN_REALTY                     Y                 Y   \n",
       "CNT_CHILDREN                        0                 0   \n",
       "AMT_INCOME_TOTAL               427500            427500   \n",
       "NAME_INCOME_TYPE              Working           Working   \n",
       "NAME_EDUCATION_TYPE  Higher education  Higher education   \n",
       "NAME_FAMILY_STATUS     Civil marriage    Civil marriage   \n",
       "NAME_HOUSING_TYPE    Rented apartment  Rented apartment   \n",
       "DAYS_BIRTH                     -12005            -12005   \n",
       "DAYS_EMPLOYED                   -4542             -4542   \n",
       "FLAG_MOBIL                          1                 1   \n",
       "FLAG_WORK_PHONE                     1                 1   \n",
       "FLAG_PHONE                          0                 0   \n",
       "FLAG_EMAIL                          0                 0   \n",
       "OCCUPATION_TYPE                   NaN               NaN   \n",
       "CNT_FAM_MEMBERS                     2                 2   \n",
       "\n",
       "ID                                         5008806  \\\n",
       "CODE_GENDER                                      M   \n",
       "FLAG_OWN_CAR                                     Y   \n",
       "FLAG_OWN_REALTY                                  Y   \n",
       "CNT_CHILDREN                                     0   \n",
       "AMT_INCOME_TOTAL                            112500   \n",
       "NAME_INCOME_TYPE                           Working   \n",
       "NAME_EDUCATION_TYPE  Secondary / secondary special   \n",
       "NAME_FAMILY_STATUS                         Married   \n",
       "NAME_HOUSING_TYPE                House / apartment   \n",
       "DAYS_BIRTH                                  -21474   \n",
       "DAYS_EMPLOYED                                -1134   \n",
       "FLAG_MOBIL                                       1   \n",
       "FLAG_WORK_PHONE                                  0   \n",
       "FLAG_PHONE                                       0   \n",
       "FLAG_EMAIL                                       0   \n",
       "OCCUPATION_TYPE                     Security staff   \n",
       "CNT_FAM_MEMBERS                                  2   \n",
       "\n",
       "ID                                         5008808  \\\n",
       "CODE_GENDER                                      F   \n",
       "FLAG_OWN_CAR                                     N   \n",
       "FLAG_OWN_REALTY                                  Y   \n",
       "CNT_CHILDREN                                     0   \n",
       "AMT_INCOME_TOTAL                            270000   \n",
       "NAME_INCOME_TYPE              Commercial associate   \n",
       "NAME_EDUCATION_TYPE  Secondary / secondary special   \n",
       "NAME_FAMILY_STATUS            Single / not married   \n",
       "NAME_HOUSING_TYPE                House / apartment   \n",
       "DAYS_BIRTH                                  -19110   \n",
       "DAYS_EMPLOYED                                -3051   \n",
       "FLAG_MOBIL                                       1   \n",
       "FLAG_WORK_PHONE                                  0   \n",
       "FLAG_PHONE                                       1   \n",
       "FLAG_EMAIL                                       1   \n",
       "OCCUPATION_TYPE                        Sales staff   \n",
       "CNT_FAM_MEMBERS                                  1   \n",
       "\n",
       "ID                                         5008809  \n",
       "CODE_GENDER                                      F  \n",
       "FLAG_OWN_CAR                                     N  \n",
       "FLAG_OWN_REALTY                                  Y  \n",
       "CNT_CHILDREN                                     0  \n",
       "AMT_INCOME_TOTAL                            270000  \n",
       "NAME_INCOME_TYPE              Commercial associate  \n",
       "NAME_EDUCATION_TYPE  Secondary / secondary special  \n",
       "NAME_FAMILY_STATUS            Single / not married  \n",
       "NAME_HOUSING_TYPE                House / apartment  \n",
       "DAYS_BIRTH                                  -19110  \n",
       "DAYS_EMPLOYED                                -3051  \n",
       "FLAG_MOBIL                                       1  \n",
       "FLAG_WORK_PHONE                                  0  \n",
       "FLAG_PHONE                                       1  \n",
       "FLAG_EMAIL                                       1  \n",
       "OCCUPATION_TYPE                        Sales staff  \n",
       "CNT_FAM_MEMBERS                                  1  "
      ]
     },
     "execution_count": 4,
     "metadata": {},
     "output_type": "execute_result"
    }
   ],
   "source": [
    "appl_df.head().T"
   ]
  },
  {
   "cell_type": "code",
   "execution_count": 5,
   "metadata": {
    "execution": {
     "iopub.execute_input": "2020-10-28T08:13:23.065973Z",
     "iopub.status.busy": "2020-10-28T08:13:23.065128Z",
     "iopub.status.idle": "2020-10-28T08:13:23.081560Z",
     "shell.execute_reply": "2020-10-28T08:13:23.080889Z"
    },
    "papermill": {
     "duration": 0.151858,
     "end_time": "2020-10-28T08:13:23.081723",
     "exception": false,
     "start_time": "2020-10-28T08:13:22.929865",
     "status": "completed"
    },
    "tags": []
   },
   "outputs": [
    {
     "data": {
      "text/html": [
       "<div>\n",
       "<style scoped>\n",
       "    .dataframe tbody tr th:only-of-type {\n",
       "        vertical-align: middle;\n",
       "    }\n",
       "\n",
       "    .dataframe tbody tr th {\n",
       "        vertical-align: top;\n",
       "    }\n",
       "\n",
       "    .dataframe thead th {\n",
       "        text-align: right;\n",
       "    }\n",
       "</style>\n",
       "<table border=\"1\" class=\"dataframe\">\n",
       "  <thead>\n",
       "    <tr style=\"text-align: right;\">\n",
       "      <th>ID</th>\n",
       "      <th>5001711</th>\n",
       "      <th>5001711</th>\n",
       "      <th>5001711</th>\n",
       "      <th>5001711</th>\n",
       "      <th>5001712</th>\n",
       "    </tr>\n",
       "  </thead>\n",
       "  <tbody>\n",
       "    <tr>\n",
       "      <th>MONTHS_BALANCE</th>\n",
       "      <td>0</td>\n",
       "      <td>-1</td>\n",
       "      <td>-2</td>\n",
       "      <td>-3</td>\n",
       "      <td>0</td>\n",
       "    </tr>\n",
       "    <tr>\n",
       "      <th>STATUS</th>\n",
       "      <td>X</td>\n",
       "      <td>0</td>\n",
       "      <td>0</td>\n",
       "      <td>0</td>\n",
       "      <td>C</td>\n",
       "    </tr>\n",
       "  </tbody>\n",
       "</table>\n",
       "</div>"
      ],
      "text/plain": [
       "ID             5001711 5001711 5001711 5001711 5001712\n",
       "MONTHS_BALANCE       0      -1      -2      -3       0\n",
       "STATUS               X       0       0       0       C"
      ]
     },
     "execution_count": 5,
     "metadata": {},
     "output_type": "execute_result"
    }
   ],
   "source": [
    "cred_df.head().T"
   ]
  },
  {
   "cell_type": "code",
   "execution_count": 6,
   "metadata": {
    "execution": {
     "iopub.execute_input": "2020-10-28T08:13:23.322298Z",
     "iopub.status.busy": "2020-10-28T08:13:23.321521Z",
     "iopub.status.idle": "2020-10-28T08:13:23.752534Z",
     "shell.execute_reply": "2020-10-28T08:13:23.751440Z"
    },
    "papermill": {
     "duration": 0.555105,
     "end_time": "2020-10-28T08:13:23.752779",
     "exception": false,
     "start_time": "2020-10-28T08:13:23.197674",
     "status": "completed"
    },
    "tags": []
   },
   "outputs": [
    {
     "name": "stdout",
     "output_type": "stream",
     "text": [
      "(438557, 17)\n",
      "\n",
      "<class 'pandas.core.frame.DataFrame'>\n",
      "Int64Index: 438557 entries, 5008804 to 6842885\n",
      "Data columns (total 17 columns):\n",
      " #   Column               Non-Null Count   Dtype  \n",
      "---  ------               --------------   -----  \n",
      " 0   CODE_GENDER          438557 non-null  object \n",
      " 1   FLAG_OWN_CAR         438557 non-null  object \n",
      " 2   FLAG_OWN_REALTY      438557 non-null  object \n",
      " 3   CNT_CHILDREN         438557 non-null  int64  \n",
      " 4   AMT_INCOME_TOTAL     438557 non-null  float64\n",
      " 5   NAME_INCOME_TYPE     438557 non-null  object \n",
      " 6   NAME_EDUCATION_TYPE  438557 non-null  object \n",
      " 7   NAME_FAMILY_STATUS   438557 non-null  object \n",
      " 8   NAME_HOUSING_TYPE    438557 non-null  object \n",
      " 9   DAYS_BIRTH           438557 non-null  int64  \n",
      " 10  DAYS_EMPLOYED        438557 non-null  int64  \n",
      " 11  FLAG_MOBIL           438557 non-null  int64  \n",
      " 12  FLAG_WORK_PHONE      438557 non-null  int64  \n",
      " 13  FLAG_PHONE           438557 non-null  int64  \n",
      " 14  FLAG_EMAIL           438557 non-null  int64  \n",
      " 15  OCCUPATION_TYPE      304354 non-null  object \n",
      " 16  CNT_FAM_MEMBERS      438557 non-null  float64\n",
      "dtypes: float64(2), int64(7), object(8)\n",
      "memory usage: 60.2+ MB\n"
     ]
    }
   ],
   "source": [
    "print( appl_df.shape )\n",
    "print('')\n",
    "appl_df.info()"
   ]
  },
  {
   "cell_type": "code",
   "execution_count": 7,
   "metadata": {
    "execution": {
     "iopub.execute_input": "2020-10-28T08:13:24.005424Z",
     "iopub.status.busy": "2020-10-28T08:13:24.004397Z",
     "iopub.status.idle": "2020-10-28T08:13:24.009659Z",
     "shell.execute_reply": "2020-10-28T08:13:24.010284Z"
    },
    "papermill": {
     "duration": 0.13885,
     "end_time": "2020-10-28T08:13:24.010536",
     "exception": false,
     "start_time": "2020-10-28T08:13:23.871686",
     "status": "completed"
    },
    "tags": []
   },
   "outputs": [
    {
     "name": "stdout",
     "output_type": "stream",
     "text": [
      "(1048575, 2)\n",
      "\n",
      "<class 'pandas.core.frame.DataFrame'>\n",
      "Int64Index: 1048575 entries, 5001711 to 5150487\n",
      "Data columns (total 2 columns):\n",
      " #   Column          Non-Null Count    Dtype \n",
      "---  ------          --------------    ----- \n",
      " 0   MONTHS_BALANCE  1048575 non-null  int64 \n",
      " 1   STATUS          1048575 non-null  object\n",
      "dtypes: int64(1), object(1)\n",
      "memory usage: 24.0+ MB\n"
     ]
    }
   ],
   "source": [
    "print( cred_df.shape )\n",
    "print('')\n",
    "cred_df.info()"
   ]
  },
  {
   "cell_type": "markdown",
   "metadata": {
    "papermill": {
     "duration": 0.116839,
     "end_time": "2020-10-28T08:13:24.254204",
     "exception": false,
     "start_time": "2020-10-28T08:13:24.137365",
     "status": "completed"
    },
    "tags": []
   },
   "source": [
    "# Data Cleaning"
   ]
  },
  {
   "cell_type": "markdown",
   "metadata": {
    "papermill": {
     "duration": 0.115676,
     "end_time": "2020-10-28T08:13:24.484084",
     "exception": false,
     "start_time": "2020-10-28T08:13:24.368408",
     "status": "completed"
    },
    "tags": []
   },
   "source": [
    "## Removing duplicated data\n",
    "In appl_df, althought there are different customer ID's, there is equal information over some disticnt ID values.  \n",
    "An example of this is the customers with ID's 5008804 and 5008805:"
   ]
  },
  {
   "cell_type": "code",
   "execution_count": 8,
   "metadata": {
    "execution": {
     "iopub.execute_input": "2020-10-28T08:13:24.718598Z",
     "iopub.status.busy": "2020-10-28T08:13:24.717667Z",
     "iopub.status.idle": "2020-10-28T08:13:24.899070Z",
     "shell.execute_reply": "2020-10-28T08:13:24.898156Z"
    },
    "papermill": {
     "duration": 0.301476,
     "end_time": "2020-10-28T08:13:24.899220",
     "exception": false,
     "start_time": "2020-10-28T08:13:24.597744",
     "status": "completed"
    },
    "tags": []
   },
   "outputs": [
    {
     "data": {
      "text/html": [
       "<div>\n",
       "<style scoped>\n",
       "    .dataframe tbody tr th:only-of-type {\n",
       "        vertical-align: middle;\n",
       "    }\n",
       "\n",
       "    .dataframe tbody tr th {\n",
       "        vertical-align: top;\n",
       "    }\n",
       "\n",
       "    .dataframe thead th {\n",
       "        text-align: right;\n",
       "    }\n",
       "</style>\n",
       "<table border=\"1\" class=\"dataframe\">\n",
       "  <thead>\n",
       "    <tr style=\"text-align: right;\">\n",
       "      <th>ID</th>\n",
       "      <th>5008804</th>\n",
       "      <th>5008805</th>\n",
       "    </tr>\n",
       "  </thead>\n",
       "  <tbody>\n",
       "    <tr>\n",
       "      <th>CODE_GENDER</th>\n",
       "      <td>M</td>\n",
       "      <td>M</td>\n",
       "    </tr>\n",
       "    <tr>\n",
       "      <th>FLAG_OWN_CAR</th>\n",
       "      <td>Y</td>\n",
       "      <td>Y</td>\n",
       "    </tr>\n",
       "    <tr>\n",
       "      <th>FLAG_OWN_REALTY</th>\n",
       "      <td>Y</td>\n",
       "      <td>Y</td>\n",
       "    </tr>\n",
       "    <tr>\n",
       "      <th>CNT_CHILDREN</th>\n",
       "      <td>0</td>\n",
       "      <td>0</td>\n",
       "    </tr>\n",
       "    <tr>\n",
       "      <th>AMT_INCOME_TOTAL</th>\n",
       "      <td>427500</td>\n",
       "      <td>427500</td>\n",
       "    </tr>\n",
       "    <tr>\n",
       "      <th>NAME_INCOME_TYPE</th>\n",
       "      <td>Working</td>\n",
       "      <td>Working</td>\n",
       "    </tr>\n",
       "    <tr>\n",
       "      <th>NAME_EDUCATION_TYPE</th>\n",
       "      <td>Higher education</td>\n",
       "      <td>Higher education</td>\n",
       "    </tr>\n",
       "    <tr>\n",
       "      <th>NAME_FAMILY_STATUS</th>\n",
       "      <td>Civil marriage</td>\n",
       "      <td>Civil marriage</td>\n",
       "    </tr>\n",
       "    <tr>\n",
       "      <th>NAME_HOUSING_TYPE</th>\n",
       "      <td>Rented apartment</td>\n",
       "      <td>Rented apartment</td>\n",
       "    </tr>\n",
       "    <tr>\n",
       "      <th>DAYS_BIRTH</th>\n",
       "      <td>-12005</td>\n",
       "      <td>-12005</td>\n",
       "    </tr>\n",
       "    <tr>\n",
       "      <th>DAYS_EMPLOYED</th>\n",
       "      <td>-4542</td>\n",
       "      <td>-4542</td>\n",
       "    </tr>\n",
       "    <tr>\n",
       "      <th>FLAG_MOBIL</th>\n",
       "      <td>1</td>\n",
       "      <td>1</td>\n",
       "    </tr>\n",
       "    <tr>\n",
       "      <th>FLAG_WORK_PHONE</th>\n",
       "      <td>1</td>\n",
       "      <td>1</td>\n",
       "    </tr>\n",
       "    <tr>\n",
       "      <th>FLAG_PHONE</th>\n",
       "      <td>0</td>\n",
       "      <td>0</td>\n",
       "    </tr>\n",
       "    <tr>\n",
       "      <th>FLAG_EMAIL</th>\n",
       "      <td>0</td>\n",
       "      <td>0</td>\n",
       "    </tr>\n",
       "    <tr>\n",
       "      <th>OCCUPATION_TYPE</th>\n",
       "      <td>NaN</td>\n",
       "      <td>NaN</td>\n",
       "    </tr>\n",
       "    <tr>\n",
       "      <th>CNT_FAM_MEMBERS</th>\n",
       "      <td>2</td>\n",
       "      <td>2</td>\n",
       "    </tr>\n",
       "  </tbody>\n",
       "</table>\n",
       "</div>"
      ],
      "text/plain": [
       "ID                            5008804           5008805\n",
       "CODE_GENDER                         M                 M\n",
       "FLAG_OWN_CAR                        Y                 Y\n",
       "FLAG_OWN_REALTY                     Y                 Y\n",
       "CNT_CHILDREN                        0                 0\n",
       "AMT_INCOME_TOTAL               427500            427500\n",
       "NAME_INCOME_TYPE              Working           Working\n",
       "NAME_EDUCATION_TYPE  Higher education  Higher education\n",
       "NAME_FAMILY_STATUS     Civil marriage    Civil marriage\n",
       "NAME_HOUSING_TYPE    Rented apartment  Rented apartment\n",
       "DAYS_BIRTH                     -12005            -12005\n",
       "DAYS_EMPLOYED                   -4542             -4542\n",
       "FLAG_MOBIL                          1                 1\n",
       "FLAG_WORK_PHONE                     1                 1\n",
       "FLAG_PHONE                          0                 0\n",
       "FLAG_EMAIL                          0                 0\n",
       "OCCUPATION_TYPE                   NaN               NaN\n",
       "CNT_FAM_MEMBERS                     2                 2"
      ]
     },
     "execution_count": 8,
     "metadata": {},
     "output_type": "execute_result"
    }
   ],
   "source": [
    "appl_df.loc[[5008804, 5008805]].T"
   ]
  },
  {
   "cell_type": "markdown",
   "metadata": {
    "papermill": {
     "duration": 0.129079,
     "end_time": "2020-10-28T08:13:25.165339",
     "exception": false,
     "start_time": "2020-10-28T08:13:25.036260",
     "status": "completed"
    },
    "tags": []
   },
   "source": [
    "Using drop_duplicates in this case it's not possible, since there might be cases where one duplicate ID in application dataset might not be duplicated in credit records dataset.  \n",
    "So we need to account ID's common to both dataframes \n"
   ]
  },
  {
   "cell_type": "code",
   "execution_count": 9,
   "metadata": {
    "execution": {
     "iopub.execute_input": "2020-10-28T08:13:25.584835Z",
     "iopub.status.busy": "2020-10-28T08:13:25.577983Z",
     "iopub.status.idle": "2020-10-28T08:13:25.593631Z",
     "shell.execute_reply": "2020-10-28T08:13:25.592778Z"
    },
    "papermill": {
     "duration": 0.312069,
     "end_time": "2020-10-28T08:13:25.593787",
     "exception": false,
     "start_time": "2020-10-28T08:13:25.281718",
     "status": "completed"
    },
    "tags": []
   },
   "outputs": [
    {
     "data": {
      "text/plain": [
       "36457"
      ]
     },
     "execution_count": 9,
     "metadata": {},
     "output_type": "execute_result"
    }
   ],
   "source": [
    "valid_indexes = list( set(appl_df.index).intersection(set(cred_df.index)) ) \n",
    "len( valid_indexes )"
   ]
  },
  {
   "cell_type": "markdown",
   "metadata": {
    "papermill": {
     "duration": 0.121546,
     "end_time": "2020-10-28T08:13:25.840296",
     "exception": false,
     "start_time": "2020-10-28T08:13:25.718750",
     "status": "completed"
    },
    "tags": []
   },
   "source": [
    "Filtering both dataframes by common indexes"
   ]
  },
  {
   "cell_type": "code",
   "execution_count": 10,
   "metadata": {
    "execution": {
     "iopub.execute_input": "2020-10-28T08:13:26.105131Z",
     "iopub.status.busy": "2020-10-28T08:13:26.104091Z",
     "iopub.status.idle": "2020-10-28T08:13:26.109621Z",
     "shell.execute_reply": "2020-10-28T08:13:26.108996Z"
    },
    "papermill": {
     "duration": 0.150743,
     "end_time": "2020-10-28T08:13:26.109769",
     "exception": false,
     "start_time": "2020-10-28T08:13:25.959026",
     "status": "completed"
    },
    "tags": []
   },
   "outputs": [],
   "source": [
    "#appl_df_clean =  appl_df.loc[valid_indexes]\n",
    "#cred_df_clean = cred_df.loc[valid_indexes]\n",
    "\n",
    "appl_df = appl_df.loc[valid_indexes]\n",
    "cred_df = cred_df.loc[valid_indexes]"
   ]
  },
  {
   "cell_type": "code",
   "execution_count": 11,
   "metadata": {
    "execution": {
     "iopub.execute_input": "2020-10-28T08:13:26.424427Z",
     "iopub.status.busy": "2020-10-28T08:13:26.423571Z",
     "iopub.status.idle": "2020-10-28T08:13:26.430182Z",
     "shell.execute_reply": "2020-10-28T08:13:26.429406Z"
    },
    "papermill": {
     "duration": 0.145364,
     "end_time": "2020-10-28T08:13:26.430332",
     "exception": false,
     "start_time": "2020-10-28T08:13:26.284968",
     "status": "completed"
    },
    "tags": []
   },
   "outputs": [
    {
     "name": "stdout",
     "output_type": "stream",
     "text": [
      "(36457, 17)\n",
      "\n"
     ]
    },
    {
     "data": {
      "text/html": [
       "<div>\n",
       "<style scoped>\n",
       "    .dataframe tbody tr th:only-of-type {\n",
       "        vertical-align: middle;\n",
       "    }\n",
       "\n",
       "    .dataframe tbody tr th {\n",
       "        vertical-align: top;\n",
       "    }\n",
       "\n",
       "    .dataframe thead th {\n",
       "        text-align: right;\n",
       "    }\n",
       "</style>\n",
       "<table border=\"1\" class=\"dataframe\">\n",
       "  <thead>\n",
       "    <tr style=\"text-align: right;\">\n",
       "      <th>ID</th>\n",
       "      <th>5112591</th>\n",
       "      <th>5112592</th>\n",
       "      <th>5112593</th>\n",
       "      <th>5112594</th>\n",
       "      <th>5112597</th>\n",
       "    </tr>\n",
       "  </thead>\n",
       "  <tbody>\n",
       "    <tr>\n",
       "      <th>CODE_GENDER</th>\n",
       "      <td>F</td>\n",
       "      <td>F</td>\n",
       "      <td>F</td>\n",
       "      <td>F</td>\n",
       "      <td>F</td>\n",
       "    </tr>\n",
       "    <tr>\n",
       "      <th>FLAG_OWN_CAR</th>\n",
       "      <td>N</td>\n",
       "      <td>N</td>\n",
       "      <td>N</td>\n",
       "      <td>N</td>\n",
       "      <td>N</td>\n",
       "    </tr>\n",
       "    <tr>\n",
       "      <th>FLAG_OWN_REALTY</th>\n",
       "      <td>Y</td>\n",
       "      <td>Y</td>\n",
       "      <td>Y</td>\n",
       "      <td>Y</td>\n",
       "      <td>Y</td>\n",
       "    </tr>\n",
       "    <tr>\n",
       "      <th>CNT_CHILDREN</th>\n",
       "      <td>0</td>\n",
       "      <td>0</td>\n",
       "      <td>0</td>\n",
       "      <td>0</td>\n",
       "      <td>0</td>\n",
       "    </tr>\n",
       "    <tr>\n",
       "      <th>AMT_INCOME_TOTAL</th>\n",
       "      <td>103500</td>\n",
       "      <td>103500</td>\n",
       "      <td>103500</td>\n",
       "      <td>103500</td>\n",
       "      <td>103500</td>\n",
       "    </tr>\n",
       "    <tr>\n",
       "      <th>NAME_INCOME_TYPE</th>\n",
       "      <td>Working</td>\n",
       "      <td>Working</td>\n",
       "      <td>Working</td>\n",
       "      <td>Working</td>\n",
       "      <td>Working</td>\n",
       "    </tr>\n",
       "    <tr>\n",
       "      <th>NAME_EDUCATION_TYPE</th>\n",
       "      <td>Secondary / secondary special</td>\n",
       "      <td>Secondary / secondary special</td>\n",
       "      <td>Secondary / secondary special</td>\n",
       "      <td>Secondary / secondary special</td>\n",
       "      <td>Secondary / secondary special</td>\n",
       "    </tr>\n",
       "    <tr>\n",
       "      <th>NAME_FAMILY_STATUS</th>\n",
       "      <td>Married</td>\n",
       "      <td>Married</td>\n",
       "      <td>Married</td>\n",
       "      <td>Married</td>\n",
       "      <td>Married</td>\n",
       "    </tr>\n",
       "    <tr>\n",
       "      <th>NAME_HOUSING_TYPE</th>\n",
       "      <td>House / apartment</td>\n",
       "      <td>House / apartment</td>\n",
       "      <td>House / apartment</td>\n",
       "      <td>House / apartment</td>\n",
       "      <td>House / apartment</td>\n",
       "    </tr>\n",
       "    <tr>\n",
       "      <th>DAYS_BIRTH</th>\n",
       "      <td>-22466</td>\n",
       "      <td>-22466</td>\n",
       "      <td>-22466</td>\n",
       "      <td>-22466</td>\n",
       "      <td>-22466</td>\n",
       "    </tr>\n",
       "    <tr>\n",
       "      <th>DAYS_EMPLOYED</th>\n",
       "      <td>-12870</td>\n",
       "      <td>-12870</td>\n",
       "      <td>-12870</td>\n",
       "      <td>-12870</td>\n",
       "      <td>-12870</td>\n",
       "    </tr>\n",
       "    <tr>\n",
       "      <th>FLAG_MOBIL</th>\n",
       "      <td>1</td>\n",
       "      <td>1</td>\n",
       "      <td>1</td>\n",
       "      <td>1</td>\n",
       "      <td>1</td>\n",
       "    </tr>\n",
       "    <tr>\n",
       "      <th>FLAG_WORK_PHONE</th>\n",
       "      <td>1</td>\n",
       "      <td>1</td>\n",
       "      <td>1</td>\n",
       "      <td>1</td>\n",
       "      <td>1</td>\n",
       "    </tr>\n",
       "    <tr>\n",
       "      <th>FLAG_PHONE</th>\n",
       "      <td>1</td>\n",
       "      <td>1</td>\n",
       "      <td>1</td>\n",
       "      <td>1</td>\n",
       "      <td>1</td>\n",
       "    </tr>\n",
       "    <tr>\n",
       "      <th>FLAG_EMAIL</th>\n",
       "      <td>0</td>\n",
       "      <td>0</td>\n",
       "      <td>0</td>\n",
       "      <td>0</td>\n",
       "      <td>0</td>\n",
       "    </tr>\n",
       "    <tr>\n",
       "      <th>OCCUPATION_TYPE</th>\n",
       "      <td>Managers</td>\n",
       "      <td>Managers</td>\n",
       "      <td>Managers</td>\n",
       "      <td>Managers</td>\n",
       "      <td>Managers</td>\n",
       "    </tr>\n",
       "    <tr>\n",
       "      <th>CNT_FAM_MEMBERS</th>\n",
       "      <td>2</td>\n",
       "      <td>2</td>\n",
       "      <td>2</td>\n",
       "      <td>2</td>\n",
       "      <td>2</td>\n",
       "    </tr>\n",
       "  </tbody>\n",
       "</table>\n",
       "</div>"
      ],
      "text/plain": [
       "ID                                         5112591  \\\n",
       "CODE_GENDER                                      F   \n",
       "FLAG_OWN_CAR                                     N   \n",
       "FLAG_OWN_REALTY                                  Y   \n",
       "CNT_CHILDREN                                     0   \n",
       "AMT_INCOME_TOTAL                            103500   \n",
       "NAME_INCOME_TYPE                           Working   \n",
       "NAME_EDUCATION_TYPE  Secondary / secondary special   \n",
       "NAME_FAMILY_STATUS                         Married   \n",
       "NAME_HOUSING_TYPE                House / apartment   \n",
       "DAYS_BIRTH                                  -22466   \n",
       "DAYS_EMPLOYED                               -12870   \n",
       "FLAG_MOBIL                                       1   \n",
       "FLAG_WORK_PHONE                                  1   \n",
       "FLAG_PHONE                                       1   \n",
       "FLAG_EMAIL                                       0   \n",
       "OCCUPATION_TYPE                           Managers   \n",
       "CNT_FAM_MEMBERS                                  2   \n",
       "\n",
       "ID                                         5112592  \\\n",
       "CODE_GENDER                                      F   \n",
       "FLAG_OWN_CAR                                     N   \n",
       "FLAG_OWN_REALTY                                  Y   \n",
       "CNT_CHILDREN                                     0   \n",
       "AMT_INCOME_TOTAL                            103500   \n",
       "NAME_INCOME_TYPE                           Working   \n",
       "NAME_EDUCATION_TYPE  Secondary / secondary special   \n",
       "NAME_FAMILY_STATUS                         Married   \n",
       "NAME_HOUSING_TYPE                House / apartment   \n",
       "DAYS_BIRTH                                  -22466   \n",
       "DAYS_EMPLOYED                               -12870   \n",
       "FLAG_MOBIL                                       1   \n",
       "FLAG_WORK_PHONE                                  1   \n",
       "FLAG_PHONE                                       1   \n",
       "FLAG_EMAIL                                       0   \n",
       "OCCUPATION_TYPE                           Managers   \n",
       "CNT_FAM_MEMBERS                                  2   \n",
       "\n",
       "ID                                         5112593  \\\n",
       "CODE_GENDER                                      F   \n",
       "FLAG_OWN_CAR                                     N   \n",
       "FLAG_OWN_REALTY                                  Y   \n",
       "CNT_CHILDREN                                     0   \n",
       "AMT_INCOME_TOTAL                            103500   \n",
       "NAME_INCOME_TYPE                           Working   \n",
       "NAME_EDUCATION_TYPE  Secondary / secondary special   \n",
       "NAME_FAMILY_STATUS                         Married   \n",
       "NAME_HOUSING_TYPE                House / apartment   \n",
       "DAYS_BIRTH                                  -22466   \n",
       "DAYS_EMPLOYED                               -12870   \n",
       "FLAG_MOBIL                                       1   \n",
       "FLAG_WORK_PHONE                                  1   \n",
       "FLAG_PHONE                                       1   \n",
       "FLAG_EMAIL                                       0   \n",
       "OCCUPATION_TYPE                           Managers   \n",
       "CNT_FAM_MEMBERS                                  2   \n",
       "\n",
       "ID                                         5112594  \\\n",
       "CODE_GENDER                                      F   \n",
       "FLAG_OWN_CAR                                     N   \n",
       "FLAG_OWN_REALTY                                  Y   \n",
       "CNT_CHILDREN                                     0   \n",
       "AMT_INCOME_TOTAL                            103500   \n",
       "NAME_INCOME_TYPE                           Working   \n",
       "NAME_EDUCATION_TYPE  Secondary / secondary special   \n",
       "NAME_FAMILY_STATUS                         Married   \n",
       "NAME_HOUSING_TYPE                House / apartment   \n",
       "DAYS_BIRTH                                  -22466   \n",
       "DAYS_EMPLOYED                               -12870   \n",
       "FLAG_MOBIL                                       1   \n",
       "FLAG_WORK_PHONE                                  1   \n",
       "FLAG_PHONE                                       1   \n",
       "FLAG_EMAIL                                       0   \n",
       "OCCUPATION_TYPE                           Managers   \n",
       "CNT_FAM_MEMBERS                                  2   \n",
       "\n",
       "ID                                         5112597  \n",
       "CODE_GENDER                                      F  \n",
       "FLAG_OWN_CAR                                     N  \n",
       "FLAG_OWN_REALTY                                  Y  \n",
       "CNT_CHILDREN                                     0  \n",
       "AMT_INCOME_TOTAL                            103500  \n",
       "NAME_INCOME_TYPE                           Working  \n",
       "NAME_EDUCATION_TYPE  Secondary / secondary special  \n",
       "NAME_FAMILY_STATUS                         Married  \n",
       "NAME_HOUSING_TYPE                House / apartment  \n",
       "DAYS_BIRTH                                  -22466  \n",
       "DAYS_EMPLOYED                               -12870  \n",
       "FLAG_MOBIL                                       1  \n",
       "FLAG_WORK_PHONE                                  1  \n",
       "FLAG_PHONE                                       1  \n",
       "FLAG_EMAIL                                       0  \n",
       "OCCUPATION_TYPE                           Managers  \n",
       "CNT_FAM_MEMBERS                                  2  "
      ]
     },
     "execution_count": 11,
     "metadata": {},
     "output_type": "execute_result"
    }
   ],
   "source": [
    "print(appl_df.shape)\n",
    "print('')\n",
    "appl_df.head().T"
   ]
  },
  {
   "cell_type": "markdown",
   "metadata": {
    "papermill": {
     "duration": 0.122219,
     "end_time": "2020-10-28T08:13:26.678032",
     "exception": false,
     "start_time": "2020-10-28T08:13:26.555813",
     "status": "completed"
    },
    "tags": []
   },
   "source": [
    "Adding a unique customer ID in appl_df"
   ]
  },
  {
   "cell_type": "code",
   "execution_count": 12,
   "metadata": {
    "execution": {
     "iopub.execute_input": "2020-10-28T08:13:26.945687Z",
     "iopub.status.busy": "2020-10-28T08:13:26.937527Z",
     "iopub.status.idle": "2020-10-28T08:13:33.546593Z",
     "shell.execute_reply": "2020-10-28T08:13:33.545692Z"
    },
    "papermill": {
     "duration": 6.740351,
     "end_time": "2020-10-28T08:13:33.546760",
     "exception": false,
     "start_time": "2020-10-28T08:13:26.806409",
     "status": "completed"
    },
    "tags": []
   },
   "outputs": [],
   "source": [
    "appl_df_clean = appl_df.sort_values(by = appl_df.columns.to_list()) #safety step - performance doesen't seem to be affected that much.\n",
    "grouped_cust = appl_df.sum(axis=1).map(hash).reset_index().rename(columns={0:'customer_id'})\n",
    "\n",
    "id_counts_df = pd.DataFrame( grouped_cust.groupby('customer_id').size().sort_values(ascending=False), columns = ['id_count'] )\n",
    "appl_df_clean['cust_id'] = appl_df.sum(axis=1).map(hash)"
   ]
  },
  {
   "cell_type": "markdown",
   "metadata": {
    "papermill": {
     "duration": 0.175309,
     "end_time": "2020-10-28T08:13:34.149171",
     "exception": false,
     "start_time": "2020-10-28T08:13:33.973862",
     "status": "completed"
    },
    "tags": []
   },
   "source": [
    "Adding the same unique customer ID to cred_df"
   ]
  },
  {
   "cell_type": "code",
   "execution_count": 13,
   "metadata": {
    "execution": {
     "iopub.execute_input": "2020-10-28T08:13:34.499038Z",
     "iopub.status.busy": "2020-10-28T08:13:34.497854Z",
     "iopub.status.idle": "2020-10-28T08:13:34.533044Z",
     "shell.execute_reply": "2020-10-28T08:13:34.531340Z"
    },
    "papermill": {
     "duration": 0.233161,
     "end_time": "2020-10-28T08:13:34.533454",
     "exception": false,
     "start_time": "2020-10-28T08:13:34.300293",
     "status": "completed"
    },
    "tags": []
   },
   "outputs": [
    {
     "data": {
      "text/html": [
       "<div>\n",
       "<style scoped>\n",
       "    .dataframe tbody tr th:only-of-type {\n",
       "        vertical-align: middle;\n",
       "    }\n",
       "\n",
       "    .dataframe tbody tr th {\n",
       "        vertical-align: top;\n",
       "    }\n",
       "\n",
       "    .dataframe thead th {\n",
       "        text-align: right;\n",
       "    }\n",
       "</style>\n",
       "<table border=\"1\" class=\"dataframe\">\n",
       "  <thead>\n",
       "    <tr style=\"text-align: right;\">\n",
       "      <th></th>\n",
       "      <th>customer_id</th>\n",
       "      <th>interaction_ID</th>\n",
       "      <th>MONTHS_BALANCE</th>\n",
       "      <th>STATUS</th>\n",
       "    </tr>\n",
       "  </thead>\n",
       "  <tbody>\n",
       "    <tr>\n",
       "      <th>0</th>\n",
       "      <td>6009</td>\n",
       "      <td>1</td>\n",
       "      <td>0</td>\n",
       "      <td>X</td>\n",
       "    </tr>\n",
       "    <tr>\n",
       "      <th>1</th>\n",
       "      <td>6009</td>\n",
       "      <td>1</td>\n",
       "      <td>-1</td>\n",
       "      <td>X</td>\n",
       "    </tr>\n",
       "    <tr>\n",
       "      <th>2</th>\n",
       "      <td>6009</td>\n",
       "      <td>1</td>\n",
       "      <td>-2</td>\n",
       "      <td>X</td>\n",
       "    </tr>\n",
       "    <tr>\n",
       "      <th>3</th>\n",
       "      <td>6009</td>\n",
       "      <td>1</td>\n",
       "      <td>-3</td>\n",
       "      <td>X</td>\n",
       "    </tr>\n",
       "    <tr>\n",
       "      <th>4</th>\n",
       "      <td>6009</td>\n",
       "      <td>1</td>\n",
       "      <td>-4</td>\n",
       "      <td>X</td>\n",
       "    </tr>\n",
       "  </tbody>\n",
       "</table>\n",
       "</div>"
      ],
      "text/plain": [
       "   customer_id  interaction_ID  MONTHS_BALANCE STATUS\n",
       "0         6009               1               0      X\n",
       "1         6009               1              -1      X\n",
       "2         6009               1              -2      X\n",
       "3         6009               1              -3      X\n",
       "4         6009               1              -4      X"
      ]
     },
     "execution_count": 13,
     "metadata": {},
     "output_type": "execute_result"
    }
   ],
   "source": [
    "grouped_cust = grouped_cust.set_index('ID')\n",
    "cred_df_trsf = cred_df.merge(grouped_cust, how = 'inner', on = 'ID').reset_index()[['customer_id','ID', 'MONTHS_BALANCE', 'STATUS']]\n",
    "\n",
    "cred_df_g = cred_df_trsf.sort_values(by=['customer_id', 'ID', 'MONTHS_BALANCE'], ascending = [True, True, False]).reset_index(drop=True)\n",
    "cred_df_g['interaction_ID'] = cred_df_g.groupby(['customer_id','ID'], sort = False).ngroup().add(1) # not woring as I wanted, but it's good enough for what needs to be done\n",
    "cred_df_g.drop(columns = ['ID'], inplace=True)\n",
    "cred_df_g = cred_df_g[['customer_id', 'interaction_ID', 'MONTHS_BALANCE', 'STATUS']]\n",
    "cred_df_g.head()"
   ]
  },
  {
   "cell_type": "markdown",
   "metadata": {
    "papermill": {
     "duration": 0.131136,
     "end_time": "2020-10-28T08:13:34.842636",
     "exception": false,
     "start_time": "2020-10-28T08:13:34.711500",
     "status": "completed"
    },
    "tags": []
   },
   "source": [
    "Transforming cred_df in order to return a list of customers labeled by theyr behaviour type.  \n",
    "This will help with getting our Y label"
   ]
  },
  {
   "cell_type": "code",
   "execution_count": 14,
   "metadata": {
    "execution": {
     "iopub.execute_input": "2020-10-28T08:13:35.125987Z",
     "iopub.status.busy": "2020-10-28T08:13:35.120751Z",
     "iopub.status.idle": "2020-10-28T08:13:35.153681Z",
     "shell.execute_reply": "2020-10-28T08:13:35.152816Z"
    },
    "papermill": {
     "duration": 0.171252,
     "end_time": "2020-10-28T08:13:35.153839",
     "exception": false,
     "start_time": "2020-10-28T08:13:34.982587",
     "status": "completed"
    },
    "tags": []
   },
   "outputs": [
    {
     "name": "stdout",
     "output_type": "stream",
     "text": [
      "            month_behav  behav_kpi\n",
      "customer_id                       \n",
      "6009                  g      100.0\n",
      "6553                  g      100.0\n",
      "7068                  g      100.0\n",
      "7566                  g      100.0\n",
      "11709                 g      100.0\n"
     ]
    },
    {
     "name": "stderr",
     "output_type": "stream",
     "text": [
      "C:\\Users\\amitb\\anaconda3\\envs\\hello\\lib\\site-packages\\ipykernel_launcher.py:10: SettingWithCopyWarning: \n",
      "A value is trying to be set on a copy of a slice from a DataFrame.\n",
      "Try using .loc[row_indexer,col_indexer] = value instead\n",
      "\n",
      "See the caveats in the documentation: https://pandas.pydata.org/pandas-docs/stable/user_guide/indexing.html#returning-a-view-versus-a-copy\n",
      "  # Remove the CWD from sys.path while we load stuff.\n",
      "C:\\Users\\amitb\\anaconda3\\envs\\hello\\lib\\site-packages\\pandas\\core\\frame.py:4174: SettingWithCopyWarning: \n",
      "A value is trying to be set on a copy of a slice from a DataFrame\n",
      "\n",
      "See the caveats in the documentation: https://pandas.pydata.org/pandas-docs/stable/user_guide/indexing.html#returning-a-view-versus-a-copy\n",
      "  errors=errors,\n",
      "C:\\Users\\amitb\\anaconda3\\envs\\hello\\lib\\site-packages\\ipykernel_launcher.py:18: SettingWithCopyWarning: \n",
      "A value is trying to be set on a copy of a slice from a DataFrame.\n",
      "Try using .loc[row_indexer,col_indexer] = value instead\n",
      "\n",
      "See the caveats in the documentation: https://pandas.pydata.org/pandas-docs/stable/user_guide/indexing.html#returning-a-view-versus-a-copy\n",
      "C:\\Users\\amitb\\anaconda3\\envs\\hello\\lib\\site-packages\\pandas\\core\\frame.py:4174: SettingWithCopyWarning: \n",
      "A value is trying to be set on a copy of a slice from a DataFrame\n",
      "\n",
      "See the caveats in the documentation: https://pandas.pydata.org/pandas-docs/stable/user_guide/indexing.html#returning-a-view-versus-a-copy\n",
      "  errors=errors,\n"
     ]
    }
   ],
   "source": [
    "cred_df_g['month_behav'] = np.where( cred_df_g.STATUS.isin(['2','3','4','5']), 'b', 'g' )\n",
    "\n",
    "cust_beh = pd.DataFrame( round( cred_df_g.groupby(['customer_id', 'month_behav']).size() / cred_df_g.groupby(['customer_id']).size() * 100, 2), columns = ['behav_kpi']).reset_index().set_index('customer_id')\n",
    "print(cust_beh.head())\n",
    "bad_cust = \\\n",
    "cust_beh[\n",
    "    ( (cust_beh.month_behav=='g') & (cust_beh.behav_kpi <= 95) ) | \n",
    "    ( (cust_beh.month_behav=='b') & (cust_beh.groupby('customer_id').size()==1) )\n",
    "        ]\n",
    "bad_cust['customer_type'] = 'bad'\n",
    "bad_cust.drop(columns=['month_behav', 'behav_kpi'], inplace=True)\n",
    "\n",
    "good_cust = \\\n",
    "    cust_beh[\n",
    "        ( (cust_beh.month_behav=='g') & (cust_beh.behav_kpi > 95) ) | \n",
    "        ( (cust_beh.month_behav=='g') & (cust_beh.groupby('customer_id').size()==1) )\n",
    "            ]\n",
    "good_cust['customer_type'] = 'good'\n",
    "good_cust.drop(columns=['month_behav', 'behav_kpi'], inplace=True)\n",
    "\n",
    "cred_df_clean = pd.concat([bad_cust, good_cust])\n",
    "cred_df_clean['months_in_book'] = cred_df_g.groupby('customer_id').size()\n",
    "cred_df_clean['contracts_nr'] = cred_df_g.groupby(['customer_id'])['interaction_ID'].nunique()"
   ]
  },
  {
   "cell_type": "markdown",
   "metadata": {
    "papermill": {
     "duration": 0.146663,
     "end_time": "2020-10-28T08:13:35.438614",
     "exception": false,
     "start_time": "2020-10-28T08:13:35.291951",
     "status": "completed"
    },
    "tags": []
   },
   "source": [
    "## Checking and Cleaning Missing Data"
   ]
  },
  {
   "cell_type": "code",
   "execution_count": 15,
   "metadata": {
    "execution": {
     "iopub.execute_input": "2020-10-28T08:13:35.732856Z",
     "iopub.status.busy": "2020-10-28T08:13:35.723855Z",
     "iopub.status.idle": "2020-10-28T08:13:35.738955Z",
     "shell.execute_reply": "2020-10-28T08:13:35.739889Z"
    },
    "papermill": {
     "duration": 0.164237,
     "end_time": "2020-10-28T08:13:35.740141",
     "exception": false,
     "start_time": "2020-10-28T08:13:35.575904",
     "status": "completed"
    },
    "tags": []
   },
   "outputs": [
    {
     "data": {
      "text/plain": [
       "customer_type     0\n",
       "months_in_book    0\n",
       "contracts_nr      0\n",
       "dtype: int64"
      ]
     },
     "execution_count": 15,
     "metadata": {},
     "output_type": "execute_result"
    }
   ],
   "source": [
    "# Checking how many values are missing in credit records dataset\n",
    "cred_df_clean.isnull().sum()"
   ]
  },
  {
   "cell_type": "code",
   "execution_count": 16,
   "metadata": {
    "execution": {
     "iopub.execute_input": "2020-10-28T08:13:36.029224Z",
     "iopub.status.busy": "2020-10-28T08:13:36.027930Z",
     "iopub.status.idle": "2020-10-28T08:13:36.431045Z",
     "shell.execute_reply": "2020-10-28T08:13:36.429799Z"
    },
    "papermill": {
     "duration": 0.550129,
     "end_time": "2020-10-28T08:13:36.431214",
     "exception": false,
     "start_time": "2020-10-28T08:13:35.881085",
     "status": "completed"
    },
    "tags": []
   },
   "outputs": [
    {
     "data": {
      "text/plain": [
       "CODE_GENDER                0\n",
       "FLAG_OWN_CAR               0\n",
       "FLAG_OWN_REALTY            0\n",
       "CNT_CHILDREN               0\n",
       "AMT_INCOME_TOTAL           0\n",
       "NAME_INCOME_TYPE           0\n",
       "NAME_EDUCATION_TYPE        0\n",
       "NAME_FAMILY_STATUS         0\n",
       "NAME_HOUSING_TYPE          0\n",
       "DAYS_BIRTH                 0\n",
       "DAYS_EMPLOYED              0\n",
       "FLAG_MOBIL                 0\n",
       "FLAG_WORK_PHONE            0\n",
       "FLAG_PHONE                 0\n",
       "FLAG_EMAIL                 0\n",
       "OCCUPATION_TYPE        11323\n",
       "CNT_FAM_MEMBERS            0\n",
       "cust_id                    0\n",
       "dtype: int64"
      ]
     },
     "execution_count": 16,
     "metadata": {},
     "output_type": "execute_result"
    }
   ],
   "source": [
    "# Checking how many values are missing in application dataset\n",
    "appl_df_clean.isnull().sum()"
   ]
  },
  {
   "cell_type": "markdown",
   "metadata": {
    "papermill": {
     "duration": 0.129737,
     "end_time": "2020-10-28T08:13:36.693166",
     "exception": false,
     "start_time": "2020-10-28T08:13:36.563429",
     "status": "completed"
    },
    "tags": []
   },
   "source": [
    "This means we only need to clean missing data in application dataset -> Ocupation_type column.  "
   ]
  },
  {
   "cell_type": "code",
   "execution_count": 17,
   "metadata": {
    "execution": {
     "iopub.execute_input": "2020-10-28T08:13:37.018394Z",
     "iopub.status.busy": "2020-10-28T08:13:37.017317Z",
     "iopub.status.idle": "2020-10-28T08:13:37.023058Z",
     "shell.execute_reply": "2020-10-28T08:13:37.022137Z"
    },
    "papermill": {
     "duration": 0.199884,
     "end_time": "2020-10-28T08:13:37.023218",
     "exception": false,
     "start_time": "2020-10-28T08:13:36.823334",
     "status": "completed"
    },
    "scrolled": true,
    "tags": []
   },
   "outputs": [
    {
     "data": {
      "text/plain": [
       "array(['Managers', nan, 'Core staff', 'Cleaning staff', 'Medicine staff',\n",
       "       'Accountants', 'Sales staff', 'Laborers', 'Security staff',\n",
       "       'High skill tech staff', 'Cooking staff', 'Secretaries', 'Drivers',\n",
       "       'Private service staff', 'Low-skill Laborers',\n",
       "       'Waiters/barmen staff', 'HR staff', 'IT staff', 'Realty agents'],\n",
       "      dtype=object)"
      ]
     },
     "execution_count": 17,
     "metadata": {},
     "output_type": "execute_result"
    }
   ],
   "source": [
    "appl_df_clean.OCCUPATION_TYPE.unique()"
   ]
  },
  {
   "cell_type": "markdown",
   "metadata": {
    "papermill": {
     "duration": 0.128632,
     "end_time": "2020-10-28T08:13:37.286945",
     "exception": false,
     "start_time": "2020-10-28T08:13:37.158313",
     "status": "completed"
    },
    "tags": []
   },
   "source": [
    "replace the missing values by 'Not Available'."
   ]
  },
  {
   "cell_type": "code",
   "execution_count": 18,
   "metadata": {
    "execution": {
     "iopub.execute_input": "2020-10-28T08:13:37.587167Z",
     "iopub.status.busy": "2020-10-28T08:13:37.586337Z",
     "iopub.status.idle": "2020-10-28T08:13:37.603654Z",
     "shell.execute_reply": "2020-10-28T08:13:37.602799Z"
    },
    "papermill": {
     "duration": 0.188821,
     "end_time": "2020-10-28T08:13:37.603811",
     "exception": false,
     "start_time": "2020-10-28T08:13:37.414990",
     "status": "completed"
    },
    "tags": []
   },
   "outputs": [],
   "source": [
    "appl_df_clean['OCCUPATION_TYPE'] = appl_df_clean['OCCUPATION_TYPE'].fillna('Not Available')"
   ]
  },
  {
   "cell_type": "markdown",
   "metadata": {
    "papermill": {
     "duration": 0.133844,
     "end_time": "2020-10-28T08:13:37.870822",
     "exception": false,
     "start_time": "2020-10-28T08:13:37.736978",
     "status": "completed"
    },
    "tags": []
   },
   "source": [
    "## Reclassifying some Flags\n",
    "In application dataset there are 2 flag columns that have Y/N labels, while other flags in this dataset are binary variables.   \n",
    "For congruence, let's pass those Y/N labels into 1 and 0's, respectively. "
   ]
  },
  {
   "cell_type": "code",
   "execution_count": 19,
   "metadata": {
    "execution": {
     "iopub.execute_input": "2020-10-28T08:13:38.197353Z",
     "iopub.status.busy": "2020-10-28T08:13:38.196577Z",
     "iopub.status.idle": "2020-10-28T08:13:38.832845Z",
     "shell.execute_reply": "2020-10-28T08:13:38.833498Z"
    },
    "papermill": {
     "duration": 0.831561,
     "end_time": "2020-10-28T08:13:38.833674",
     "exception": false,
     "start_time": "2020-10-28T08:13:38.002113",
     "status": "completed"
    },
    "tags": []
   },
   "outputs": [
    {
     "data": {
      "text/html": [
       "<div>\n",
       "<style scoped>\n",
       "    .dataframe tbody tr th:only-of-type {\n",
       "        vertical-align: middle;\n",
       "    }\n",
       "\n",
       "    .dataframe tbody tr th {\n",
       "        vertical-align: top;\n",
       "    }\n",
       "\n",
       "    .dataframe thead th {\n",
       "        text-align: right;\n",
       "    }\n",
       "</style>\n",
       "<table border=\"1\" class=\"dataframe\">\n",
       "  <thead>\n",
       "    <tr style=\"text-align: right;\">\n",
       "      <th></th>\n",
       "      <th>CODE_GENDER</th>\n",
       "      <th>FLAG_OWN_CAR</th>\n",
       "      <th>FLAG_OWN_REALTY</th>\n",
       "      <th>CNT_CHILDREN</th>\n",
       "      <th>AMT_INCOME_TOTAL</th>\n",
       "      <th>NAME_INCOME_TYPE</th>\n",
       "      <th>NAME_EDUCATION_TYPE</th>\n",
       "      <th>NAME_FAMILY_STATUS</th>\n",
       "      <th>NAME_HOUSING_TYPE</th>\n",
       "      <th>DAYS_BIRTH</th>\n",
       "      <th>DAYS_EMPLOYED</th>\n",
       "      <th>FLAG_MOBIL</th>\n",
       "      <th>FLAG_WORK_PHONE</th>\n",
       "      <th>FLAG_PHONE</th>\n",
       "      <th>FLAG_EMAIL</th>\n",
       "      <th>OCCUPATION_TYPE</th>\n",
       "      <th>CNT_FAM_MEMBERS</th>\n",
       "      <th>cust_id</th>\n",
       "    </tr>\n",
       "    <tr>\n",
       "      <th>ID</th>\n",
       "      <th></th>\n",
       "      <th></th>\n",
       "      <th></th>\n",
       "      <th></th>\n",
       "      <th></th>\n",
       "      <th></th>\n",
       "      <th></th>\n",
       "      <th></th>\n",
       "      <th></th>\n",
       "      <th></th>\n",
       "      <th></th>\n",
       "      <th></th>\n",
       "      <th></th>\n",
       "      <th></th>\n",
       "      <th></th>\n",
       "      <th></th>\n",
       "      <th></th>\n",
       "      <th></th>\n",
       "    </tr>\n",
       "  </thead>\n",
       "  <tbody>\n",
       "    <tr>\n",
       "      <th>5126174</th>\n",
       "      <td>F</td>\n",
       "      <td>0</td>\n",
       "      <td>0</td>\n",
       "      <td>0</td>\n",
       "      <td>27000.0</td>\n",
       "      <td>Working</td>\n",
       "      <td>Higher education</td>\n",
       "      <td>Civil marriage</td>\n",
       "      <td>House / apartment</td>\n",
       "      <td>-14869</td>\n",
       "      <td>-5067</td>\n",
       "      <td>1</td>\n",
       "      <td>1</td>\n",
       "      <td>0</td>\n",
       "      <td>0</td>\n",
       "      <td>Managers</td>\n",
       "      <td>2.0</td>\n",
       "      <td>7068</td>\n",
       "    </tr>\n",
       "    <tr>\n",
       "      <th>5126175</th>\n",
       "      <td>F</td>\n",
       "      <td>0</td>\n",
       "      <td>0</td>\n",
       "      <td>0</td>\n",
       "      <td>27000.0</td>\n",
       "      <td>Working</td>\n",
       "      <td>Higher education</td>\n",
       "      <td>Civil marriage</td>\n",
       "      <td>House / apartment</td>\n",
       "      <td>-14869</td>\n",
       "      <td>-5067</td>\n",
       "      <td>1</td>\n",
       "      <td>1</td>\n",
       "      <td>0</td>\n",
       "      <td>0</td>\n",
       "      <td>Managers</td>\n",
       "      <td>2.0</td>\n",
       "      <td>7068</td>\n",
       "    </tr>\n",
       "    <tr>\n",
       "      <th>5054382</th>\n",
       "      <td>F</td>\n",
       "      <td>0</td>\n",
       "      <td>0</td>\n",
       "      <td>0</td>\n",
       "      <td>31500.0</td>\n",
       "      <td>Pensioner</td>\n",
       "      <td>Secondary / secondary special</td>\n",
       "      <td>Married</td>\n",
       "      <td>House / apartment</td>\n",
       "      <td>-20836</td>\n",
       "      <td>365243</td>\n",
       "      <td>1</td>\n",
       "      <td>0</td>\n",
       "      <td>0</td>\n",
       "      <td>0</td>\n",
       "      <td>Not Available</td>\n",
       "      <td>2.0</td>\n",
       "      <td>375910</td>\n",
       "    </tr>\n",
       "    <tr>\n",
       "      <th>5132319</th>\n",
       "      <td>F</td>\n",
       "      <td>0</td>\n",
       "      <td>0</td>\n",
       "      <td>0</td>\n",
       "      <td>33300.0</td>\n",
       "      <td>Pensioner</td>\n",
       "      <td>Secondary / secondary special</td>\n",
       "      <td>Married</td>\n",
       "      <td>Office apartment</td>\n",
       "      <td>-19605</td>\n",
       "      <td>365243</td>\n",
       "      <td>1</td>\n",
       "      <td>0</td>\n",
       "      <td>0</td>\n",
       "      <td>0</td>\n",
       "      <td>Not Available</td>\n",
       "      <td>2.0</td>\n",
       "      <td>378941</td>\n",
       "    </tr>\n",
       "    <tr>\n",
       "      <th>5132320</th>\n",
       "      <td>F</td>\n",
       "      <td>0</td>\n",
       "      <td>0</td>\n",
       "      <td>0</td>\n",
       "      <td>33300.0</td>\n",
       "      <td>Pensioner</td>\n",
       "      <td>Secondary / secondary special</td>\n",
       "      <td>Married</td>\n",
       "      <td>Office apartment</td>\n",
       "      <td>-19605</td>\n",
       "      <td>365243</td>\n",
       "      <td>1</td>\n",
       "      <td>0</td>\n",
       "      <td>0</td>\n",
       "      <td>0</td>\n",
       "      <td>Not Available</td>\n",
       "      <td>2.0</td>\n",
       "      <td>378941</td>\n",
       "    </tr>\n",
       "  </tbody>\n",
       "</table>\n",
       "</div>"
      ],
      "text/plain": [
       "        CODE_GENDER  FLAG_OWN_CAR  FLAG_OWN_REALTY  CNT_CHILDREN  \\\n",
       "ID                                                                 \n",
       "5126174           F             0                0             0   \n",
       "5126175           F             0                0             0   \n",
       "5054382           F             0                0             0   \n",
       "5132319           F             0                0             0   \n",
       "5132320           F             0                0             0   \n",
       "\n",
       "         AMT_INCOME_TOTAL NAME_INCOME_TYPE            NAME_EDUCATION_TYPE  \\\n",
       "ID                                                                          \n",
       "5126174           27000.0          Working               Higher education   \n",
       "5126175           27000.0          Working               Higher education   \n",
       "5054382           31500.0        Pensioner  Secondary / secondary special   \n",
       "5132319           33300.0        Pensioner  Secondary / secondary special   \n",
       "5132320           33300.0        Pensioner  Secondary / secondary special   \n",
       "\n",
       "        NAME_FAMILY_STATUS  NAME_HOUSING_TYPE  DAYS_BIRTH  DAYS_EMPLOYED  \\\n",
       "ID                                                                         \n",
       "5126174     Civil marriage  House / apartment      -14869          -5067   \n",
       "5126175     Civil marriage  House / apartment      -14869          -5067   \n",
       "5054382            Married  House / apartment      -20836         365243   \n",
       "5132319            Married   Office apartment      -19605         365243   \n",
       "5132320            Married   Office apartment      -19605         365243   \n",
       "\n",
       "         FLAG_MOBIL  FLAG_WORK_PHONE  FLAG_PHONE  FLAG_EMAIL OCCUPATION_TYPE  \\\n",
       "ID                                                                             \n",
       "5126174           1                1           0           0        Managers   \n",
       "5126175           1                1           0           0        Managers   \n",
       "5054382           1                0           0           0   Not Available   \n",
       "5132319           1                0           0           0   Not Available   \n",
       "5132320           1                0           0           0   Not Available   \n",
       "\n",
       "         CNT_FAM_MEMBERS  cust_id  \n",
       "ID                                 \n",
       "5126174              2.0     7068  \n",
       "5126175              2.0     7068  \n",
       "5054382              2.0   375910  \n",
       "5132319              2.0   378941  \n",
       "5132320              2.0   378941  "
      ]
     },
     "execution_count": 19,
     "metadata": {},
     "output_type": "execute_result"
    }
   ],
   "source": [
    "dic = {\n",
    "    'Y' : 1,\n",
    "    'N' : 0\n",
    "}\n",
    "\n",
    "appl_df_clean['FLAG_OWN_CAR'] = appl_df_clean['FLAG_OWN_CAR'].replace(dic)\n",
    "appl_df_clean['FLAG_OWN_REALTY'] = appl_df_clean['FLAG_OWN_REALTY'].replace(dic)\n",
    "\n",
    "appl_df_clean.head()"
   ]
  },
  {
   "cell_type": "code",
   "execution_count": 20,
   "metadata": {
    "execution": {
     "iopub.execute_input": "2020-10-28T08:13:39.369123Z",
     "iopub.status.busy": "2020-10-28T08:13:39.368126Z",
     "iopub.status.idle": "2020-10-28T08:13:39.373026Z",
     "shell.execute_reply": "2020-10-28T08:13:39.373648Z"
    },
    "papermill": {
     "duration": 0.143905,
     "end_time": "2020-10-28T08:13:39.373827",
     "exception": false,
     "start_time": "2020-10-28T08:13:39.229922",
     "status": "completed"
    },
    "tags": []
   },
   "outputs": [
    {
     "data": {
      "text/plain": [
       "True"
      ]
     },
     "execution_count": 20,
     "metadata": {},
     "output_type": "execute_result"
    }
   ],
   "source": [
    "flag_cols = [x for x in appl_df_clean.columns if x.startswith('FLAG_')]                                                          \n",
    "cat_cols  = [x for x in appl_df_clean.columns if x.startswith('CODE_') or x.startswith('NAME_') or x.startswith('OCCUPATION_') ] \n",
    "num_cols  = [x for x in appl_df_clean.columns if x.startswith('CNT_')] + [x for x in appl_df_clean.columns if x.startswith('AMT_') or x.startswith('DAYS_')]          \n",
    "\n",
    "#checkzone:\n",
    "# \n",
    "# +1 accounts for cust_id column who does not fit in any column category because it's a \"dummy\" column just to join with cred_df later on\n",
    "#\n",
    "len(flag_cols) + len( cat_cols ) + len( num_cols ) + 1 == len( appl_df_clean.columns )  "
   ]
  },
  {
   "cell_type": "code",
   "execution_count": 21,
   "metadata": {
    "execution": {
     "iopub.execute_input": "2020-10-28T08:13:39.667350Z",
     "iopub.status.busy": "2020-10-28T08:13:39.666568Z",
     "iopub.status.idle": "2020-10-28T08:13:39.683862Z",
     "shell.execute_reply": "2020-10-28T08:13:39.683139Z"
    },
    "papermill": {
     "duration": 0.168341,
     "end_time": "2020-10-28T08:13:39.684021",
     "exception": false,
     "start_time": "2020-10-28T08:13:39.515680",
     "status": "completed"
    },
    "tags": []
   },
   "outputs": [
    {
     "data": {
      "text/html": [
       "<div>\n",
       "<style scoped>\n",
       "    .dataframe tbody tr th:only-of-type {\n",
       "        vertical-align: middle;\n",
       "    }\n",
       "\n",
       "    .dataframe tbody tr th {\n",
       "        vertical-align: top;\n",
       "    }\n",
       "\n",
       "    .dataframe thead th {\n",
       "        text-align: right;\n",
       "    }\n",
       "</style>\n",
       "<table border=\"1\" class=\"dataframe\">\n",
       "  <thead>\n",
       "    <tr style=\"text-align: right;\">\n",
       "      <th>ID</th>\n",
       "      <th>5126174</th>\n",
       "      <th>5126175</th>\n",
       "      <th>5054382</th>\n",
       "      <th>5132319</th>\n",
       "      <th>5132320</th>\n",
       "    </tr>\n",
       "  </thead>\n",
       "  <tbody>\n",
       "    <tr>\n",
       "      <th>FLAG_OWN_CAR</th>\n",
       "      <td>0</td>\n",
       "      <td>0</td>\n",
       "      <td>0</td>\n",
       "      <td>0</td>\n",
       "      <td>0</td>\n",
       "    </tr>\n",
       "    <tr>\n",
       "      <th>FLAG_OWN_REALTY</th>\n",
       "      <td>0</td>\n",
       "      <td>0</td>\n",
       "      <td>0</td>\n",
       "      <td>0</td>\n",
       "      <td>0</td>\n",
       "    </tr>\n",
       "    <tr>\n",
       "      <th>FLAG_MOBIL</th>\n",
       "      <td>1</td>\n",
       "      <td>1</td>\n",
       "      <td>1</td>\n",
       "      <td>1</td>\n",
       "      <td>1</td>\n",
       "    </tr>\n",
       "    <tr>\n",
       "      <th>FLAG_WORK_PHONE</th>\n",
       "      <td>1</td>\n",
       "      <td>1</td>\n",
       "      <td>0</td>\n",
       "      <td>0</td>\n",
       "      <td>0</td>\n",
       "    </tr>\n",
       "    <tr>\n",
       "      <th>FLAG_PHONE</th>\n",
       "      <td>0</td>\n",
       "      <td>0</td>\n",
       "      <td>0</td>\n",
       "      <td>0</td>\n",
       "      <td>0</td>\n",
       "    </tr>\n",
       "    <tr>\n",
       "      <th>FLAG_EMAIL</th>\n",
       "      <td>0</td>\n",
       "      <td>0</td>\n",
       "      <td>0</td>\n",
       "      <td>0</td>\n",
       "      <td>0</td>\n",
       "    </tr>\n",
       "    <tr>\n",
       "      <th>CODE_GENDER</th>\n",
       "      <td>F</td>\n",
       "      <td>F</td>\n",
       "      <td>F</td>\n",
       "      <td>F</td>\n",
       "      <td>F</td>\n",
       "    </tr>\n",
       "    <tr>\n",
       "      <th>NAME_INCOME_TYPE</th>\n",
       "      <td>Working</td>\n",
       "      <td>Working</td>\n",
       "      <td>Pensioner</td>\n",
       "      <td>Pensioner</td>\n",
       "      <td>Pensioner</td>\n",
       "    </tr>\n",
       "    <tr>\n",
       "      <th>NAME_EDUCATION_TYPE</th>\n",
       "      <td>Higher education</td>\n",
       "      <td>Higher education</td>\n",
       "      <td>Secondary / secondary special</td>\n",
       "      <td>Secondary / secondary special</td>\n",
       "      <td>Secondary / secondary special</td>\n",
       "    </tr>\n",
       "    <tr>\n",
       "      <th>NAME_FAMILY_STATUS</th>\n",
       "      <td>Civil marriage</td>\n",
       "      <td>Civil marriage</td>\n",
       "      <td>Married</td>\n",
       "      <td>Married</td>\n",
       "      <td>Married</td>\n",
       "    </tr>\n",
       "    <tr>\n",
       "      <th>NAME_HOUSING_TYPE</th>\n",
       "      <td>House / apartment</td>\n",
       "      <td>House / apartment</td>\n",
       "      <td>House / apartment</td>\n",
       "      <td>Office apartment</td>\n",
       "      <td>Office apartment</td>\n",
       "    </tr>\n",
       "    <tr>\n",
       "      <th>OCCUPATION_TYPE</th>\n",
       "      <td>Managers</td>\n",
       "      <td>Managers</td>\n",
       "      <td>Not Available</td>\n",
       "      <td>Not Available</td>\n",
       "      <td>Not Available</td>\n",
       "    </tr>\n",
       "    <tr>\n",
       "      <th>CNT_CHILDREN</th>\n",
       "      <td>0</td>\n",
       "      <td>0</td>\n",
       "      <td>0</td>\n",
       "      <td>0</td>\n",
       "      <td>0</td>\n",
       "    </tr>\n",
       "    <tr>\n",
       "      <th>CNT_FAM_MEMBERS</th>\n",
       "      <td>2</td>\n",
       "      <td>2</td>\n",
       "      <td>2</td>\n",
       "      <td>2</td>\n",
       "      <td>2</td>\n",
       "    </tr>\n",
       "    <tr>\n",
       "      <th>AMT_INCOME_TOTAL</th>\n",
       "      <td>27000</td>\n",
       "      <td>27000</td>\n",
       "      <td>31500</td>\n",
       "      <td>33300</td>\n",
       "      <td>33300</td>\n",
       "    </tr>\n",
       "    <tr>\n",
       "      <th>DAYS_BIRTH</th>\n",
       "      <td>-14869</td>\n",
       "      <td>-14869</td>\n",
       "      <td>-20836</td>\n",
       "      <td>-19605</td>\n",
       "      <td>-19605</td>\n",
       "    </tr>\n",
       "    <tr>\n",
       "      <th>DAYS_EMPLOYED</th>\n",
       "      <td>-5067</td>\n",
       "      <td>-5067</td>\n",
       "      <td>365243</td>\n",
       "      <td>365243</td>\n",
       "      <td>365243</td>\n",
       "    </tr>\n",
       "    <tr>\n",
       "      <th>cust_id</th>\n",
       "      <td>7068</td>\n",
       "      <td>7068</td>\n",
       "      <td>375910</td>\n",
       "      <td>378941</td>\n",
       "      <td>378941</td>\n",
       "    </tr>\n",
       "  </tbody>\n",
       "</table>\n",
       "</div>"
      ],
      "text/plain": [
       "ID                             5126174            5126175  \\\n",
       "FLAG_OWN_CAR                         0                  0   \n",
       "FLAG_OWN_REALTY                      0                  0   \n",
       "FLAG_MOBIL                           1                  1   \n",
       "FLAG_WORK_PHONE                      1                  1   \n",
       "FLAG_PHONE                           0                  0   \n",
       "FLAG_EMAIL                           0                  0   \n",
       "CODE_GENDER                          F                  F   \n",
       "NAME_INCOME_TYPE               Working            Working   \n",
       "NAME_EDUCATION_TYPE   Higher education   Higher education   \n",
       "NAME_FAMILY_STATUS      Civil marriage     Civil marriage   \n",
       "NAME_HOUSING_TYPE    House / apartment  House / apartment   \n",
       "OCCUPATION_TYPE               Managers           Managers   \n",
       "CNT_CHILDREN                         0                  0   \n",
       "CNT_FAM_MEMBERS                      2                  2   \n",
       "AMT_INCOME_TOTAL                 27000              27000   \n",
       "DAYS_BIRTH                      -14869             -14869   \n",
       "DAYS_EMPLOYED                    -5067              -5067   \n",
       "cust_id                           7068               7068   \n",
       "\n",
       "ID                                         5054382  \\\n",
       "FLAG_OWN_CAR                                     0   \n",
       "FLAG_OWN_REALTY                                  0   \n",
       "FLAG_MOBIL                                       1   \n",
       "FLAG_WORK_PHONE                                  0   \n",
       "FLAG_PHONE                                       0   \n",
       "FLAG_EMAIL                                       0   \n",
       "CODE_GENDER                                      F   \n",
       "NAME_INCOME_TYPE                         Pensioner   \n",
       "NAME_EDUCATION_TYPE  Secondary / secondary special   \n",
       "NAME_FAMILY_STATUS                         Married   \n",
       "NAME_HOUSING_TYPE                House / apartment   \n",
       "OCCUPATION_TYPE                      Not Available   \n",
       "CNT_CHILDREN                                     0   \n",
       "CNT_FAM_MEMBERS                                  2   \n",
       "AMT_INCOME_TOTAL                             31500   \n",
       "DAYS_BIRTH                                  -20836   \n",
       "DAYS_EMPLOYED                               365243   \n",
       "cust_id                                     375910   \n",
       "\n",
       "ID                                         5132319  \\\n",
       "FLAG_OWN_CAR                                     0   \n",
       "FLAG_OWN_REALTY                                  0   \n",
       "FLAG_MOBIL                                       1   \n",
       "FLAG_WORK_PHONE                                  0   \n",
       "FLAG_PHONE                                       0   \n",
       "FLAG_EMAIL                                       0   \n",
       "CODE_GENDER                                      F   \n",
       "NAME_INCOME_TYPE                         Pensioner   \n",
       "NAME_EDUCATION_TYPE  Secondary / secondary special   \n",
       "NAME_FAMILY_STATUS                         Married   \n",
       "NAME_HOUSING_TYPE                 Office apartment   \n",
       "OCCUPATION_TYPE                      Not Available   \n",
       "CNT_CHILDREN                                     0   \n",
       "CNT_FAM_MEMBERS                                  2   \n",
       "AMT_INCOME_TOTAL                             33300   \n",
       "DAYS_BIRTH                                  -19605   \n",
       "DAYS_EMPLOYED                               365243   \n",
       "cust_id                                     378941   \n",
       "\n",
       "ID                                         5132320  \n",
       "FLAG_OWN_CAR                                     0  \n",
       "FLAG_OWN_REALTY                                  0  \n",
       "FLAG_MOBIL                                       1  \n",
       "FLAG_WORK_PHONE                                  0  \n",
       "FLAG_PHONE                                       0  \n",
       "FLAG_EMAIL                                       0  \n",
       "CODE_GENDER                                      F  \n",
       "NAME_INCOME_TYPE                         Pensioner  \n",
       "NAME_EDUCATION_TYPE  Secondary / secondary special  \n",
       "NAME_FAMILY_STATUS                         Married  \n",
       "NAME_HOUSING_TYPE                 Office apartment  \n",
       "OCCUPATION_TYPE                      Not Available  \n",
       "CNT_CHILDREN                                     0  \n",
       "CNT_FAM_MEMBERS                                  2  \n",
       "AMT_INCOME_TOTAL                             33300  \n",
       "DAYS_BIRTH                                  -19605  \n",
       "DAYS_EMPLOYED                               365243  \n",
       "cust_id                                     378941  "
      ]
     },
     "execution_count": 21,
     "metadata": {},
     "output_type": "execute_result"
    }
   ],
   "source": [
    "appl_df_clean = appl_df_clean[flag_cols + cat_cols + num_cols + ['cust_id']]\n",
    "\n",
    "appl_df_clean.head().T"
   ]
  },
  {
   "cell_type": "markdown",
   "metadata": {
    "papermill": {
     "duration": 0.140276,
     "end_time": "2020-10-28T08:13:39.965987",
     "exception": false,
     "start_time": "2020-10-28T08:13:39.825711",
     "status": "completed"
    },
    "tags": []
   },
   "source": [
    "## Joining application records dataset with customer labels dataset"
   ]
  },
  {
   "cell_type": "code",
   "execution_count": 22,
   "metadata": {
    "execution": {
     "iopub.execute_input": "2020-10-28T08:13:40.259633Z",
     "iopub.status.busy": "2020-10-28T08:13:40.258155Z",
     "iopub.status.idle": "2020-10-28T08:13:40.265201Z",
     "shell.execute_reply": "2020-10-28T08:13:40.264019Z"
    },
    "papermill": {
     "duration": 0.159796,
     "end_time": "2020-10-28T08:13:40.265468",
     "exception": false,
     "start_time": "2020-10-28T08:13:40.105672",
     "status": "completed"
    },
    "tags": []
   },
   "outputs": [
    {
     "data": {
      "text/html": [
       "<div>\n",
       "<style scoped>\n",
       "    .dataframe tbody tr th:only-of-type {\n",
       "        vertical-align: middle;\n",
       "    }\n",
       "\n",
       "    .dataframe tbody tr th {\n",
       "        vertical-align: top;\n",
       "    }\n",
       "\n",
       "    .dataframe thead th {\n",
       "        text-align: right;\n",
       "    }\n",
       "</style>\n",
       "<table border=\"1\" class=\"dataframe\">\n",
       "  <thead>\n",
       "    <tr style=\"text-align: right;\">\n",
       "      <th></th>\n",
       "      <th>FLAG_OWN_CAR</th>\n",
       "      <th>FLAG_OWN_REALTY</th>\n",
       "      <th>FLAG_MOBIL</th>\n",
       "      <th>FLAG_WORK_PHONE</th>\n",
       "      <th>FLAG_PHONE</th>\n",
       "      <th>FLAG_EMAIL</th>\n",
       "      <th>CODE_GENDER</th>\n",
       "      <th>NAME_INCOME_TYPE</th>\n",
       "      <th>NAME_EDUCATION_TYPE</th>\n",
       "      <th>NAME_FAMILY_STATUS</th>\n",
       "      <th>NAME_HOUSING_TYPE</th>\n",
       "      <th>OCCUPATION_TYPE</th>\n",
       "      <th>CNT_CHILDREN</th>\n",
       "      <th>CNT_FAM_MEMBERS</th>\n",
       "      <th>AMT_INCOME_TOTAL</th>\n",
       "      <th>DAYS_BIRTH</th>\n",
       "      <th>DAYS_EMPLOYED</th>\n",
       "      <th>customer_type</th>\n",
       "      <th>months_in_book</th>\n",
       "      <th>contracts_nr</th>\n",
       "    </tr>\n",
       "    <tr>\n",
       "      <th>ID</th>\n",
       "      <th></th>\n",
       "      <th></th>\n",
       "      <th></th>\n",
       "      <th></th>\n",
       "      <th></th>\n",
       "      <th></th>\n",
       "      <th></th>\n",
       "      <th></th>\n",
       "      <th></th>\n",
       "      <th></th>\n",
       "      <th></th>\n",
       "      <th></th>\n",
       "      <th></th>\n",
       "      <th></th>\n",
       "      <th></th>\n",
       "      <th></th>\n",
       "      <th></th>\n",
       "      <th></th>\n",
       "      <th></th>\n",
       "      <th></th>\n",
       "    </tr>\n",
       "  </thead>\n",
       "  <tbody>\n",
       "    <tr>\n",
       "      <th>5126174</th>\n",
       "      <td>0</td>\n",
       "      <td>0</td>\n",
       "      <td>1</td>\n",
       "      <td>1</td>\n",
       "      <td>0</td>\n",
       "      <td>0</td>\n",
       "      <td>F</td>\n",
       "      <td>Working</td>\n",
       "      <td>Higher education</td>\n",
       "      <td>Civil marriage</td>\n",
       "      <td>House / apartment</td>\n",
       "      <td>Managers</td>\n",
       "      <td>0</td>\n",
       "      <td>2.0</td>\n",
       "      <td>27000.0</td>\n",
       "      <td>-14869</td>\n",
       "      <td>-5067</td>\n",
       "      <td>good</td>\n",
       "      <td>49</td>\n",
       "      <td>2</td>\n",
       "    </tr>\n",
       "    <tr>\n",
       "      <th>5126175</th>\n",
       "      <td>0</td>\n",
       "      <td>0</td>\n",
       "      <td>1</td>\n",
       "      <td>1</td>\n",
       "      <td>0</td>\n",
       "      <td>0</td>\n",
       "      <td>F</td>\n",
       "      <td>Working</td>\n",
       "      <td>Higher education</td>\n",
       "      <td>Civil marriage</td>\n",
       "      <td>House / apartment</td>\n",
       "      <td>Managers</td>\n",
       "      <td>0</td>\n",
       "      <td>2.0</td>\n",
       "      <td>27000.0</td>\n",
       "      <td>-14869</td>\n",
       "      <td>-5067</td>\n",
       "      <td>good</td>\n",
       "      <td>49</td>\n",
       "      <td>2</td>\n",
       "    </tr>\n",
       "    <tr>\n",
       "      <th>5054382</th>\n",
       "      <td>0</td>\n",
       "      <td>0</td>\n",
       "      <td>1</td>\n",
       "      <td>0</td>\n",
       "      <td>0</td>\n",
       "      <td>0</td>\n",
       "      <td>F</td>\n",
       "      <td>Pensioner</td>\n",
       "      <td>Secondary / secondary special</td>\n",
       "      <td>Married</td>\n",
       "      <td>House / apartment</td>\n",
       "      <td>Not Available</td>\n",
       "      <td>0</td>\n",
       "      <td>2.0</td>\n",
       "      <td>31500.0</td>\n",
       "      <td>-20836</td>\n",
       "      <td>365243</td>\n",
       "      <td>good</td>\n",
       "      <td>13</td>\n",
       "      <td>1</td>\n",
       "    </tr>\n",
       "    <tr>\n",
       "      <th>5132319</th>\n",
       "      <td>0</td>\n",
       "      <td>0</td>\n",
       "      <td>1</td>\n",
       "      <td>0</td>\n",
       "      <td>0</td>\n",
       "      <td>0</td>\n",
       "      <td>F</td>\n",
       "      <td>Pensioner</td>\n",
       "      <td>Secondary / secondary special</td>\n",
       "      <td>Married</td>\n",
       "      <td>Office apartment</td>\n",
       "      <td>Not Available</td>\n",
       "      <td>0</td>\n",
       "      <td>2.0</td>\n",
       "      <td>33300.0</td>\n",
       "      <td>-19605</td>\n",
       "      <td>365243</td>\n",
       "      <td>good</td>\n",
       "      <td>276</td>\n",
       "      <td>8</td>\n",
       "    </tr>\n",
       "    <tr>\n",
       "      <th>5132320</th>\n",
       "      <td>0</td>\n",
       "      <td>0</td>\n",
       "      <td>1</td>\n",
       "      <td>0</td>\n",
       "      <td>0</td>\n",
       "      <td>0</td>\n",
       "      <td>F</td>\n",
       "      <td>Pensioner</td>\n",
       "      <td>Secondary / secondary special</td>\n",
       "      <td>Married</td>\n",
       "      <td>Office apartment</td>\n",
       "      <td>Not Available</td>\n",
       "      <td>0</td>\n",
       "      <td>2.0</td>\n",
       "      <td>33300.0</td>\n",
       "      <td>-19605</td>\n",
       "      <td>365243</td>\n",
       "      <td>good</td>\n",
       "      <td>276</td>\n",
       "      <td>8</td>\n",
       "    </tr>\n",
       "    <tr>\n",
       "      <th>...</th>\n",
       "      <td>...</td>\n",
       "      <td>...</td>\n",
       "      <td>...</td>\n",
       "      <td>...</td>\n",
       "      <td>...</td>\n",
       "      <td>...</td>\n",
       "      <td>...</td>\n",
       "      <td>...</td>\n",
       "      <td>...</td>\n",
       "      <td>...</td>\n",
       "      <td>...</td>\n",
       "      <td>...</td>\n",
       "      <td>...</td>\n",
       "      <td>...</td>\n",
       "      <td>...</td>\n",
       "      <td>...</td>\n",
       "      <td>...</td>\n",
       "      <td>...</td>\n",
       "      <td>...</td>\n",
       "      <td>...</td>\n",
       "    </tr>\n",
       "    <tr>\n",
       "      <th>5135540</th>\n",
       "      <td>1</td>\n",
       "      <td>1</td>\n",
       "      <td>1</td>\n",
       "      <td>0</td>\n",
       "      <td>0</td>\n",
       "      <td>0</td>\n",
       "      <td>M</td>\n",
       "      <td>Working</td>\n",
       "      <td>Secondary / secondary special</td>\n",
       "      <td>Married</td>\n",
       "      <td>Co-op apartment</td>\n",
       "      <td>Managers</td>\n",
       "      <td>5</td>\n",
       "      <td>7.0</td>\n",
       "      <td>202500.0</td>\n",
       "      <td>-11384</td>\n",
       "      <td>-2727</td>\n",
       "      <td>good</td>\n",
       "      <td>121</td>\n",
       "      <td>8</td>\n",
       "    </tr>\n",
       "    <tr>\n",
       "      <th>5135541</th>\n",
       "      <td>1</td>\n",
       "      <td>1</td>\n",
       "      <td>1</td>\n",
       "      <td>0</td>\n",
       "      <td>0</td>\n",
       "      <td>0</td>\n",
       "      <td>M</td>\n",
       "      <td>Working</td>\n",
       "      <td>Secondary / secondary special</td>\n",
       "      <td>Married</td>\n",
       "      <td>Co-op apartment</td>\n",
       "      <td>Managers</td>\n",
       "      <td>5</td>\n",
       "      <td>7.0</td>\n",
       "      <td>202500.0</td>\n",
       "      <td>-11384</td>\n",
       "      <td>-2727</td>\n",
       "      <td>good</td>\n",
       "      <td>121</td>\n",
       "      <td>8</td>\n",
       "    </tr>\n",
       "    <tr>\n",
       "      <th>5061207</th>\n",
       "      <td>1</td>\n",
       "      <td>1</td>\n",
       "      <td>1</td>\n",
       "      <td>0</td>\n",
       "      <td>0</td>\n",
       "      <td>0</td>\n",
       "      <td>M</td>\n",
       "      <td>Working</td>\n",
       "      <td>Secondary / secondary special</td>\n",
       "      <td>Separated</td>\n",
       "      <td>House / apartment</td>\n",
       "      <td>Drivers</td>\n",
       "      <td>14</td>\n",
       "      <td>15.0</td>\n",
       "      <td>225000.0</td>\n",
       "      <td>-17754</td>\n",
       "      <td>-1689</td>\n",
       "      <td>good</td>\n",
       "      <td>111</td>\n",
       "      <td>3</td>\n",
       "    </tr>\n",
       "    <tr>\n",
       "      <th>5061210</th>\n",
       "      <td>1</td>\n",
       "      <td>1</td>\n",
       "      <td>1</td>\n",
       "      <td>0</td>\n",
       "      <td>0</td>\n",
       "      <td>0</td>\n",
       "      <td>M</td>\n",
       "      <td>Working</td>\n",
       "      <td>Secondary / secondary special</td>\n",
       "      <td>Separated</td>\n",
       "      <td>House / apartment</td>\n",
       "      <td>Drivers</td>\n",
       "      <td>14</td>\n",
       "      <td>15.0</td>\n",
       "      <td>225000.0</td>\n",
       "      <td>-17754</td>\n",
       "      <td>-1689</td>\n",
       "      <td>good</td>\n",
       "      <td>111</td>\n",
       "      <td>3</td>\n",
       "    </tr>\n",
       "    <tr>\n",
       "      <th>5061211</th>\n",
       "      <td>1</td>\n",
       "      <td>1</td>\n",
       "      <td>1</td>\n",
       "      <td>0</td>\n",
       "      <td>0</td>\n",
       "      <td>0</td>\n",
       "      <td>M</td>\n",
       "      <td>Working</td>\n",
       "      <td>Secondary / secondary special</td>\n",
       "      <td>Separated</td>\n",
       "      <td>House / apartment</td>\n",
       "      <td>Drivers</td>\n",
       "      <td>14</td>\n",
       "      <td>15.0</td>\n",
       "      <td>225000.0</td>\n",
       "      <td>-17754</td>\n",
       "      <td>-1689</td>\n",
       "      <td>good</td>\n",
       "      <td>111</td>\n",
       "      <td>3</td>\n",
       "    </tr>\n",
       "  </tbody>\n",
       "</table>\n",
       "<p>36457 rows × 20 columns</p>\n",
       "</div>"
      ],
      "text/plain": [
       "         FLAG_OWN_CAR  FLAG_OWN_REALTY  FLAG_MOBIL  FLAG_WORK_PHONE  \\\n",
       "ID                                                                    \n",
       "5126174             0                0           1                1   \n",
       "5126175             0                0           1                1   \n",
       "5054382             0                0           1                0   \n",
       "5132319             0                0           1                0   \n",
       "5132320             0                0           1                0   \n",
       "...               ...              ...         ...              ...   \n",
       "5135540             1                1           1                0   \n",
       "5135541             1                1           1                0   \n",
       "5061207             1                1           1                0   \n",
       "5061210             1                1           1                0   \n",
       "5061211             1                1           1                0   \n",
       "\n",
       "         FLAG_PHONE  FLAG_EMAIL CODE_GENDER NAME_INCOME_TYPE  \\\n",
       "ID                                                             \n",
       "5126174           0           0           F          Working   \n",
       "5126175           0           0           F          Working   \n",
       "5054382           0           0           F        Pensioner   \n",
       "5132319           0           0           F        Pensioner   \n",
       "5132320           0           0           F        Pensioner   \n",
       "...             ...         ...         ...              ...   \n",
       "5135540           0           0           M          Working   \n",
       "5135541           0           0           M          Working   \n",
       "5061207           0           0           M          Working   \n",
       "5061210           0           0           M          Working   \n",
       "5061211           0           0           M          Working   \n",
       "\n",
       "                   NAME_EDUCATION_TYPE NAME_FAMILY_STATUS  NAME_HOUSING_TYPE  \\\n",
       "ID                                                                             \n",
       "5126174               Higher education     Civil marriage  House / apartment   \n",
       "5126175               Higher education     Civil marriage  House / apartment   \n",
       "5054382  Secondary / secondary special            Married  House / apartment   \n",
       "5132319  Secondary / secondary special            Married   Office apartment   \n",
       "5132320  Secondary / secondary special            Married   Office apartment   \n",
       "...                                ...                ...                ...   \n",
       "5135540  Secondary / secondary special            Married    Co-op apartment   \n",
       "5135541  Secondary / secondary special            Married    Co-op apartment   \n",
       "5061207  Secondary / secondary special          Separated  House / apartment   \n",
       "5061210  Secondary / secondary special          Separated  House / apartment   \n",
       "5061211  Secondary / secondary special          Separated  House / apartment   \n",
       "\n",
       "        OCCUPATION_TYPE  CNT_CHILDREN  CNT_FAM_MEMBERS  AMT_INCOME_TOTAL  \\\n",
       "ID                                                                         \n",
       "5126174        Managers             0              2.0           27000.0   \n",
       "5126175        Managers             0              2.0           27000.0   \n",
       "5054382   Not Available             0              2.0           31500.0   \n",
       "5132319   Not Available             0              2.0           33300.0   \n",
       "5132320   Not Available             0              2.0           33300.0   \n",
       "...                 ...           ...              ...               ...   \n",
       "5135540        Managers             5              7.0          202500.0   \n",
       "5135541        Managers             5              7.0          202500.0   \n",
       "5061207         Drivers            14             15.0          225000.0   \n",
       "5061210         Drivers            14             15.0          225000.0   \n",
       "5061211         Drivers            14             15.0          225000.0   \n",
       "\n",
       "         DAYS_BIRTH  DAYS_EMPLOYED customer_type  months_in_book  contracts_nr  \n",
       "ID                                                                              \n",
       "5126174      -14869          -5067          good              49             2  \n",
       "5126175      -14869          -5067          good              49             2  \n",
       "5054382      -20836         365243          good              13             1  \n",
       "5132319      -19605         365243          good             276             8  \n",
       "5132320      -19605         365243          good             276             8  \n",
       "...             ...            ...           ...             ...           ...  \n",
       "5135540      -11384          -2727          good             121             8  \n",
       "5135541      -11384          -2727          good             121             8  \n",
       "5061207      -17754          -1689          good             111             3  \n",
       "5061210      -17754          -1689          good             111             3  \n",
       "5061211      -17754          -1689          good             111             3  \n",
       "\n",
       "[36457 rows x 20 columns]"
      ]
     },
     "execution_count": 22,
     "metadata": {},
     "output_type": "execute_result"
    }
   ],
   "source": [
    "cred_df_clean.reset_index(inplace=True)\n",
    "\n",
    "df = \\\n",
    "appl_df_clean.reset_index().merge(\n",
    "    cred_df_clean,\n",
    "    left_on = appl_df_clean.cust_id,\n",
    "    right_on = cred_df_clean.customer_id,\n",
    "    how = 'inner'\n",
    ").drop(columns = ['key_0','cust_id', 'customer_id']).set_index('ID')\n",
    "\n",
    "df"
   ]
  },
  {
   "cell_type": "markdown",
   "metadata": {
    "papermill": {
     "duration": 0.134374,
     "end_time": "2020-10-28T08:13:40.543763",
     "exception": false,
     "start_time": "2020-10-28T08:13:40.409389",
     "status": "completed"
    },
    "tags": []
   },
   "source": [
    "# Descriptive Analytics"
   ]
  },
  {
   "cell_type": "markdown",
   "metadata": {
    "papermill": {
     "duration": 0.132261,
     "end_time": "2020-10-28T08:13:40.816073",
     "exception": false,
     "start_time": "2020-10-28T08:13:40.683812",
     "status": "completed"
    },
    "tags": []
   },
   "source": [
    "Now that we have our datasets cleaned we can prepare some descriptive analytics about them"
   ]
  },
  {
   "cell_type": "markdown",
   "metadata": {
    "papermill": {
     "duration": 0.128429,
     "end_time": "2020-10-28T08:13:41.071195",
     "exception": false,
     "start_time": "2020-10-28T08:13:40.942766",
     "status": "completed"
    },
    "tags": []
   },
   "source": [
    "## Applications Dataset"
   ]
  },
  {
   "cell_type": "markdown",
   "metadata": {
    "papermill": {
     "duration": 0.126663,
     "end_time": "2020-10-28T08:13:41.325384",
     "exception": false,
     "start_time": "2020-10-28T08:13:41.198721",
     "status": "completed"
    },
    "tags": []
   },
   "source": [
    "### Flag features distributions"
   ]
  },
  {
   "cell_type": "code",
   "execution_count": 23,
   "metadata": {
    "execution": {
     "iopub.execute_input": "2020-10-28T08:13:41.598506Z",
     "iopub.status.busy": "2020-10-28T08:13:41.597742Z",
     "iopub.status.idle": "2020-10-28T08:13:42.499394Z",
     "shell.execute_reply": "2020-10-28T08:13:42.498712Z"
    },
    "papermill": {
     "duration": 1.04267,
     "end_time": "2020-10-28T08:13:42.499576",
     "exception": false,
     "start_time": "2020-10-28T08:13:41.456906",
     "status": "completed"
    },
    "tags": []
   },
   "outputs": [
    {
     "data": {
      "image/png": "[encoded data removed]",
      "text/plain": [
       "<Figure size 1440x360 with 6 Axes>"
      ]
     },
     "metadata": {
      "needs_background": "light"
     },
     "output_type": "display_data"
    }
   ],
   "source": [
    "fig, axes = plt.subplots(ncols=len( flag_cols ), figsize=(20,5))\n",
    "for col, ax in zip(df[flag_cols], axes):\n",
    "    df[col].value_counts().sort_values().plot.barh(ax=ax, title=col + ' histogram')\n",
    "\n",
    "plt.tight_layout()    \n",
    "plt.show()"
   ]
  },
  {
   "cell_type": "markdown",
   "metadata": {
    "papermill": {
     "duration": 0.131581,
     "end_time": "2020-10-28T08:13:42.778271",
     "exception": false,
     "start_time": "2020-10-28T08:13:42.646690",
     "status": "completed"
    },
    "tags": []
   },
   "source": [
    "From the above chart sequence we can imediatly see that all the customers, recorded in the application dataset, have a mobile phone.  \n",
    "This fact implies that it is irrelevant to use this feature for deault modeling, since it won't help to find differences amongst customers.  \n",
    "\n",
    "Other fact to note, is that in every flag feature, except FLAG_MOBIL, there is a notable difference between customers who have the caracteristic and the ones who don't.  "
   ]
  },
  {
   "cell_type": "code",
   "execution_count": 24,
   "metadata": {
    "execution": {
     "iopub.execute_input": "2020-10-28T08:13:43.052152Z",
     "iopub.status.busy": "2020-10-28T08:13:43.045355Z",
     "iopub.status.idle": "2020-10-28T08:13:43.067938Z",
     "shell.execute_reply": "2020-10-28T08:13:43.067147Z"
    },
    "papermill": {
     "duration": 0.160676,
     "end_time": "2020-10-28T08:13:43.068074",
     "exception": false,
     "start_time": "2020-10-28T08:13:42.907398",
     "status": "completed"
    },
    "tags": []
   },
   "outputs": [
    {
     "data": {
      "text/html": [
       "<div>\n",
       "<style scoped>\n",
       "    .dataframe tbody tr th:only-of-type {\n",
       "        vertical-align: middle;\n",
       "    }\n",
       "\n",
       "    .dataframe tbody tr th {\n",
       "        vertical-align: top;\n",
       "    }\n",
       "\n",
       "    .dataframe thead th {\n",
       "        text-align: right;\n",
       "    }\n",
       "</style>\n",
       "<table border=\"1\" class=\"dataframe\">\n",
       "  <thead>\n",
       "    <tr style=\"text-align: right;\">\n",
       "      <th></th>\n",
       "      <th>FLAG_OWN_CAR</th>\n",
       "      <th>FLAG_OWN_REALTY</th>\n",
       "      <th>FLAG_WORK_PHONE</th>\n",
       "      <th>FLAG_PHONE</th>\n",
       "      <th>FLAG_EMAIL</th>\n",
       "      <th>CODE_GENDER</th>\n",
       "      <th>NAME_INCOME_TYPE</th>\n",
       "      <th>NAME_EDUCATION_TYPE</th>\n",
       "      <th>NAME_FAMILY_STATUS</th>\n",
       "      <th>NAME_HOUSING_TYPE</th>\n",
       "      <th>OCCUPATION_TYPE</th>\n",
       "      <th>CNT_CHILDREN</th>\n",
       "      <th>CNT_FAM_MEMBERS</th>\n",
       "      <th>AMT_INCOME_TOTAL</th>\n",
       "      <th>DAYS_BIRTH</th>\n",
       "      <th>DAYS_EMPLOYED</th>\n",
       "      <th>customer_type</th>\n",
       "      <th>months_in_book</th>\n",
       "      <th>contracts_nr</th>\n",
       "    </tr>\n",
       "    <tr>\n",
       "      <th>ID</th>\n",
       "      <th></th>\n",
       "      <th></th>\n",
       "      <th></th>\n",
       "      <th></th>\n",
       "      <th></th>\n",
       "      <th></th>\n",
       "      <th></th>\n",
       "      <th></th>\n",
       "      <th></th>\n",
       "      <th></th>\n",
       "      <th></th>\n",
       "      <th></th>\n",
       "      <th></th>\n",
       "      <th></th>\n",
       "      <th></th>\n",
       "      <th></th>\n",
       "      <th></th>\n",
       "      <th></th>\n",
       "      <th></th>\n",
       "    </tr>\n",
       "  </thead>\n",
       "  <tbody>\n",
       "    <tr>\n",
       "      <th>5126174</th>\n",
       "      <td>0</td>\n",
       "      <td>0</td>\n",
       "      <td>1</td>\n",
       "      <td>0</td>\n",
       "      <td>0</td>\n",
       "      <td>F</td>\n",
       "      <td>Working</td>\n",
       "      <td>Higher education</td>\n",
       "      <td>Civil marriage</td>\n",
       "      <td>House / apartment</td>\n",
       "      <td>Managers</td>\n",
       "      <td>0</td>\n",
       "      <td>2.0</td>\n",
       "      <td>27000.0</td>\n",
       "      <td>-14869</td>\n",
       "      <td>-5067</td>\n",
       "      <td>good</td>\n",
       "      <td>49</td>\n",
       "      <td>2</td>\n",
       "    </tr>\n",
       "    <tr>\n",
       "      <th>5126175</th>\n",
       "      <td>0</td>\n",
       "      <td>0</td>\n",
       "      <td>1</td>\n",
       "      <td>0</td>\n",
       "      <td>0</td>\n",
       "      <td>F</td>\n",
       "      <td>Working</td>\n",
       "      <td>Higher education</td>\n",
       "      <td>Civil marriage</td>\n",
       "      <td>House / apartment</td>\n",
       "      <td>Managers</td>\n",
       "      <td>0</td>\n",
       "      <td>2.0</td>\n",
       "      <td>27000.0</td>\n",
       "      <td>-14869</td>\n",
       "      <td>-5067</td>\n",
       "      <td>good</td>\n",
       "      <td>49</td>\n",
       "      <td>2</td>\n",
       "    </tr>\n",
       "    <tr>\n",
       "      <th>5054382</th>\n",
       "      <td>0</td>\n",
       "      <td>0</td>\n",
       "      <td>0</td>\n",
       "      <td>0</td>\n",
       "      <td>0</td>\n",
       "      <td>F</td>\n",
       "      <td>Pensioner</td>\n",
       "      <td>Secondary / secondary special</td>\n",
       "      <td>Married</td>\n",
       "      <td>House / apartment</td>\n",
       "      <td>Not Available</td>\n",
       "      <td>0</td>\n",
       "      <td>2.0</td>\n",
       "      <td>31500.0</td>\n",
       "      <td>-20836</td>\n",
       "      <td>365243</td>\n",
       "      <td>good</td>\n",
       "      <td>13</td>\n",
       "      <td>1</td>\n",
       "    </tr>\n",
       "    <tr>\n",
       "      <th>5132319</th>\n",
       "      <td>0</td>\n",
       "      <td>0</td>\n",
       "      <td>0</td>\n",
       "      <td>0</td>\n",
       "      <td>0</td>\n",
       "      <td>F</td>\n",
       "      <td>Pensioner</td>\n",
       "      <td>Secondary / secondary special</td>\n",
       "      <td>Married</td>\n",
       "      <td>Office apartment</td>\n",
       "      <td>Not Available</td>\n",
       "      <td>0</td>\n",
       "      <td>2.0</td>\n",
       "      <td>33300.0</td>\n",
       "      <td>-19605</td>\n",
       "      <td>365243</td>\n",
       "      <td>good</td>\n",
       "      <td>276</td>\n",
       "      <td>8</td>\n",
       "    </tr>\n",
       "    <tr>\n",
       "      <th>5132320</th>\n",
       "      <td>0</td>\n",
       "      <td>0</td>\n",
       "      <td>0</td>\n",
       "      <td>0</td>\n",
       "      <td>0</td>\n",
       "      <td>F</td>\n",
       "      <td>Pensioner</td>\n",
       "      <td>Secondary / secondary special</td>\n",
       "      <td>Married</td>\n",
       "      <td>Office apartment</td>\n",
       "      <td>Not Available</td>\n",
       "      <td>0</td>\n",
       "      <td>2.0</td>\n",
       "      <td>33300.0</td>\n",
       "      <td>-19605</td>\n",
       "      <td>365243</td>\n",
       "      <td>good</td>\n",
       "      <td>276</td>\n",
       "      <td>8</td>\n",
       "    </tr>\n",
       "  </tbody>\n",
       "</table>\n",
       "</div>"
      ],
      "text/plain": [
       "         FLAG_OWN_CAR  FLAG_OWN_REALTY  FLAG_WORK_PHONE  FLAG_PHONE  \\\n",
       "ID                                                                    \n",
       "5126174             0                0                1           0   \n",
       "5126175             0                0                1           0   \n",
       "5054382             0                0                0           0   \n",
       "5132319             0                0                0           0   \n",
       "5132320             0                0                0           0   \n",
       "\n",
       "         FLAG_EMAIL CODE_GENDER NAME_INCOME_TYPE  \\\n",
       "ID                                                 \n",
       "5126174           0           F          Working   \n",
       "5126175           0           F          Working   \n",
       "5054382           0           F        Pensioner   \n",
       "5132319           0           F        Pensioner   \n",
       "5132320           0           F        Pensioner   \n",
       "\n",
       "                   NAME_EDUCATION_TYPE NAME_FAMILY_STATUS  NAME_HOUSING_TYPE  \\\n",
       "ID                                                                             \n",
       "5126174               Higher education     Civil marriage  House / apartment   \n",
       "5126175               Higher education     Civil marriage  House / apartment   \n",
       "5054382  Secondary / secondary special            Married  House / apartment   \n",
       "5132319  Secondary / secondary special            Married   Office apartment   \n",
       "5132320  Secondary / secondary special            Married   Office apartment   \n",
       "\n",
       "        OCCUPATION_TYPE  CNT_CHILDREN  CNT_FAM_MEMBERS  AMT_INCOME_TOTAL  \\\n",
       "ID                                                                         \n",
       "5126174        Managers             0              2.0           27000.0   \n",
       "5126175        Managers             0              2.0           27000.0   \n",
       "5054382   Not Available             0              2.0           31500.0   \n",
       "5132319   Not Available             0              2.0           33300.0   \n",
       "5132320   Not Available             0              2.0           33300.0   \n",
       "\n",
       "         DAYS_BIRTH  DAYS_EMPLOYED customer_type  months_in_book  contracts_nr  \n",
       "ID                                                                              \n",
       "5126174      -14869          -5067          good              49             2  \n",
       "5126175      -14869          -5067          good              49             2  \n",
       "5054382      -20836         365243          good              13             1  \n",
       "5132319      -19605         365243          good             276             8  \n",
       "5132320      -19605         365243          good             276             8  "
      ]
     },
     "execution_count": 24,
     "metadata": {},
     "output_type": "execute_result"
    }
   ],
   "source": [
    "#removing FLAG_MOBIL from the app_df_clean dataset since it holds no value for this study\n",
    "df.drop(columns=['FLAG_MOBIL'], inplace=True)\n",
    "#removing FLAG_MOBIL from flag_cols aswell\n",
    "flag_cols.remove('FLAG_MOBIL')\n",
    "\n",
    "df.head()"
   ]
  },
  {
   "cell_type": "markdown",
   "metadata": {
    "papermill": {
     "duration": 0.130751,
     "end_time": "2020-10-28T08:13:43.612641",
     "exception": false,
     "start_time": "2020-10-28T08:13:43.481890",
     "status": "completed"
    },
    "tags": []
   },
   "source": [
    "### Categorical Features Distributions"
   ]
  },
  {
   "cell_type": "code",
   "execution_count": 25,
   "metadata": {
    "execution": {
     "iopub.execute_input": "2020-10-28T08:13:43.880158Z",
     "iopub.status.busy": "2020-10-28T08:13:43.879232Z",
     "iopub.status.idle": "2020-10-28T08:13:44.847507Z",
     "shell.execute_reply": "2020-10-28T08:13:44.846647Z"
    },
    "papermill": {
     "duration": 1.106008,
     "end_time": "2020-10-28T08:13:44.847661",
     "exception": false,
     "start_time": "2020-10-28T08:13:43.741653",
     "status": "completed"
    },
    "tags": []
   },
   "outputs": [
    {
     "data": {
      "image/png": "[encoded data removed]",
      "text/plain": [
       "<Figure size 720x1440 with 6 Axes>"
      ]
     },
     "metadata": {
      "needs_background": "light"
     },
     "output_type": "display_data"
    }
   ],
   "source": [
    "fig, axes = plt.subplots( nrows= len(cat_cols),  figsize=(10,20))\n",
    "for col, ax in zip(df[cat_cols], axes):\n",
    "    df[df['customer_type']==\"bad\"][col].value_counts().sort_values().plot.barh(ax=ax, title=col + ' histogram')\n",
    "\n",
    "plt.tight_layout()    \n",
    "plt.show()"
   ]
  },
  {
   "cell_type": "markdown",
   "metadata": {
    "papermill": {
     "duration": 0.139668,
     "end_time": "2020-10-28T08:13:45.127795",
     "exception": false,
     "start_time": "2020-10-28T08:13:44.988127",
     "status": "completed"
    },
    "tags": []
   },
   "source": [
    "From the above charts we can immediately notice that there are notable differences in all categorical features.  \n"
   ]
  },
  {
   "cell_type": "markdown",
   "metadata": {
    "papermill": {
     "duration": 0.130414,
     "end_time": "2020-10-28T08:13:45.952059",
     "exception": false,
     "start_time": "2020-10-28T08:13:45.821645",
     "status": "completed"
    },
    "tags": []
   },
   "source": [
    "### Numeric Features Distributions"
   ]
  },
  {
   "cell_type": "code",
   "execution_count": 26,
   "metadata": {
    "execution": {
     "iopub.execute_input": "2020-10-28T08:13:46.226827Z",
     "iopub.status.busy": "2020-10-28T08:13:46.226046Z",
     "iopub.status.idle": "2020-10-28T08:13:46.229624Z",
     "shell.execute_reply": "2020-10-28T08:13:46.228870Z"
    },
    "papermill": {
     "duration": 0.143385,
     "end_time": "2020-10-28T08:13:46.229756",
     "exception": false,
     "start_time": "2020-10-28T08:13:46.086371",
     "status": "completed"
    },
    "tags": []
   },
   "outputs": [],
   "source": [
    "num_cols = num_cols + ['months_in_book', 'contracts_nr']"
   ]
  },
  {
   "cell_type": "code",
   "execution_count": 27,
   "metadata": {
    "execution": {
     "iopub.execute_input": "2020-10-28T08:13:46.524073Z",
     "iopub.status.busy": "2020-10-28T08:13:46.520400Z",
     "iopub.status.idle": "2020-10-28T08:13:47.481272Z",
     "shell.execute_reply": "2020-10-28T08:13:47.481910Z"
    },
    "papermill": {
     "duration": 1.113639,
     "end_time": "2020-10-28T08:13:47.482111",
     "exception": false,
     "start_time": "2020-10-28T08:13:46.368472",
     "status": "completed"
    },
    "tags": []
   },
   "outputs": [
    {
     "name": "stderr",
     "output_type": "stream",
     "text": [
      "C:\\Users\\amitb\\anaconda3\\envs\\hello\\lib\\site-packages\\seaborn\\distributions.py:2551: FutureWarning: `distplot` is a deprecated function and will be removed in a future version. Please adapt your code to use either `displot` (a figure-level function with similar flexibility) or `histplot` (an axes-level function for histograms).\n",
      "  warnings.warn(msg, FutureWarning)\n",
      "C:\\Users\\amitb\\anaconda3\\envs\\hello\\lib\\site-packages\\seaborn\\distributions.py:2551: FutureWarning: `distplot` is a deprecated function and will be removed in a future version. Please adapt your code to use either `displot` (a figure-level function with similar flexibility) or `histplot` (an axes-level function for histograms).\n",
      "  warnings.warn(msg, FutureWarning)\n",
      "C:\\Users\\amitb\\anaconda3\\envs\\hello\\lib\\site-packages\\seaborn\\distributions.py:2551: FutureWarning: `distplot` is a deprecated function and will be removed in a future version. Please adapt your code to use either `displot` (a figure-level function with similar flexibility) or `histplot` (an axes-level function for histograms).\n",
      "  warnings.warn(msg, FutureWarning)\n",
      "C:\\Users\\amitb\\anaconda3\\envs\\hello\\lib\\site-packages\\seaborn\\distributions.py:2551: FutureWarning: `distplot` is a deprecated function and will be removed in a future version. Please adapt your code to use either `displot` (a figure-level function with similar flexibility) or `histplot` (an axes-level function for histograms).\n",
      "  warnings.warn(msg, FutureWarning)\n",
      "C:\\Users\\amitb\\anaconda3\\envs\\hello\\lib\\site-packages\\seaborn\\distributions.py:2551: FutureWarning: `distplot` is a deprecated function and will be removed in a future version. Please adapt your code to use either `displot` (a figure-level function with similar flexibility) or `histplot` (an axes-level function for histograms).\n",
      "  warnings.warn(msg, FutureWarning)\n",
      "C:\\Users\\amitb\\anaconda3\\envs\\hello\\lib\\site-packages\\seaborn\\distributions.py:2551: FutureWarning: `distplot` is a deprecated function and will be removed in a future version. Please adapt your code to use either `displot` (a figure-level function with similar flexibility) or `histplot` (an axes-level function for histograms).\n",
      "  warnings.warn(msg, FutureWarning)\n",
      "C:\\Users\\amitb\\anaconda3\\envs\\hello\\lib\\site-packages\\seaborn\\distributions.py:2551: FutureWarning: `distplot` is a deprecated function and will be removed in a future version. Please adapt your code to use either `displot` (a figure-level function with similar flexibility) or `histplot` (an axes-level function for histograms).\n",
      "  warnings.warn(msg, FutureWarning)\n"
     ]
    },
    {
     "data": {
      "image/png": "[encoded data removed]",
      "text/plain": [
       "<Figure size 720x1440 with 7 Axes>"
      ]
     },
     "metadata": {
      "needs_background": "light"
     },
     "output_type": "display_data"
    },
    {
     "data": {
      "text/plain": [
       "''"
      ]
     },
     "execution_count": 27,
     "metadata": {},
     "output_type": "execute_result"
    }
   ],
   "source": [
    "fig, axes = plt.subplots( nrows= len(num_cols), figsize=(10,20))\n",
    "\n",
    "for col, ax in zip(df[num_cols], axes):\n",
    "    sns.distplot( df[col],ax=ax ,kde = False, fit=norm)\n",
    "\n",
    "plt.tight_layout()    \n",
    "plt.show()\n",
    ";"
   ]
  },
  {
   "cell_type": "markdown",
   "metadata": {
    "papermill": {
     "duration": 0.138531,
     "end_time": "2020-10-28T08:13:47.761116",
     "exception": false,
     "start_time": "2020-10-28T08:13:47.622585",
     "status": "completed"
    },
    "tags": []
   },
   "source": [
    "Analysing the numeric features distribution plots, we can imediatly see that all of this features are assimetric over the lower values, except DAYS_BITH.  \n",
    "  \n",
    "This says alot about the majority of the profiles:  \n",
    "Most customers have:   \n",
    "- none or few children,  \n",
    "- have small families,  \n",
    "- have low incomes,  \n",
    "- have about 43 years old  \n",
    "- are emplyoed for not too long, although there is a significant proportion who are unemployed (those positive days are way too high!!! ) \n",
    "\n",
    "\n",
    "From here we can also see that we, probably, will have serious problems with outliers lying in the data.  "
   ]
  },
  {
   "cell_type": "markdown",
   "metadata": {
    "papermill": {
     "duration": 0.138286,
     "end_time": "2020-10-28T08:13:48.046021",
     "exception": false,
     "start_time": "2020-10-28T08:13:47.907735",
     "status": "completed"
    },
    "tags": []
   },
   "source": [
    "### Numeric features | Outliers detection"
   ]
  },
  {
   "cell_type": "code",
   "execution_count": 28,
   "metadata": {
    "execution": {
     "iopub.execute_input": "2020-10-28T08:13:48.335883Z",
     "iopub.status.busy": "2020-10-28T08:13:48.334982Z",
     "iopub.status.idle": "2020-10-28T08:13:48.339150Z",
     "shell.execute_reply": "2020-10-28T08:13:48.339751Z"
    },
    "papermill": {
     "duration": 0.155164,
     "end_time": "2020-10-28T08:13:48.339932",
     "exception": false,
     "start_time": "2020-10-28T08:13:48.184768",
     "status": "completed"
    },
    "tags": []
   },
   "outputs": [
    {
     "data": {
      "text/html": [
       "<div>\n",
       "<style scoped>\n",
       "    .dataframe tbody tr th:only-of-type {\n",
       "        vertical-align: middle;\n",
       "    }\n",
       "\n",
       "    .dataframe tbody tr th {\n",
       "        vertical-align: top;\n",
       "    }\n",
       "\n",
       "    .dataframe thead th {\n",
       "        text-align: right;\n",
       "    }\n",
       "</style>\n",
       "<table border=\"1\" class=\"dataframe\">\n",
       "  <thead>\n",
       "    <tr style=\"text-align: right;\">\n",
       "      <th></th>\n",
       "      <th>CNT_CHILDREN</th>\n",
       "      <th>CNT_FAM_MEMBERS</th>\n",
       "      <th>AMT_INCOME_TOTAL</th>\n",
       "      <th>DAYS_BIRTH</th>\n",
       "      <th>DAYS_EMPLOYED</th>\n",
       "      <th>months_in_book</th>\n",
       "      <th>contracts_nr</th>\n",
       "    </tr>\n",
       "  </thead>\n",
       "  <tbody>\n",
       "    <tr>\n",
       "      <th>count</th>\n",
       "      <td>36457.0</td>\n",
       "      <td>36457.0</td>\n",
       "      <td>36457.0</td>\n",
       "      <td>36457.0</td>\n",
       "      <td>36457.0</td>\n",
       "      <td>36457.0</td>\n",
       "      <td>36457.0</td>\n",
       "    </tr>\n",
       "    <tr>\n",
       "      <th>mean</th>\n",
       "      <td>0.0</td>\n",
       "      <td>2.0</td>\n",
       "      <td>186686.0</td>\n",
       "      <td>-15975.0</td>\n",
       "      <td>59263.0</td>\n",
       "      <td>146.0</td>\n",
       "      <td>7.0</td>\n",
       "    </tr>\n",
       "    <tr>\n",
       "      <th>std</th>\n",
       "      <td>1.0</td>\n",
       "      <td>1.0</td>\n",
       "      <td>101789.0</td>\n",
       "      <td>4201.0</td>\n",
       "      <td>137651.0</td>\n",
       "      <td>120.0</td>\n",
       "      <td>5.0</td>\n",
       "    </tr>\n",
       "    <tr>\n",
       "      <th>min</th>\n",
       "      <td>0.0</td>\n",
       "      <td>1.0</td>\n",
       "      <td>27000.0</td>\n",
       "      <td>-25152.0</td>\n",
       "      <td>-15713.0</td>\n",
       "      <td>1.0</td>\n",
       "      <td>1.0</td>\n",
       "    </tr>\n",
       "    <tr>\n",
       "      <th>25%</th>\n",
       "      <td>0.0</td>\n",
       "      <td>2.0</td>\n",
       "      <td>121500.0</td>\n",
       "      <td>-19438.0</td>\n",
       "      <td>-3153.0</td>\n",
       "      <td>54.0</td>\n",
       "      <td>3.0</td>\n",
       "    </tr>\n",
       "    <tr>\n",
       "      <th>50%</th>\n",
       "      <td>0.0</td>\n",
       "      <td>2.0</td>\n",
       "      <td>157500.0</td>\n",
       "      <td>-15563.0</td>\n",
       "      <td>-1552.0</td>\n",
       "      <td>114.0</td>\n",
       "      <td>6.0</td>\n",
       "    </tr>\n",
       "    <tr>\n",
       "      <th>75%</th>\n",
       "      <td>1.0</td>\n",
       "      <td>3.0</td>\n",
       "      <td>225000.0</td>\n",
       "      <td>-12462.0</td>\n",
       "      <td>-408.0</td>\n",
       "      <td>206.0</td>\n",
       "      <td>9.0</td>\n",
       "    </tr>\n",
       "    <tr>\n",
       "      <th>max</th>\n",
       "      <td>19.0</td>\n",
       "      <td>20.0</td>\n",
       "      <td>1575000.0</td>\n",
       "      <td>-7489.0</td>\n",
       "      <td>365243.0</td>\n",
       "      <td>799.0</td>\n",
       "      <td>51.0</td>\n",
       "    </tr>\n",
       "  </tbody>\n",
       "</table>\n",
       "</div>"
      ],
      "text/plain": [
       "       CNT_CHILDREN  CNT_FAM_MEMBERS  AMT_INCOME_TOTAL  DAYS_BIRTH  \\\n",
       "count       36457.0          36457.0           36457.0     36457.0   \n",
       "mean            0.0              2.0          186686.0    -15975.0   \n",
       "std             1.0              1.0          101789.0      4201.0   \n",
       "min             0.0              1.0           27000.0    -25152.0   \n",
       "25%             0.0              2.0          121500.0    -19438.0   \n",
       "50%             0.0              2.0          157500.0    -15563.0   \n",
       "75%             1.0              3.0          225000.0    -12462.0   \n",
       "max            19.0             20.0         1575000.0     -7489.0   \n",
       "\n",
       "       DAYS_EMPLOYED  months_in_book  contracts_nr  \n",
       "count        36457.0         36457.0       36457.0  \n",
       "mean         59263.0           146.0           7.0  \n",
       "std         137651.0           120.0           5.0  \n",
       "min         -15713.0             1.0           1.0  \n",
       "25%          -3153.0            54.0           3.0  \n",
       "50%          -1552.0           114.0           6.0  \n",
       "75%           -408.0           206.0           9.0  \n",
       "max         365243.0           799.0          51.0  "
      ]
     },
     "execution_count": 28,
     "metadata": {},
     "output_type": "execute_result"
    }
   ],
   "source": [
    "desc_num = round( df[num_cols].describe(), 0)\n",
    "desc_num    "
   ]
  },
  {
   "cell_type": "markdown",
   "metadata": {
    "papermill": {
     "duration": 0.142649,
     "end_time": "2020-10-28T08:13:48.618478",
     "exception": false,
     "start_time": "2020-10-28T08:13:48.475829",
     "status": "completed"
    },
    "tags": []
   },
   "source": [
    "  \n",
    "365,243 days unemployed translates into about 1001 years unemployed! (according to data dic, positive values for this feature mean the person is unemployed)  \n",
    "This is impossible \n",
    "  \n",
    "Actually, if we filter app_df_clean by positive values in DAYS_EMPLOYED and check the minimum value for the resulting DAYS_EMPLOYED sample, we get 365243 days  \n",
    "which means that all of the positive values in app_df_clean are, most defenetly, wrongly registered.  \n"
   ]
  },
  {
   "cell_type": "code",
   "execution_count": 29,
   "metadata": {
    "execution": {
     "iopub.execute_input": "2020-10-28T08:13:48.907650Z",
     "iopub.status.busy": "2020-10-28T08:13:48.906790Z",
     "iopub.status.idle": "2020-10-28T08:13:48.911798Z",
     "shell.execute_reply": "2020-10-28T08:13:48.911175Z"
    },
    "papermill": {
     "duration": 0.158873,
     "end_time": "2020-10-28T08:13:48.911936",
     "exception": false,
     "start_time": "2020-10-28T08:13:48.753063",
     "status": "completed"
    },
    "tags": []
   },
   "outputs": [
    {
     "data": {
      "text/plain": [
       "365243"
      ]
     },
     "execution_count": 29,
     "metadata": {},
     "output_type": "execute_result"
    }
   ],
   "source": [
    "df[df.DAYS_EMPLOYED > 0 ]['DAYS_EMPLOYED'].min()"
   ]
  },
  {
   "cell_type": "code",
   "execution_count": 30,
   "metadata": {
    "execution": {
     "iopub.execute_input": "2020-10-28T08:13:49.190363Z",
     "iopub.status.busy": "2020-10-28T08:13:49.189447Z",
     "iopub.status.idle": "2020-10-28T08:13:49.242456Z",
     "shell.execute_reply": "2020-10-28T08:13:49.243094Z"
    },
    "papermill": {
     "duration": 0.194944,
     "end_time": "2020-10-28T08:13:49.243285",
     "exception": false,
     "start_time": "2020-10-28T08:13:49.048341",
     "status": "completed"
    },
    "tags": []
   },
   "outputs": [
    {
     "data": {
      "text/plain": [
       "365243"
      ]
     },
     "execution_count": 30,
     "metadata": {},
     "output_type": "execute_result"
    }
   ],
   "source": [
    "appl_df[appl_df.DAYS_EMPLOYED > 0 ]['DAYS_EMPLOYED'].min()"
   ]
  },
  {
   "cell_type": "markdown",
   "metadata": {
    "papermill": {
     "duration": 0.144295,
     "end_time": "2020-10-28T08:13:49.535705",
     "exception": false,
     "start_time": "2020-10-28T08:13:49.391410",
     "status": "completed"
    },
    "tags": []
   },
   "source": [
    " This leave us with no idea for how long people are unemployed "
   ]
  },
  {
   "cell_type": "markdown",
   "metadata": {
    "papermill": {
     "duration": 0.145075,
     "end_time": "2020-10-28T08:13:49.825890",
     "exception": false,
     "start_time": "2020-10-28T08:13:49.680815",
     "status": "completed"
    },
    "tags": []
   },
   "source": [
    "checking who are the customers who have that much time unemployed..."
   ]
  },
  {
   "cell_type": "code",
   "execution_count": 31,
   "metadata": {
    "execution": {
     "iopub.execute_input": "2020-10-28T08:13:50.120971Z",
     "iopub.status.busy": "2020-10-28T08:13:50.119858Z",
     "iopub.status.idle": "2020-10-28T08:13:50.134897Z",
     "shell.execute_reply": "2020-10-28T08:13:50.134095Z"
    },
    "papermill": {
     "duration": 0.169595,
     "end_time": "2020-10-28T08:13:50.135040",
     "exception": false,
     "start_time": "2020-10-28T08:13:49.965445",
     "status": "completed"
    },
    "tags": []
   },
   "outputs": [
    {
     "name": "stderr",
     "output_type": "stream",
     "text": [
      "C:\\Users\\amitb\\anaconda3\\envs\\hello\\lib\\site-packages\\ipykernel_launcher.py:1: UserWarning: Boolean Series key will be reindexed to match DataFrame index.\n",
      "  \"\"\"Entry point for launching an IPython kernel.\n"
     ]
    },
    {
     "data": {
      "text/html": [
       "<div>\n",
       "<style scoped>\n",
       "    .dataframe tbody tr th:only-of-type {\n",
       "        vertical-align: middle;\n",
       "    }\n",
       "\n",
       "    .dataframe tbody tr th {\n",
       "        vertical-align: top;\n",
       "    }\n",
       "\n",
       "    .dataframe thead th {\n",
       "        text-align: right;\n",
       "    }\n",
       "</style>\n",
       "<table border=\"1\" class=\"dataframe\">\n",
       "  <thead>\n",
       "    <tr style=\"text-align: right;\">\n",
       "      <th>ID</th>\n",
       "      <th>5054382</th>\n",
       "      <th>5132319</th>\n",
       "      <th>5132320</th>\n",
       "      <th>5132321</th>\n",
       "      <th>5132322</th>\n",
       "    </tr>\n",
       "  </thead>\n",
       "  <tbody>\n",
       "    <tr>\n",
       "      <th>FLAG_OWN_CAR</th>\n",
       "      <td>0</td>\n",
       "      <td>0</td>\n",
       "      <td>0</td>\n",
       "      <td>0</td>\n",
       "      <td>0</td>\n",
       "    </tr>\n",
       "    <tr>\n",
       "      <th>FLAG_OWN_REALTY</th>\n",
       "      <td>0</td>\n",
       "      <td>0</td>\n",
       "      <td>0</td>\n",
       "      <td>0</td>\n",
       "      <td>0</td>\n",
       "    </tr>\n",
       "    <tr>\n",
       "      <th>FLAG_WORK_PHONE</th>\n",
       "      <td>0</td>\n",
       "      <td>0</td>\n",
       "      <td>0</td>\n",
       "      <td>0</td>\n",
       "      <td>0</td>\n",
       "    </tr>\n",
       "    <tr>\n",
       "      <th>FLAG_PHONE</th>\n",
       "      <td>0</td>\n",
       "      <td>0</td>\n",
       "      <td>0</td>\n",
       "      <td>0</td>\n",
       "      <td>0</td>\n",
       "    </tr>\n",
       "    <tr>\n",
       "      <th>FLAG_EMAIL</th>\n",
       "      <td>0</td>\n",
       "      <td>0</td>\n",
       "      <td>0</td>\n",
       "      <td>0</td>\n",
       "      <td>0</td>\n",
       "    </tr>\n",
       "    <tr>\n",
       "      <th>CODE_GENDER</th>\n",
       "      <td>F</td>\n",
       "      <td>F</td>\n",
       "      <td>F</td>\n",
       "      <td>F</td>\n",
       "      <td>F</td>\n",
       "    </tr>\n",
       "    <tr>\n",
       "      <th>NAME_INCOME_TYPE</th>\n",
       "      <td>Pensioner</td>\n",
       "      <td>Pensioner</td>\n",
       "      <td>Pensioner</td>\n",
       "      <td>Pensioner</td>\n",
       "      <td>Pensioner</td>\n",
       "    </tr>\n",
       "    <tr>\n",
       "      <th>NAME_EDUCATION_TYPE</th>\n",
       "      <td>Secondary / secondary special</td>\n",
       "      <td>Secondary / secondary special</td>\n",
       "      <td>Secondary / secondary special</td>\n",
       "      <td>Secondary / secondary special</td>\n",
       "      <td>Secondary / secondary special</td>\n",
       "    </tr>\n",
       "    <tr>\n",
       "      <th>NAME_FAMILY_STATUS</th>\n",
       "      <td>Married</td>\n",
       "      <td>Married</td>\n",
       "      <td>Married</td>\n",
       "      <td>Married</td>\n",
       "      <td>Married</td>\n",
       "    </tr>\n",
       "    <tr>\n",
       "      <th>NAME_HOUSING_TYPE</th>\n",
       "      <td>House / apartment</td>\n",
       "      <td>Office apartment</td>\n",
       "      <td>Office apartment</td>\n",
       "      <td>Office apartment</td>\n",
       "      <td>Office apartment</td>\n",
       "    </tr>\n",
       "    <tr>\n",
       "      <th>OCCUPATION_TYPE</th>\n",
       "      <td>Not Available</td>\n",
       "      <td>Not Available</td>\n",
       "      <td>Not Available</td>\n",
       "      <td>Not Available</td>\n",
       "      <td>Not Available</td>\n",
       "    </tr>\n",
       "    <tr>\n",
       "      <th>CNT_CHILDREN</th>\n",
       "      <td>0</td>\n",
       "      <td>0</td>\n",
       "      <td>0</td>\n",
       "      <td>0</td>\n",
       "      <td>0</td>\n",
       "    </tr>\n",
       "    <tr>\n",
       "      <th>CNT_FAM_MEMBERS</th>\n",
       "      <td>2</td>\n",
       "      <td>2</td>\n",
       "      <td>2</td>\n",
       "      <td>2</td>\n",
       "      <td>2</td>\n",
       "    </tr>\n",
       "    <tr>\n",
       "      <th>AMT_INCOME_TOTAL</th>\n",
       "      <td>31500</td>\n",
       "      <td>33300</td>\n",
       "      <td>33300</td>\n",
       "      <td>33300</td>\n",
       "      <td>33300</td>\n",
       "    </tr>\n",
       "    <tr>\n",
       "      <th>DAYS_BIRTH</th>\n",
       "      <td>-20836</td>\n",
       "      <td>-19605</td>\n",
       "      <td>-19605</td>\n",
       "      <td>-19605</td>\n",
       "      <td>-19605</td>\n",
       "    </tr>\n",
       "    <tr>\n",
       "      <th>DAYS_EMPLOYED</th>\n",
       "      <td>365243</td>\n",
       "      <td>365243</td>\n",
       "      <td>365243</td>\n",
       "      <td>365243</td>\n",
       "      <td>365243</td>\n",
       "    </tr>\n",
       "    <tr>\n",
       "      <th>customer_type</th>\n",
       "      <td>good</td>\n",
       "      <td>good</td>\n",
       "      <td>good</td>\n",
       "      <td>good</td>\n",
       "      <td>good</td>\n",
       "    </tr>\n",
       "    <tr>\n",
       "      <th>months_in_book</th>\n",
       "      <td>13</td>\n",
       "      <td>276</td>\n",
       "      <td>276</td>\n",
       "      <td>276</td>\n",
       "      <td>276</td>\n",
       "    </tr>\n",
       "    <tr>\n",
       "      <th>contracts_nr</th>\n",
       "      <td>1</td>\n",
       "      <td>8</td>\n",
       "      <td>8</td>\n",
       "      <td>8</td>\n",
       "      <td>8</td>\n",
       "    </tr>\n",
       "  </tbody>\n",
       "</table>\n",
       "</div>"
      ],
      "text/plain": [
       "ID                                         5054382  \\\n",
       "FLAG_OWN_CAR                                     0   \n",
       "FLAG_OWN_REALTY                                  0   \n",
       "FLAG_WORK_PHONE                                  0   \n",
       "FLAG_PHONE                                       0   \n",
       "FLAG_EMAIL                                       0   \n",
       "CODE_GENDER                                      F   \n",
       "NAME_INCOME_TYPE                         Pensioner   \n",
       "NAME_EDUCATION_TYPE  Secondary / secondary special   \n",
       "NAME_FAMILY_STATUS                         Married   \n",
       "NAME_HOUSING_TYPE                House / apartment   \n",
       "OCCUPATION_TYPE                      Not Available   \n",
       "CNT_CHILDREN                                     0   \n",
       "CNT_FAM_MEMBERS                                  2   \n",
       "AMT_INCOME_TOTAL                             31500   \n",
       "DAYS_BIRTH                                  -20836   \n",
       "DAYS_EMPLOYED                               365243   \n",
       "customer_type                                 good   \n",
       "months_in_book                                  13   \n",
       "contracts_nr                                     1   \n",
       "\n",
       "ID                                         5132319  \\\n",
       "FLAG_OWN_CAR                                     0   \n",
       "FLAG_OWN_REALTY                                  0   \n",
       "FLAG_WORK_PHONE                                  0   \n",
       "FLAG_PHONE                                       0   \n",
       "FLAG_EMAIL                                       0   \n",
       "CODE_GENDER                                      F   \n",
       "NAME_INCOME_TYPE                         Pensioner   \n",
       "NAME_EDUCATION_TYPE  Secondary / secondary special   \n",
       "NAME_FAMILY_STATUS                         Married   \n",
       "NAME_HOUSING_TYPE                 Office apartment   \n",
       "OCCUPATION_TYPE                      Not Available   \n",
       "CNT_CHILDREN                                     0   \n",
       "CNT_FAM_MEMBERS                                  2   \n",
       "AMT_INCOME_TOTAL                             33300   \n",
       "DAYS_BIRTH                                  -19605   \n",
       "DAYS_EMPLOYED                               365243   \n",
       "customer_type                                 good   \n",
       "months_in_book                                 276   \n",
       "contracts_nr                                     8   \n",
       "\n",
       "ID                                         5132320  \\\n",
       "FLAG_OWN_CAR                                     0   \n",
       "FLAG_OWN_REALTY                                  0   \n",
       "FLAG_WORK_PHONE                                  0   \n",
       "FLAG_PHONE                                       0   \n",
       "FLAG_EMAIL                                       0   \n",
       "CODE_GENDER                                      F   \n",
       "NAME_INCOME_TYPE                         Pensioner   \n",
       "NAME_EDUCATION_TYPE  Secondary / secondary special   \n",
       "NAME_FAMILY_STATUS                         Married   \n",
       "NAME_HOUSING_TYPE                 Office apartment   \n",
       "OCCUPATION_TYPE                      Not Available   \n",
       "CNT_CHILDREN                                     0   \n",
       "CNT_FAM_MEMBERS                                  2   \n",
       "AMT_INCOME_TOTAL                             33300   \n",
       "DAYS_BIRTH                                  -19605   \n",
       "DAYS_EMPLOYED                               365243   \n",
       "customer_type                                 good   \n",
       "months_in_book                                 276   \n",
       "contracts_nr                                     8   \n",
       "\n",
       "ID                                         5132321  \\\n",
       "FLAG_OWN_CAR                                     0   \n",
       "FLAG_OWN_REALTY                                  0   \n",
       "FLAG_WORK_PHONE                                  0   \n",
       "FLAG_PHONE                                       0   \n",
       "FLAG_EMAIL                                       0   \n",
       "CODE_GENDER                                      F   \n",
       "NAME_INCOME_TYPE                         Pensioner   \n",
       "NAME_EDUCATION_TYPE  Secondary / secondary special   \n",
       "NAME_FAMILY_STATUS                         Married   \n",
       "NAME_HOUSING_TYPE                 Office apartment   \n",
       "OCCUPATION_TYPE                      Not Available   \n",
       "CNT_CHILDREN                                     0   \n",
       "CNT_FAM_MEMBERS                                  2   \n",
       "AMT_INCOME_TOTAL                             33300   \n",
       "DAYS_BIRTH                                  -19605   \n",
       "DAYS_EMPLOYED                               365243   \n",
       "customer_type                                 good   \n",
       "months_in_book                                 276   \n",
       "contracts_nr                                     8   \n",
       "\n",
       "ID                                         5132322  \n",
       "FLAG_OWN_CAR                                     0  \n",
       "FLAG_OWN_REALTY                                  0  \n",
       "FLAG_WORK_PHONE                                  0  \n",
       "FLAG_PHONE                                       0  \n",
       "FLAG_EMAIL                                       0  \n",
       "CODE_GENDER                                      F  \n",
       "NAME_INCOME_TYPE                         Pensioner  \n",
       "NAME_EDUCATION_TYPE  Secondary / secondary special  \n",
       "NAME_FAMILY_STATUS                         Married  \n",
       "NAME_HOUSING_TYPE                 Office apartment  \n",
       "OCCUPATION_TYPE                      Not Available  \n",
       "CNT_CHILDREN                                     0  \n",
       "CNT_FAM_MEMBERS                                  2  \n",
       "AMT_INCOME_TOTAL                             33300  \n",
       "DAYS_BIRTH                                  -19605  \n",
       "DAYS_EMPLOYED                               365243  \n",
       "customer_type                                 good  \n",
       "months_in_book                                 276  \n",
       "contracts_nr                                     8  "
      ]
     },
     "execution_count": 31,
     "metadata": {},
     "output_type": "execute_result"
    }
   ],
   "source": [
    "appl_df_unem = df[appl_df_clean.DAYS_EMPLOYED > 0 ]\n",
    "appl_df_unem.head().T"
   ]
  },
  {
   "cell_type": "markdown",
   "metadata": {
    "papermill": {
     "duration": 0.137446,
     "end_time": "2020-10-28T08:13:50.412382",
     "exception": false,
     "start_time": "2020-10-28T08:13:50.274936",
     "status": "completed"
    },
    "tags": []
   },
   "source": [
    "Seems like they are mostly pensionists...  \n",
    "Let's confirm that fact:"
   ]
  },
  {
   "cell_type": "code",
   "execution_count": 32,
   "metadata": {
    "execution": {
     "iopub.execute_input": "2020-10-28T08:13:50.702661Z",
     "iopub.status.busy": "2020-10-28T08:13:50.697164Z",
     "iopub.status.idle": "2020-10-28T08:13:50.716564Z",
     "shell.execute_reply": "2020-10-28T08:13:50.717310Z"
    },
    "papermill": {
     "duration": 0.165307,
     "end_time": "2020-10-28T08:13:50.717508",
     "exception": false,
     "start_time": "2020-10-28T08:13:50.552201",
     "status": "completed"
    },
    "tags": []
   },
   "outputs": [
    {
     "name": "stdout",
     "output_type": "stream",
     "text": [
      "['Pensioner']\n",
      "\n",
      "['Not Available']\n"
     ]
    }
   ],
   "source": [
    "print( appl_df_unem['NAME_INCOME_TYPE'].unique() )\n",
    "print('')\n",
    "print( appl_df_unem['OCCUPATION_TYPE'].unique() )"
   ]
  },
  {
   "cell_type": "code",
   "execution_count": 33,
   "metadata": {
    "execution": {
     "iopub.execute_input": "2020-10-28T08:13:51.001453Z",
     "iopub.status.busy": "2020-10-28T08:13:51.000691Z",
     "iopub.status.idle": "2020-10-28T08:13:51.073136Z",
     "shell.execute_reply": "2020-10-28T08:13:51.072450Z"
    },
    "papermill": {
     "duration": 0.218173,
     "end_time": "2020-10-28T08:13:51.073268",
     "exception": false,
     "start_time": "2020-10-28T08:13:50.855095",
     "status": "completed"
    },
    "tags": []
   },
   "outputs": [
    {
     "name": "stdout",
     "output_type": "stream",
     "text": [
      "['Pensioner']\n",
      "\n",
      "[nan]\n"
     ]
    }
   ],
   "source": [
    "print( appl_df[appl_df.DAYS_EMPLOYED == 365243]['NAME_INCOME_TYPE'].unique() )\n",
    "print('')\n",
    "print(appl_df[appl_df.DAYS_EMPLOYED == 365243]['OCCUPATION_TYPE'].unique())"
   ]
  },
  {
   "cell_type": "markdown",
   "metadata": {
    "papermill": {
     "duration": 0.137185,
     "end_time": "2020-10-28T08:13:51.348708",
     "exception": false,
     "start_time": "2020-10-28T08:13:51.211523",
     "status": "completed"
    },
    "tags": []
   },
   "source": [
    "So... this lead us to conclude that whoever built this dataframe, used 365,243 days figure to register pensionists who have no occupation.  \n",
    "Our model will need to understand that people are not employed (and neither they are employed) because they are already pensionists."
   ]
  },
  {
   "cell_type": "code",
   "execution_count": 34,
   "metadata": {
    "scrolled": true
   },
   "outputs": [
    {
     "data": {
      "text/html": [
       "<div>\n",
       "<style scoped>\n",
       "    .dataframe tbody tr th:only-of-type {\n",
       "        vertical-align: middle;\n",
       "    }\n",
       "\n",
       "    .dataframe tbody tr th {\n",
       "        vertical-align: top;\n",
       "    }\n",
       "\n",
       "    .dataframe thead th {\n",
       "        text-align: right;\n",
       "    }\n",
       "</style>\n",
       "<table border=\"1\" class=\"dataframe\">\n",
       "  <thead>\n",
       "    <tr style=\"text-align: right;\">\n",
       "      <th></th>\n",
       "      <th>FLAG_OWN_CAR</th>\n",
       "      <th>FLAG_OWN_REALTY</th>\n",
       "      <th>FLAG_WORK_PHONE</th>\n",
       "      <th>FLAG_PHONE</th>\n",
       "      <th>FLAG_EMAIL</th>\n",
       "      <th>CNT_CHILDREN</th>\n",
       "      <th>CNT_FAM_MEMBERS</th>\n",
       "      <th>AMT_INCOME_TOTAL</th>\n",
       "      <th>DAYS_BIRTH</th>\n",
       "      <th>DAYS_EMPLOYED</th>\n",
       "      <th>months_in_book</th>\n",
       "      <th>contracts_nr</th>\n",
       "    </tr>\n",
       "  </thead>\n",
       "  <tbody>\n",
       "    <tr>\n",
       "      <th>count</th>\n",
       "      <td>489.000000</td>\n",
       "      <td>489.000000</td>\n",
       "      <td>489.000000</td>\n",
       "      <td>489.000000</td>\n",
       "      <td>489.000000</td>\n",
       "      <td>489.000000</td>\n",
       "      <td>489.000000</td>\n",
       "      <td>489.000000</td>\n",
       "      <td>489.000000</td>\n",
       "      <td>489.000000</td>\n",
       "      <td>489.000000</td>\n",
       "      <td>489.000000</td>\n",
       "    </tr>\n",
       "    <tr>\n",
       "      <th>mean</th>\n",
       "      <td>0.359918</td>\n",
       "      <td>0.638037</td>\n",
       "      <td>0.249489</td>\n",
       "      <td>0.316973</td>\n",
       "      <td>0.104294</td>\n",
       "      <td>0.443763</td>\n",
       "      <td>2.218814</td>\n",
       "      <td>188531.944785</td>\n",
       "      <td>-15738.204499</td>\n",
       "      <td>58036.241309</td>\n",
       "      <td>125.605317</td>\n",
       "      <td>5.548057</td>\n",
       "    </tr>\n",
       "    <tr>\n",
       "      <th>std</th>\n",
       "      <td>0.480468</td>\n",
       "      <td>0.481060</td>\n",
       "      <td>0.433160</td>\n",
       "      <td>0.465773</td>\n",
       "      <td>0.305955</td>\n",
       "      <td>0.650825</td>\n",
       "      <td>0.843960</td>\n",
       "      <td>109834.713123</td>\n",
       "      <td>4328.156167</td>\n",
       "      <td>136021.174147</td>\n",
       "      <td>93.110137</td>\n",
       "      <td>4.412891</td>\n",
       "    </tr>\n",
       "    <tr>\n",
       "      <th>min</th>\n",
       "      <td>0.000000</td>\n",
       "      <td>0.000000</td>\n",
       "      <td>0.000000</td>\n",
       "      <td>0.000000</td>\n",
       "      <td>0.000000</td>\n",
       "      <td>0.000000</td>\n",
       "      <td>1.000000</td>\n",
       "      <td>36000.000000</td>\n",
       "      <td>-24611.000000</td>\n",
       "      <td>-12827.000000</td>\n",
       "      <td>3.000000</td>\n",
       "      <td>1.000000</td>\n",
       "    </tr>\n",
       "    <tr>\n",
       "      <th>25%</th>\n",
       "      <td>0.000000</td>\n",
       "      <td>0.000000</td>\n",
       "      <td>0.000000</td>\n",
       "      <td>0.000000</td>\n",
       "      <td>0.000000</td>\n",
       "      <td>0.000000</td>\n",
       "      <td>2.000000</td>\n",
       "      <td>112500.000000</td>\n",
       "      <td>-18907.000000</td>\n",
       "      <td>-2218.000000</td>\n",
       "      <td>55.000000</td>\n",
       "      <td>2.000000</td>\n",
       "    </tr>\n",
       "    <tr>\n",
       "      <th>50%</th>\n",
       "      <td>0.000000</td>\n",
       "      <td>1.000000</td>\n",
       "      <td>0.000000</td>\n",
       "      <td>0.000000</td>\n",
       "      <td>0.000000</td>\n",
       "      <td>0.000000</td>\n",
       "      <td>2.000000</td>\n",
       "      <td>157500.000000</td>\n",
       "      <td>-15645.000000</td>\n",
       "      <td>-925.000000</td>\n",
       "      <td>103.000000</td>\n",
       "      <td>4.000000</td>\n",
       "    </tr>\n",
       "    <tr>\n",
       "      <th>75%</th>\n",
       "      <td>1.000000</td>\n",
       "      <td>1.000000</td>\n",
       "      <td>0.000000</td>\n",
       "      <td>1.000000</td>\n",
       "      <td>0.000000</td>\n",
       "      <td>1.000000</td>\n",
       "      <td>3.000000</td>\n",
       "      <td>225000.000000</td>\n",
       "      <td>-11998.000000</td>\n",
       "      <td>-346.000000</td>\n",
       "      <td>172.000000</td>\n",
       "      <td>7.000000</td>\n",
       "    </tr>\n",
       "    <tr>\n",
       "      <th>max</th>\n",
       "      <td>1.000000</td>\n",
       "      <td>1.000000</td>\n",
       "      <td>1.000000</td>\n",
       "      <td>1.000000</td>\n",
       "      <td>1.000000</td>\n",
       "      <td>3.000000</td>\n",
       "      <td>5.000000</td>\n",
       "      <td>675000.000000</td>\n",
       "      <td>-8168.000000</td>\n",
       "      <td>365243.000000</td>\n",
       "      <td>400.000000</td>\n",
       "      <td>20.000000</td>\n",
       "    </tr>\n",
       "  </tbody>\n",
       "</table>\n",
       "</div>"
      ],
      "text/plain": [
       "       FLAG_OWN_CAR  FLAG_OWN_REALTY  FLAG_WORK_PHONE  FLAG_PHONE  FLAG_EMAIL  \\\n",
       "count    489.000000       489.000000       489.000000  489.000000  489.000000   \n",
       "mean       0.359918         0.638037         0.249489    0.316973    0.104294   \n",
       "std        0.480468         0.481060         0.433160    0.465773    0.305955   \n",
       "min        0.000000         0.000000         0.000000    0.000000    0.000000   \n",
       "25%        0.000000         0.000000         0.000000    0.000000    0.000000   \n",
       "50%        0.000000         1.000000         0.000000    0.000000    0.000000   \n",
       "75%        1.000000         1.000000         0.000000    1.000000    0.000000   \n",
       "max        1.000000         1.000000         1.000000    1.000000    1.000000   \n",
       "\n",
       "       CNT_CHILDREN  CNT_FAM_MEMBERS  AMT_INCOME_TOTAL    DAYS_BIRTH  \\\n",
       "count    489.000000       489.000000        489.000000    489.000000   \n",
       "mean       0.443763         2.218814     188531.944785 -15738.204499   \n",
       "std        0.650825         0.843960     109834.713123   4328.156167   \n",
       "min        0.000000         1.000000      36000.000000 -24611.000000   \n",
       "25%        0.000000         2.000000     112500.000000 -18907.000000   \n",
       "50%        0.000000         2.000000     157500.000000 -15645.000000   \n",
       "75%        1.000000         3.000000     225000.000000 -11998.000000   \n",
       "max        3.000000         5.000000     675000.000000  -8168.000000   \n",
       "\n",
       "       DAYS_EMPLOYED  months_in_book  contracts_nr  \n",
       "count     489.000000      489.000000    489.000000  \n",
       "mean    58036.241309      125.605317      5.548057  \n",
       "std    136021.174147       93.110137      4.412891  \n",
       "min    -12827.000000        3.000000      1.000000  \n",
       "25%     -2218.000000       55.000000      2.000000  \n",
       "50%      -925.000000      103.000000      4.000000  \n",
       "75%      -346.000000      172.000000      7.000000  \n",
       "max    365243.000000      400.000000     20.000000  "
      ]
     },
     "execution_count": 34,
     "metadata": {},
     "output_type": "execute_result"
    }
   ],
   "source": [
    "df[df['customer_type']=='bad'].describe()"
   ]
  },
  {
   "cell_type": "code",
   "execution_count": 35,
   "metadata": {},
   "outputs": [
    {
     "data": {
      "text/html": [
       "<div>\n",
       "<style scoped>\n",
       "    .dataframe tbody tr th:only-of-type {\n",
       "        vertical-align: middle;\n",
       "    }\n",
       "\n",
       "    .dataframe tbody tr th {\n",
       "        vertical-align: top;\n",
       "    }\n",
       "\n",
       "    .dataframe thead th {\n",
       "        text-align: right;\n",
       "    }\n",
       "</style>\n",
       "<table border=\"1\" class=\"dataframe\">\n",
       "  <thead>\n",
       "    <tr style=\"text-align: right;\">\n",
       "      <th></th>\n",
       "      <th>FLAG_OWN_CAR</th>\n",
       "      <th>FLAG_OWN_REALTY</th>\n",
       "      <th>FLAG_WORK_PHONE</th>\n",
       "      <th>FLAG_PHONE</th>\n",
       "      <th>FLAG_EMAIL</th>\n",
       "      <th>CNT_CHILDREN</th>\n",
       "      <th>CNT_FAM_MEMBERS</th>\n",
       "      <th>AMT_INCOME_TOTAL</th>\n",
       "      <th>DAYS_BIRTH</th>\n",
       "      <th>DAYS_EMPLOYED</th>\n",
       "      <th>months_in_book</th>\n",
       "      <th>contracts_nr</th>\n",
       "    </tr>\n",
       "  </thead>\n",
       "  <tbody>\n",
       "    <tr>\n",
       "      <th>count</th>\n",
       "      <td>35968.000000</td>\n",
       "      <td>35968.000000</td>\n",
       "      <td>35968.00000</td>\n",
       "      <td>35968.000000</td>\n",
       "      <td>35968.000000</td>\n",
       "      <td>35968.000000</td>\n",
       "      <td>35968.000000</td>\n",
       "      <td>3.596800e+04</td>\n",
       "      <td>35968.000000</td>\n",
       "      <td>35968.000000</td>\n",
       "      <td>35968.000000</td>\n",
       "      <td>35968.000000</td>\n",
       "    </tr>\n",
       "    <tr>\n",
       "      <th>mean</th>\n",
       "      <td>0.379977</td>\n",
       "      <td>0.672653</td>\n",
       "      <td>0.22520</td>\n",
       "      <td>0.294512</td>\n",
       "      <td>0.089524</td>\n",
       "      <td>0.430132</td>\n",
       "      <td>2.198176</td>\n",
       "      <td>1.866606e+05</td>\n",
       "      <td>-15978.395073</td>\n",
       "      <td>59279.612989</td>\n",
       "      <td>146.090775</td>\n",
       "      <td>6.961855</td>\n",
       "    </tr>\n",
       "    <tr>\n",
       "      <th>std</th>\n",
       "      <td>0.485387</td>\n",
       "      <td>0.469251</td>\n",
       "      <td>0.41772</td>\n",
       "      <td>0.455829</td>\n",
       "      <td>0.285503</td>\n",
       "      <td>0.743540</td>\n",
       "      <td>0.912580</td>\n",
       "      <td>1.016769e+05</td>\n",
       "      <td>4198.758186</td>\n",
       "      <td>137675.158093</td>\n",
       "      <td>120.548681</td>\n",
       "      <td>5.018485</td>\n",
       "    </tr>\n",
       "    <tr>\n",
       "      <th>min</th>\n",
       "      <td>0.000000</td>\n",
       "      <td>0.000000</td>\n",
       "      <td>0.00000</td>\n",
       "      <td>0.000000</td>\n",
       "      <td>0.000000</td>\n",
       "      <td>0.000000</td>\n",
       "      <td>1.000000</td>\n",
       "      <td>2.700000e+04</td>\n",
       "      <td>-25152.000000</td>\n",
       "      <td>-15713.000000</td>\n",
       "      <td>1.000000</td>\n",
       "      <td>1.000000</td>\n",
       "    </tr>\n",
       "    <tr>\n",
       "      <th>25%</th>\n",
       "      <td>0.000000</td>\n",
       "      <td>0.000000</td>\n",
       "      <td>0.00000</td>\n",
       "      <td>0.000000</td>\n",
       "      <td>0.000000</td>\n",
       "      <td>0.000000</td>\n",
       "      <td>2.000000</td>\n",
       "      <td>1.215000e+05</td>\n",
       "      <td>-19441.000000</td>\n",
       "      <td>-3154.000000</td>\n",
       "      <td>54.000000</td>\n",
       "      <td>3.000000</td>\n",
       "    </tr>\n",
       "    <tr>\n",
       "      <th>50%</th>\n",
       "      <td>0.000000</td>\n",
       "      <td>1.000000</td>\n",
       "      <td>0.00000</td>\n",
       "      <td>0.000000</td>\n",
       "      <td>0.000000</td>\n",
       "      <td>0.000000</td>\n",
       "      <td>2.000000</td>\n",
       "      <td>1.575000e+05</td>\n",
       "      <td>-15563.000000</td>\n",
       "      <td>-1557.000000</td>\n",
       "      <td>115.000000</td>\n",
       "      <td>6.000000</td>\n",
       "    </tr>\n",
       "    <tr>\n",
       "      <th>75%</th>\n",
       "      <td>1.000000</td>\n",
       "      <td>1.000000</td>\n",
       "      <td>0.00000</td>\n",
       "      <td>1.000000</td>\n",
       "      <td>0.000000</td>\n",
       "      <td>1.000000</td>\n",
       "      <td>3.000000</td>\n",
       "      <td>2.250000e+05</td>\n",
       "      <td>-12477.000000</td>\n",
       "      <td>-408.000000</td>\n",
       "      <td>206.000000</td>\n",
       "      <td>9.000000</td>\n",
       "    </tr>\n",
       "    <tr>\n",
       "      <th>max</th>\n",
       "      <td>1.000000</td>\n",
       "      <td>1.000000</td>\n",
       "      <td>1.00000</td>\n",
       "      <td>1.000000</td>\n",
       "      <td>1.000000</td>\n",
       "      <td>19.000000</td>\n",
       "      <td>20.000000</td>\n",
       "      <td>1.575000e+06</td>\n",
       "      <td>-7489.000000</td>\n",
       "      <td>365243.000000</td>\n",
       "      <td>799.000000</td>\n",
       "      <td>51.000000</td>\n",
       "    </tr>\n",
       "  </tbody>\n",
       "</table>\n",
       "</div>"
      ],
      "text/plain": [
       "       FLAG_OWN_CAR  FLAG_OWN_REALTY  FLAG_WORK_PHONE    FLAG_PHONE  \\\n",
       "count  35968.000000     35968.000000      35968.00000  35968.000000   \n",
       "mean       0.379977         0.672653          0.22520      0.294512   \n",
       "std        0.485387         0.469251          0.41772      0.455829   \n",
       "min        0.000000         0.000000          0.00000      0.000000   \n",
       "25%        0.000000         0.000000          0.00000      0.000000   \n",
       "50%        0.000000         1.000000          0.00000      0.000000   \n",
       "75%        1.000000         1.000000          0.00000      1.000000   \n",
       "max        1.000000         1.000000          1.00000      1.000000   \n",
       "\n",
       "         FLAG_EMAIL  CNT_CHILDREN  CNT_FAM_MEMBERS  AMT_INCOME_TOTAL  \\\n",
       "count  35968.000000  35968.000000     35968.000000      3.596800e+04   \n",
       "mean       0.089524      0.430132         2.198176      1.866606e+05   \n",
       "std        0.285503      0.743540         0.912580      1.016769e+05   \n",
       "min        0.000000      0.000000         1.000000      2.700000e+04   \n",
       "25%        0.000000      0.000000         2.000000      1.215000e+05   \n",
       "50%        0.000000      0.000000         2.000000      1.575000e+05   \n",
       "75%        0.000000      1.000000         3.000000      2.250000e+05   \n",
       "max        1.000000     19.000000        20.000000      1.575000e+06   \n",
       "\n",
       "         DAYS_BIRTH  DAYS_EMPLOYED  months_in_book  contracts_nr  \n",
       "count  35968.000000   35968.000000    35968.000000  35968.000000  \n",
       "mean  -15978.395073   59279.612989      146.090775      6.961855  \n",
       "std     4198.758186  137675.158093      120.548681      5.018485  \n",
       "min   -25152.000000  -15713.000000        1.000000      1.000000  \n",
       "25%   -19441.000000   -3154.000000       54.000000      3.000000  \n",
       "50%   -15563.000000   -1557.000000      115.000000      6.000000  \n",
       "75%   -12477.000000    -408.000000      206.000000      9.000000  \n",
       "max    -7489.000000  365243.000000      799.000000     51.000000  "
      ]
     },
     "execution_count": 35,
     "metadata": {},
     "output_type": "execute_result"
    }
   ],
   "source": [
    "df[df['customer_type']=='good'].describe()"
   ]
  },
  {
   "cell_type": "markdown",
   "metadata": {
    "papermill": {
     "duration": 0.139228,
     "end_time": "2020-10-28T08:13:51.629136",
     "exception": false,
     "start_time": "2020-10-28T08:13:51.489908",
     "status": "completed"
    },
    "tags": []
   },
   "source": [
    "Let's plot some box-whiskers plots in ordert o see better the outliers in our data samples"
   ]
  },
  {
   "cell_type": "code",
   "execution_count": 36,
   "metadata": {
    "execution": {
     "iopub.execute_input": "2020-10-28T08:13:52.206850Z",
     "iopub.status.busy": "2020-10-28T08:13:52.206071Z",
     "iopub.status.idle": "2020-10-28T08:13:53.232250Z",
     "shell.execute_reply": "2020-10-28T08:13:53.231312Z"
    },
    "papermill": {
     "duration": 1.186592,
     "end_time": "2020-10-28T08:13:53.232420",
     "exception": false,
     "start_time": "2020-10-28T08:13:52.045828",
     "status": "completed"
    },
    "tags": []
   },
   "outputs": [
    {
     "name": "stderr",
     "output_type": "stream",
     "text": [
      "C:\\Users\\amitb\\anaconda3\\envs\\hello\\lib\\site-packages\\seaborn\\_core.py:1296: UserWarning: Horizontal orientation ignored with only `y` specified.\n",
      "  warnings.warn(single_var_warning.format(\"Horizontal\", \"y\"))\n",
      "C:\\Users\\amitb\\anaconda3\\envs\\hello\\lib\\site-packages\\seaborn\\_core.py:1296: UserWarning: Horizontal orientation ignored with only `y` specified.\n",
      "  warnings.warn(single_var_warning.format(\"Horizontal\", \"y\"))\n",
      "C:\\Users\\amitb\\anaconda3\\envs\\hello\\lib\\site-packages\\seaborn\\_core.py:1296: UserWarning: Horizontal orientation ignored with only `y` specified.\n",
      "  warnings.warn(single_var_warning.format(\"Horizontal\", \"y\"))\n",
      "C:\\Users\\amitb\\anaconda3\\envs\\hello\\lib\\site-packages\\seaborn\\_core.py:1296: UserWarning: Horizontal orientation ignored with only `y` specified.\n",
      "  warnings.warn(single_var_warning.format(\"Horizontal\", \"y\"))\n",
      "C:\\Users\\amitb\\anaconda3\\envs\\hello\\lib\\site-packages\\seaborn\\_core.py:1296: UserWarning: Horizontal orientation ignored with only `y` specified.\n",
      "  warnings.warn(single_var_warning.format(\"Horizontal\", \"y\"))\n",
      "C:\\Users\\amitb\\anaconda3\\envs\\hello\\lib\\site-packages\\seaborn\\_core.py:1296: UserWarning: Horizontal orientation ignored with only `y` specified.\n",
      "  warnings.warn(single_var_warning.format(\"Horizontal\", \"y\"))\n",
      "C:\\Users\\amitb\\anaconda3\\envs\\hello\\lib\\site-packages\\seaborn\\_core.py:1296: UserWarning: Horizontal orientation ignored with only `y` specified.\n",
      "  warnings.warn(single_var_warning.format(\"Horizontal\", \"y\"))\n"
     ]
    },
    {
     "data": {
      "image/png": "[encoded data removed]",
      "text/plain": [
       "<Figure size 1440x2880 with 7 Axes>"
      ]
     },
     "metadata": {
      "needs_background": "light"
     },
     "output_type": "display_data"
    }
   ],
   "source": [
    "fig, axes = plt.subplots( nrows= len(num_cols), figsize=(20,40))\n",
    "\n",
    "for col, ax in zip(df[num_cols], axes):\n",
    "    sns.boxplot( y = df[col], ax=ax, orient = 'h' )\n",
    "\n",
    "plt.tight_layout()    \n",
    "plt.show()"
   ]
  },
  {
   "cell_type": "markdown",
   "metadata": {
    "papermill": {
     "duration": 0.147917,
     "end_time": "2020-10-28T08:13:53.537935",
     "exception": false,
     "start_time": "2020-10-28T08:13:53.390018",
     "status": "completed"
    },
    "tags": []
   },
   "source": [
    "Results - \n",
    "there are alot of outliers in most of numeric features of our dataset  \n",
    "\n"
   ]
  },
  {
   "cell_type": "markdown",
   "metadata": {
    "papermill": {
     "duration": 0.151219,
     "end_time": "2020-10-28T08:13:53.843231",
     "exception": false,
     "start_time": "2020-10-28T08:13:53.692012",
     "status": "completed"
    },
    "tags": []
   },
   "source": [
    "### Testing the \"Normality\" of DAYS_BIRTH feature - to get whether we can use pearson correlation or not(that is whether this plot is statistical or not)  "
   ]
  },
  {
   "cell_type": "code",
   "execution_count": 37,
   "metadata": {
    "execution": {
     "iopub.execute_input": "2020-10-28T08:13:54.163287Z",
     "iopub.status.busy": "2020-10-28T08:13:54.154374Z",
     "iopub.status.idle": "2020-10-28T08:13:54.169747Z",
     "shell.execute_reply": "2020-10-28T08:13:54.168944Z"
    },
    "papermill": {
     "duration": 0.175129,
     "end_time": "2020-10-28T08:13:54.169902",
     "exception": false,
     "start_time": "2020-10-28T08:13:53.994773",
     "status": "completed"
    },
    "tags": []
   },
   "outputs": [
    {
     "name": "stdout",
     "output_type": "stream",
     "text": [
      "Statistics=10997.940, p=0.000\n",
      "Sample does not look Gaussian (reject H0)\n"
     ]
    }
   ],
   "source": [
    "#Normality Test\n",
    "stat, p = normaltest(df['DAYS_BIRTH'])\n",
    "print('Statistics=%.3f, p=%.3f' % (stat, p))\n",
    "# interpret\n",
    "alpha = 0.05\n",
    "if p > alpha:\n",
    "\tprint('Sample looks Gaussian (fail to reject H0)')\n",
    "else:\n",
    "\tprint('Sample does not look Gaussian (reject H0)')"
   ]
  },
  {
   "cell_type": "markdown",
   "metadata": {
    "papermill": {
     "duration": 0.142286,
     "end_time": "2020-10-28T08:13:54.462159",
     "exception": false,
     "start_time": "2020-10-28T08:13:54.319873",
     "status": "completed"
    },
    "tags": []
   },
   "source": [
    "Safe to conclude that DAYS_BIRTH feature is not coming from a purely Gaussian/Normal probability distribution. "
   ]
  },
  {
   "cell_type": "markdown",
   "metadata": {
    "papermill": {
     "duration": 0.141481,
     "end_time": "2020-10-28T08:13:54.752272",
     "exception": false,
     "start_time": "2020-10-28T08:13:54.610791",
     "status": "completed"
    },
    "tags": []
   },
   "source": [
    "### Numeric Feature correlations"
   ]
  },
  {
   "cell_type": "code",
   "execution_count": 38,
   "metadata": {
    "execution": {
     "iopub.execute_input": "2020-10-28T08:13:55.921927Z",
     "iopub.status.busy": "2020-10-28T08:13:55.920867Z",
     "iopub.status.idle": "2020-10-28T08:13:55.938311Z",
     "shell.execute_reply": "2020-10-28T08:13:55.937526Z"
    },
    "papermill": {
     "duration": 0.172079,
     "end_time": "2020-10-28T08:13:55.938464",
     "exception": false,
     "start_time": "2020-10-28T08:13:55.766385",
     "status": "completed"
    },
    "tags": []
   },
   "outputs": [
    {
     "data": {
      "image/png": "[encoded data removed]",
      "text/plain": [
       "<Figure size 720x576 with 2 Axes>"
      ]
     },
     "metadata": {
      "needs_background": "light"
     },
     "output_type": "display_data"
    },
    {
     "data": {
      "text/plain": [
       "''"
      ]
     },
     "execution_count": 38,
     "metadata": {},
     "output_type": "execute_result"
    }
   ],
   "source": [
    "appl_corr = round(df[num_cols].corr('kendall'), 2)\n",
    "\n",
    "plt.figure(figsize=(10, 8))\n",
    "\n",
    "mask = np.zeros_like(appl_corr)\n",
    "mask[np.triu_indices_from(mask)] = True\n",
    "\n",
    "ax = sns.heatmap(\n",
    "    appl_corr, \n",
    "    annot=True, \n",
    "    square=True,\n",
    "    mask=mask,\n",
    "    xticklabels=True, \n",
    "    yticklabels=True    \n",
    "    )\n",
    "\n",
    "ax.set_xticklabels(\n",
    "    ax.get_xticklabels(),\n",
    "    rotation=45,\n",
    "    horizontalalignment='right'\n",
    ")\n",
    "ax.set_ylim([0,7])\n",
    "plt.show()\n",
    ";"
   ]
  },
  {
   "cell_type": "markdown",
   "metadata": {
    "papermill": {
     "duration": 0.145063,
     "end_time": "2020-10-28T08:13:56.232315",
     "exception": false,
     "start_time": "2020-10-28T08:13:56.087252",
     "status": "completed"
    },
    "tags": []
   },
   "source": [
    "The follwing attributes have strong relationships: \n",
    "* CNT_FAM_MEMBERS and CNT_CHILDREN,   \n",
    "\n",
    "   "
   ]
  },
  {
   "cell_type": "code",
   "execution_count": 39,
   "metadata": {
    "execution": {
     "iopub.execute_input": "2020-10-28T08:13:57.171913Z",
     "iopub.status.busy": "2020-10-28T08:13:57.170317Z",
     "iopub.status.idle": "2020-10-28T08:13:57.177375Z",
     "shell.execute_reply": "2020-10-28T08:13:57.176761Z"
    },
    "papermill": {
     "duration": 0.182879,
     "end_time": "2020-10-28T08:13:57.177535",
     "exception": false,
     "start_time": "2020-10-28T08:13:56.994656",
     "status": "completed"
    },
    "tags": []
   },
   "outputs": [
    {
     "data": {
      "image/png": "[encoded data removed]",
      "text/plain": [
       "<Figure size 432x288 with 1 Axes>"
      ]
     },
     "metadata": {
      "needs_background": "light"
     },
     "output_type": "display_data"
    }
   ],
   "source": [
    "plt.scatter(df['CNT_CHILDREN'], df['CNT_FAM_MEMBERS']);"
   ]
  },
  {
   "cell_type": "markdown",
   "metadata": {
    "papermill": {
     "duration": 0.147448,
     "end_time": "2020-10-28T08:13:57.790263",
     "exception": false,
     "start_time": "2020-10-28T08:13:57.642815",
     "status": "completed"
    },
    "tags": []
   },
   "source": [
    "We'll drop CNT_CHILDREN or CNT_FAM_MEMBERS given the high correlations"
   ]
  },
  {
   "cell_type": "code",
   "execution_count": 40,
   "metadata": {
    "execution": {
     "iopub.execute_input": "2020-10-28T08:13:58.103079Z",
     "iopub.status.busy": "2020-10-28T08:13:58.102076Z",
     "iopub.status.idle": "2020-10-28T08:13:58.107867Z",
     "shell.execute_reply": "2020-10-28T08:13:58.108513Z"
    },
    "papermill": {
     "duration": 0.172018,
     "end_time": "2020-10-28T08:13:58.108715",
     "exception": false,
     "start_time": "2020-10-28T08:13:57.936697",
     "status": "completed"
    },
    "tags": []
   },
   "outputs": [
    {
     "data": {
      "text/html": [
       "<div>\n",
       "<style scoped>\n",
       "    .dataframe tbody tr th:only-of-type {\n",
       "        vertical-align: middle;\n",
       "    }\n",
       "\n",
       "    .dataframe tbody tr th {\n",
       "        vertical-align: top;\n",
       "    }\n",
       "\n",
       "    .dataframe thead th {\n",
       "        text-align: right;\n",
       "    }\n",
       "</style>\n",
       "<table border=\"1\" class=\"dataframe\">\n",
       "  <thead>\n",
       "    <tr style=\"text-align: right;\">\n",
       "      <th></th>\n",
       "      <th>FLAG_OWN_CAR</th>\n",
       "      <th>FLAG_OWN_REALTY</th>\n",
       "      <th>FLAG_WORK_PHONE</th>\n",
       "      <th>FLAG_PHONE</th>\n",
       "      <th>FLAG_EMAIL</th>\n",
       "      <th>CODE_GENDER</th>\n",
       "      <th>NAME_INCOME_TYPE</th>\n",
       "      <th>NAME_EDUCATION_TYPE</th>\n",
       "      <th>NAME_FAMILY_STATUS</th>\n",
       "      <th>NAME_HOUSING_TYPE</th>\n",
       "      <th>OCCUPATION_TYPE</th>\n",
       "      <th>CNT_FAM_MEMBERS</th>\n",
       "      <th>AMT_INCOME_TOTAL</th>\n",
       "      <th>DAYS_BIRTH</th>\n",
       "      <th>DAYS_EMPLOYED</th>\n",
       "      <th>customer_type</th>\n",
       "      <th>months_in_book</th>\n",
       "    </tr>\n",
       "    <tr>\n",
       "      <th>ID</th>\n",
       "      <th></th>\n",
       "      <th></th>\n",
       "      <th></th>\n",
       "      <th></th>\n",
       "      <th></th>\n",
       "      <th></th>\n",
       "      <th></th>\n",
       "      <th></th>\n",
       "      <th></th>\n",
       "      <th></th>\n",
       "      <th></th>\n",
       "      <th></th>\n",
       "      <th></th>\n",
       "      <th></th>\n",
       "      <th></th>\n",
       "      <th></th>\n",
       "      <th></th>\n",
       "    </tr>\n",
       "  </thead>\n",
       "  <tbody>\n",
       "    <tr>\n",
       "      <th>5126174</th>\n",
       "      <td>0</td>\n",
       "      <td>0</td>\n",
       "      <td>1</td>\n",
       "      <td>0</td>\n",
       "      <td>0</td>\n",
       "      <td>F</td>\n",
       "      <td>Working</td>\n",
       "      <td>Higher education</td>\n",
       "      <td>Civil marriage</td>\n",
       "      <td>House / apartment</td>\n",
       "      <td>Managers</td>\n",
       "      <td>2.0</td>\n",
       "      <td>27000.0</td>\n",
       "      <td>-14869</td>\n",
       "      <td>-5067</td>\n",
       "      <td>good</td>\n",
       "      <td>49</td>\n",
       "    </tr>\n",
       "    <tr>\n",
       "      <th>5126175</th>\n",
       "      <td>0</td>\n",
       "      <td>0</td>\n",
       "      <td>1</td>\n",
       "      <td>0</td>\n",
       "      <td>0</td>\n",
       "      <td>F</td>\n",
       "      <td>Working</td>\n",
       "      <td>Higher education</td>\n",
       "      <td>Civil marriage</td>\n",
       "      <td>House / apartment</td>\n",
       "      <td>Managers</td>\n",
       "      <td>2.0</td>\n",
       "      <td>27000.0</td>\n",
       "      <td>-14869</td>\n",
       "      <td>-5067</td>\n",
       "      <td>good</td>\n",
       "      <td>49</td>\n",
       "    </tr>\n",
       "    <tr>\n",
       "      <th>5054382</th>\n",
       "      <td>0</td>\n",
       "      <td>0</td>\n",
       "      <td>0</td>\n",
       "      <td>0</td>\n",
       "      <td>0</td>\n",
       "      <td>F</td>\n",
       "      <td>Pensioner</td>\n",
       "      <td>Secondary / secondary special</td>\n",
       "      <td>Married</td>\n",
       "      <td>House / apartment</td>\n",
       "      <td>Not Available</td>\n",
       "      <td>2.0</td>\n",
       "      <td>31500.0</td>\n",
       "      <td>-20836</td>\n",
       "      <td>365243</td>\n",
       "      <td>good</td>\n",
       "      <td>13</td>\n",
       "    </tr>\n",
       "    <tr>\n",
       "      <th>5132319</th>\n",
       "      <td>0</td>\n",
       "      <td>0</td>\n",
       "      <td>0</td>\n",
       "      <td>0</td>\n",
       "      <td>0</td>\n",
       "      <td>F</td>\n",
       "      <td>Pensioner</td>\n",
       "      <td>Secondary / secondary special</td>\n",
       "      <td>Married</td>\n",
       "      <td>Office apartment</td>\n",
       "      <td>Not Available</td>\n",
       "      <td>2.0</td>\n",
       "      <td>33300.0</td>\n",
       "      <td>-19605</td>\n",
       "      <td>365243</td>\n",
       "      <td>good</td>\n",
       "      <td>276</td>\n",
       "    </tr>\n",
       "    <tr>\n",
       "      <th>5132320</th>\n",
       "      <td>0</td>\n",
       "      <td>0</td>\n",
       "      <td>0</td>\n",
       "      <td>0</td>\n",
       "      <td>0</td>\n",
       "      <td>F</td>\n",
       "      <td>Pensioner</td>\n",
       "      <td>Secondary / secondary special</td>\n",
       "      <td>Married</td>\n",
       "      <td>Office apartment</td>\n",
       "      <td>Not Available</td>\n",
       "      <td>2.0</td>\n",
       "      <td>33300.0</td>\n",
       "      <td>-19605</td>\n",
       "      <td>365243</td>\n",
       "      <td>good</td>\n",
       "      <td>276</td>\n",
       "    </tr>\n",
       "  </tbody>\n",
       "</table>\n",
       "</div>"
      ],
      "text/plain": [
       "         FLAG_OWN_CAR  FLAG_OWN_REALTY  FLAG_WORK_PHONE  FLAG_PHONE  \\\n",
       "ID                                                                    \n",
       "5126174             0                0                1           0   \n",
       "5126175             0                0                1           0   \n",
       "5054382             0                0                0           0   \n",
       "5132319             0                0                0           0   \n",
       "5132320             0                0                0           0   \n",
       "\n",
       "         FLAG_EMAIL CODE_GENDER NAME_INCOME_TYPE  \\\n",
       "ID                                                 \n",
       "5126174           0           F          Working   \n",
       "5126175           0           F          Working   \n",
       "5054382           0           F        Pensioner   \n",
       "5132319           0           F        Pensioner   \n",
       "5132320           0           F        Pensioner   \n",
       "\n",
       "                   NAME_EDUCATION_TYPE NAME_FAMILY_STATUS  NAME_HOUSING_TYPE  \\\n",
       "ID                                                                             \n",
       "5126174               Higher education     Civil marriage  House / apartment   \n",
       "5126175               Higher education     Civil marriage  House / apartment   \n",
       "5054382  Secondary / secondary special            Married  House / apartment   \n",
       "5132319  Secondary / secondary special            Married   Office apartment   \n",
       "5132320  Secondary / secondary special            Married   Office apartment   \n",
       "\n",
       "        OCCUPATION_TYPE  CNT_FAM_MEMBERS  AMT_INCOME_TOTAL  DAYS_BIRTH  \\\n",
       "ID                                                                       \n",
       "5126174        Managers              2.0           27000.0      -14869   \n",
       "5126175        Managers              2.0           27000.0      -14869   \n",
       "5054382   Not Available              2.0           31500.0      -20836   \n",
       "5132319   Not Available              2.0           33300.0      -19605   \n",
       "5132320   Not Available              2.0           33300.0      -19605   \n",
       "\n",
       "         DAYS_EMPLOYED customer_type  months_in_book  \n",
       "ID                                                    \n",
       "5126174          -5067          good              49  \n",
       "5126175          -5067          good              49  \n",
       "5054382         365243          good              13  \n",
       "5132319         365243          good             276  \n",
       "5132320         365243          good             276  "
      ]
     },
     "execution_count": 40,
     "metadata": {},
     "output_type": "execute_result"
    }
   ],
   "source": [
    "num_cols.remove('CNT_CHILDREN')\n",
    "num_cols.remove('contracts_nr')\n",
    "df.drop(columns=['CNT_CHILDREN','contracts_nr'], inplace = True)\n",
    "df.head()"
   ]
  },
  {
   "cell_type": "markdown",
   "metadata": {
    "papermill": {
     "duration": 0.146825,
     "end_time": "2020-10-28T08:13:58.404007",
     "exception": false,
     "start_time": "2020-10-28T08:13:58.257182",
     "status": "completed"
    },
    "tags": []
   },
   "source": [
    "## Credit Records Data Set"
   ]
  },
  {
   "cell_type": "code",
   "execution_count": 41,
   "metadata": {
    "execution": {
     "iopub.execute_input": "2020-10-28T08:13:58.719240Z",
     "iopub.status.busy": "2020-10-28T08:13:58.717130Z",
     "iopub.status.idle": "2020-10-28T08:13:58.724358Z",
     "shell.execute_reply": "2020-10-28T08:13:58.723747Z"
    },
    "papermill": {
     "duration": 0.169944,
     "end_time": "2020-10-28T08:13:58.724518",
     "exception": false,
     "start_time": "2020-10-28T08:13:58.554574",
     "status": "completed"
    },
    "tags": []
   },
   "outputs": [
    {
     "data": {
      "image/png": "[encoded data removed]",
      "text/plain": [
       "<Figure size 432x288 with 1 Axes>"
      ]
     },
     "metadata": {
      "needs_background": "light"
     },
     "output_type": "display_data"
    }
   ],
   "source": [
    "cred_df['STATUS'].value_counts().sort_values().plot.barh(title= 'STATUS histogram')\n",
    "\n",
    "plt.tight_layout()    \n",
    "plt.show()"
   ]
  },
  {
   "cell_type": "markdown",
   "metadata": {
    "papermill": {
     "duration": 0.150695,
     "end_time": "2020-10-28T08:13:59.025296",
     "exception": false,
     "start_time": "2020-10-28T08:13:58.874601",
     "status": "completed"
    },
    "tags": []
   },
   "source": [
    "From the plot we can see that most customers-\n",
    "1.that have loans to pay on a given month\n",
    "2.pay them on time with max 59 days overdue.  \n",
    "\n",
    "However, there is a slight portion of them that either:  \n",
    "1.have bad debts\n",
    "2.pay within 60 or 149 days overdue.  \n",
    "\n",
    "Those last ones can be classified as the 'Bad' customers, because if we think (as a bank) of not receiveing the due amounts for more then 60 days it will have a very negative impact for bank."
   ]
  },
  {
   "cell_type": "markdown",
   "metadata": {
    "papermill": {
     "duration": 0.150108,
     "end_time": "2020-10-28T08:13:59.320570",
     "exception": false,
     "start_time": "2020-10-28T08:13:59.170462",
     "status": "completed"
    },
    "tags": []
   },
   "source": [
    "Below dataframe give us the customers labeled as 'good' or 'bad' based on classification done previously"
   ]
  },
  {
   "cell_type": "code",
   "execution_count": 42,
   "metadata": {
    "execution": {
     "iopub.execute_input": "2020-10-28T08:13:59.624682Z",
     "iopub.status.busy": "2020-10-28T08:13:59.623642Z",
     "iopub.status.idle": "2020-10-28T08:13:59.635023Z",
     "shell.execute_reply": "2020-10-28T08:13:59.634260Z"
    },
    "papermill": {
     "duration": 0.169004,
     "end_time": "2020-10-28T08:13:59.635151",
     "exception": false,
     "start_time": "2020-10-28T08:13:59.466147",
     "status": "completed"
    },
    "tags": []
   },
   "outputs": [
    {
     "data": {
      "text/html": [
       "<div>\n",
       "<style scoped>\n",
       "    .dataframe tbody tr th:only-of-type {\n",
       "        vertical-align: middle;\n",
       "    }\n",
       "\n",
       "    .dataframe tbody tr th {\n",
       "        vertical-align: top;\n",
       "    }\n",
       "\n",
       "    .dataframe thead th {\n",
       "        text-align: right;\n",
       "    }\n",
       "</style>\n",
       "<table border=\"1\" class=\"dataframe\">\n",
       "  <thead>\n",
       "    <tr style=\"text-align: right;\">\n",
       "      <th></th>\n",
       "      <th>customer_id</th>\n",
       "      <th>customer_type</th>\n",
       "      <th>months_in_book</th>\n",
       "      <th>contracts_nr</th>\n",
       "    </tr>\n",
       "  </thead>\n",
       "  <tbody>\n",
       "    <tr>\n",
       "      <th>0</th>\n",
       "      <td>21045</td>\n",
       "      <td>bad</td>\n",
       "      <td>53</td>\n",
       "      <td>1</td>\n",
       "    </tr>\n",
       "    <tr>\n",
       "      <th>1</th>\n",
       "      <td>44511</td>\n",
       "      <td>bad</td>\n",
       "      <td>63</td>\n",
       "      <td>3</td>\n",
       "    </tr>\n",
       "    <tr>\n",
       "      <th>2</th>\n",
       "      <td>48052</td>\n",
       "      <td>bad</td>\n",
       "      <td>20</td>\n",
       "      <td>3</td>\n",
       "    </tr>\n",
       "    <tr>\n",
       "      <th>3</th>\n",
       "      <td>52309</td>\n",
       "      <td>bad</td>\n",
       "      <td>3</td>\n",
       "      <td>1</td>\n",
       "    </tr>\n",
       "    <tr>\n",
       "      <th>4</th>\n",
       "      <td>52833</td>\n",
       "      <td>bad</td>\n",
       "      <td>74</td>\n",
       "      <td>2</td>\n",
       "    </tr>\n",
       "  </tbody>\n",
       "</table>\n",
       "</div>"
      ],
      "text/plain": [
       "   customer_id customer_type  months_in_book  contracts_nr\n",
       "0        21045           bad              53             1\n",
       "1        44511           bad              63             3\n",
       "2        48052           bad              20             3\n",
       "3        52309           bad               3             1\n",
       "4        52833           bad              74             2"
      ]
     },
     "execution_count": 42,
     "metadata": {},
     "output_type": "execute_result"
    }
   ],
   "source": [
    "cred_df_clean.head()"
   ]
  },
  {
   "cell_type": "markdown",
   "metadata": {
    "papermill": {
     "duration": 0.144705,
     "end_time": "2020-10-28T08:13:59.926440",
     "exception": false,
     "start_time": "2020-10-28T08:13:59.781735",
     "status": "completed"
    },
    "tags": []
   },
   "source": [
    "Percentage of bad clients in the data:"
   ]
  },
  {
   "cell_type": "code",
   "execution_count": 43,
   "metadata": {
    "execution": {
     "iopub.execute_input": "2020-10-28T08:14:00.229421Z",
     "iopub.status.busy": "2020-10-28T08:14:00.228678Z",
     "iopub.status.idle": "2020-10-28T08:14:00.249851Z",
     "shell.execute_reply": "2020-10-28T08:14:00.249066Z"
    },
    "papermill": {
     "duration": 0.17476,
     "end_time": "2020-10-28T08:14:00.249987",
     "exception": false,
     "start_time": "2020-10-28T08:14:00.075227",
     "status": "completed"
    },
    "tags": []
   },
   "outputs": [
    {
     "name": "stdout",
     "output_type": "stream",
     "text": [
      "1.675%\n"
     ]
    }
   ],
   "source": [
    "percent_bad_customers = 100 * len( cred_df_clean[cred_df_clean.customer_type=='bad'] ) / cred_df_clean.shape[0] \n",
    "\n",
    "print( \"{0:.3f}%\".format( percent_bad_customers) )"
   ]
  },
  {
   "cell_type": "code",
   "execution_count": 44,
   "metadata": {
    "execution": {
     "iopub.execute_input": "2020-10-28T08:14:00.552165Z",
     "iopub.status.busy": "2020-10-28T08:14:00.551407Z",
     "iopub.status.idle": "2020-10-28T08:14:00.621388Z",
     "shell.execute_reply": "2020-10-28T08:14:00.620645Z"
    },
    "papermill": {
     "duration": 0.224758,
     "end_time": "2020-10-28T08:14:00.621546",
     "exception": false,
     "start_time": "2020-10-28T08:14:00.396788",
     "status": "completed"
    },
    "tags": []
   },
   "outputs": [
    {
     "name": "stdout",
     "output_type": "stream",
     "text": [
      "FLAG_OWN_CAR                                       1\n",
      "FLAG_OWN_REALTY                                    1\n",
      "FLAG_MOBIL                                         1\n",
      "FLAG_WORK_PHONE                                    1\n",
      "FLAG_PHONE                                         1\n",
      "FLAG_EMAIL                                         0\n",
      "CODE_GENDER                                        M\n",
      "NAME_INCOME_TYPE                             Working\n",
      "NAME_EDUCATION_TYPE    Secondary / secondary special\n",
      "NAME_FAMILY_STATUS                           Married\n",
      "NAME_HOUSING_TYPE                  House / apartment\n",
      "OCCUPATION_TYPE                              Drivers\n",
      "CNT_CHILDREN                                       1\n",
      "CNT_FAM_MEMBERS                                    3\n",
      "AMT_INCOME_TOTAL                              112500\n",
      "DAYS_BIRTH                                    -16204\n",
      "DAYS_EMPLOYED                                   -925\n",
      "cust_id                                        95378\n",
      "Name: 5142361, dtype: object\n",
      "\n",
      "         MONTHS_BALANCE STATUS\n",
      "ID                            \n",
      "5142361              -1      5\n",
      "5142361              -2      5\n",
      "5142361              -3      5\n",
      "5142361              -4      5\n",
      "5142361              -5      5\n",
      "5142361              -6      5\n",
      "5142361              -7      5\n",
      "5142361              -8      5\n",
      "5142361              -9      5\n",
      "5142361             -10      5\n",
      "5142361             -11      5\n",
      "5142361             -12      5\n",
      "5142361             -13      5\n",
      "5142361             -14      5\n",
      "5142361             -15      5\n",
      "5142361             -16      5\n",
      "5142361             -17      5\n",
      "5142361             -18      5\n",
      "5142361             -19      5\n",
      "5142361             -20      5\n",
      "5142361             -21      5\n",
      "5142361             -22      5\n",
      "5142361             -23      5\n",
      "5142361             -24      5\n",
      "5142361             -25      5\n",
      "5142361             -26      5\n",
      "5142361             -27      5\n",
      "5142361             -28      5\n",
      "5142361             -29      5\n",
      "5142361             -30      5\n",
      "5142361             -31      5\n",
      "5142361             -32      5\n",
      "5142361             -33      5\n",
      "5142361             -34      5\n",
      "5142361             -35      5\n",
      "5142361             -36      5\n",
      "5142361             -37      5\n",
      "5142361             -38      5\n",
      "5142361             -39      5\n",
      "5142361             -40      5\n",
      "5142361             -41      5\n",
      "5142361             -42      5\n",
      "5142361             -43      5\n",
      "5142361             -44      5\n",
      "5142361             -45      5\n",
      "5142361             -46      5\n",
      "5142361             -47      5\n",
      "5142361             -48      5\n",
      "5142361             -49      0\n",
      "5142361             -50      X\n",
      "5142361             -51      X\n",
      "5142361             -52      X\n",
      "5142361             -53      X\n",
      "5142361             -54      X\n",
      "5142361             -55      X\n",
      "5142361             -56      X\n",
      "5142361             -57      X\n",
      "5142361             -58      X\n",
      "5142361             -59      X\n"
     ]
    }
   ],
   "source": [
    "#example of a \"bad\" customer\n",
    "customer_id = 5142361\n",
    "print( appl_df_clean.loc[customer_id] )\n",
    "print('')\n",
    "print( cred_df.loc[customer_id].sort_values(by=['MONTHS_BALANCE'], ascending=False) )"
   ]
  },
  {
   "cell_type": "markdown",
   "metadata": {
    "papermill": {
     "duration": 0.147153,
     "end_time": "2020-10-28T08:14:00.917548",
     "exception": false,
     "start_time": "2020-10-28T08:14:00.770395",
     "status": "completed"
    },
    "tags": []
   },
   "source": [
    "## Shortening Categorical Feature Classes"
   ]
  },
  {
   "cell_type": "code",
   "execution_count": 45,
   "metadata": {
    "execution": {
     "iopub.execute_input": "2020-10-28T08:14:01.222990Z",
     "iopub.status.busy": "2020-10-28T08:14:01.222002Z",
     "iopub.status.idle": "2020-10-28T08:14:01.227402Z",
     "shell.execute_reply": "2020-10-28T08:14:01.226625Z"
    },
    "papermill": {
     "duration": 0.161958,
     "end_time": "2020-10-28T08:14:01.227551",
     "exception": false,
     "start_time": "2020-10-28T08:14:01.065593",
     "status": "completed"
    },
    "tags": []
   },
   "outputs": [
    {
     "data": {
      "text/plain": [
       "['CODE_GENDER',\n",
       " 'NAME_INCOME_TYPE',\n",
       " 'NAME_EDUCATION_TYPE',\n",
       " 'NAME_FAMILY_STATUS',\n",
       " 'NAME_HOUSING_TYPE',\n",
       " 'OCCUPATION_TYPE']"
      ]
     },
     "execution_count": 45,
     "metadata": {},
     "output_type": "execute_result"
    }
   ],
   "source": [
    "cat_cols"
   ]
  },
  {
   "cell_type": "code",
   "execution_count": 46,
   "metadata": {
    "execution": {
     "iopub.execute_input": "2020-10-28T08:14:01.543777Z",
     "iopub.status.busy": "2020-10-28T08:14:01.542634Z",
     "iopub.status.idle": "2020-10-28T08:14:01.547683Z",
     "shell.execute_reply": "2020-10-28T08:14:01.546881Z"
    },
    "papermill": {
     "duration": 0.163115,
     "end_time": "2020-10-28T08:14:01.547826",
     "exception": false,
     "start_time": "2020-10-28T08:14:01.384711",
     "status": "completed"
    },
    "tags": []
   },
   "outputs": [
    {
     "data": {
      "text/plain": [
       "['NAME_INCOME_TYPE',\n",
       " 'NAME_EDUCATION_TYPE',\n",
       " 'NAME_FAMILY_STATUS',\n",
       " 'NAME_HOUSING_TYPE',\n",
       " 'OCCUPATION_TYPE']"
      ]
     },
     "execution_count": 46,
     "metadata": {},
     "output_type": "execute_result"
    }
   ],
   "source": [
    "# Variable list to transform\n",
    "cat_col_t = [ col for col in cat_cols if 'GENDER' not in col ] # we exclude gender as it only contains 2 categories\n",
    "cat_col_t"
   ]
  },
  {
   "cell_type": "markdown",
   "metadata": {
    "papermill": {
     "duration": 0.155842,
     "end_time": "2020-10-28T08:14:01.857926",
     "exception": false,
     "start_time": "2020-10-28T08:14:01.702084",
     "status": "completed"
    },
    "tags": []
   },
   "source": [
    "### NAME_INCOME_TYPE"
   ]
  },
  {
   "cell_type": "code",
   "execution_count": 47,
   "metadata": {
    "execution": {
     "iopub.execute_input": "2020-10-28T08:14:02.182127Z",
     "iopub.status.busy": "2020-10-28T08:14:02.177520Z",
     "iopub.status.idle": "2020-10-28T08:14:02.190369Z",
     "shell.execute_reply": "2020-10-28T08:14:02.189674Z"
    },
    "papermill": {
     "duration": 0.179829,
     "end_time": "2020-10-28T08:14:02.190544",
     "exception": false,
     "start_time": "2020-10-28T08:14:02.010715",
     "status": "completed"
    },
    "tags": []
   },
   "outputs": [
    {
     "data": {
      "text/plain": [
       "Working                 18819\n",
       "Commercial associate     8490\n",
       "Pensioner                6152\n",
       "State servant            2985\n",
       "Student                    11\n",
       "Name: NAME_INCOME_TYPE, dtype: int64"
      ]
     },
     "execution_count": 47,
     "metadata": {},
     "output_type": "execute_result"
    }
   ],
   "source": [
    "df['NAME_INCOME_TYPE'].value_counts()"
   ]
  },
  {
   "cell_type": "markdown",
   "metadata": {
    "papermill": {
     "duration": 0.154882,
     "end_time": "2020-10-28T08:14:02.503068",
     "exception": false,
     "start_time": "2020-10-28T08:14:02.348186",
     "status": "completed"
    },
    "tags": []
   },
   "source": [
    "Let's divide this variable as 'Working', 'Pensionioner' and 'Student', making 'State servant', 'Commercial associate' merge into 'Working' category. "
   ]
  },
  {
   "cell_type": "code",
   "execution_count": 48,
   "metadata": {
    "execution": {
     "iopub.execute_input": "2020-10-28T08:14:02.822097Z",
     "iopub.status.busy": "2020-10-28T08:14:02.816681Z",
     "iopub.status.idle": "2020-10-28T08:14:02.836746Z",
     "shell.execute_reply": "2020-10-28T08:14:02.836021Z"
    },
    "papermill": {
     "duration": 0.182609,
     "end_time": "2020-10-28T08:14:02.836895",
     "exception": false,
     "start_time": "2020-10-28T08:14:02.654286",
     "status": "completed"
    },
    "tags": []
   },
   "outputs": [],
   "source": [
    "dic = {\n",
    "    'Commercial associate' : 'Working',\n",
    "    'State servant' : 'Working',\n",
    "}\n",
    "df['NAME_INCOME_TYPE'] = df['NAME_INCOME_TYPE'].replace(dic)"
   ]
  },
  {
   "cell_type": "markdown",
   "metadata": {
    "papermill": {
     "duration": 0.152215,
     "end_time": "2020-10-28T08:14:03.142226",
     "exception": false,
     "start_time": "2020-10-28T08:14:02.990011",
     "status": "completed"
    },
    "tags": []
   },
   "source": [
    "### NAME_EDUCATION_TYPE"
   ]
  },
  {
   "cell_type": "code",
   "execution_count": 49,
   "metadata": {
    "execution": {
     "iopub.execute_input": "2020-10-28T08:14:03.464244Z",
     "iopub.status.busy": "2020-10-28T08:14:03.463223Z",
     "iopub.status.idle": "2020-10-28T08:14:03.469609Z",
     "shell.execute_reply": "2020-10-28T08:14:03.468747Z"
    },
    "papermill": {
     "duration": 0.175433,
     "end_time": "2020-10-28T08:14:03.469758",
     "exception": false,
     "start_time": "2020-10-28T08:14:03.294325",
     "status": "completed"
    },
    "tags": []
   },
   "outputs": [
    {
     "data": {
      "text/plain": [
       "Secondary / secondary special    24777\n",
       "Higher education                  9864\n",
       "Incomplete higher                 1410\n",
       "Lower secondary                    374\n",
       "Academic degree                     32\n",
       "Name: NAME_EDUCATION_TYPE, dtype: int64"
      ]
     },
     "execution_count": 49,
     "metadata": {},
     "output_type": "execute_result"
    }
   ],
   "source": [
    "df['NAME_EDUCATION_TYPE'].value_counts()"
   ]
  },
  {
   "cell_type": "markdown",
   "metadata": {
    "papermill": {
     "duration": 0.158431,
     "end_time": "2020-10-28T08:14:03.787847",
     "exception": false,
     "start_time": "2020-10-28T08:14:03.629416",
     "status": "completed"
    },
    "tags": []
   },
   "source": [
    "Let's divide this variable as 'Secondary / secondary special', 'Higher education' and 'Lower secondary'."
   ]
  },
  {
   "cell_type": "code",
   "execution_count": 50,
   "metadata": {
    "execution": {
     "iopub.execute_input": "2020-10-28T08:14:04.152992Z",
     "iopub.status.busy": "2020-10-28T08:14:04.147080Z",
     "iopub.status.idle": "2020-10-28T08:14:04.161358Z",
     "shell.execute_reply": "2020-10-28T08:14:04.160699Z"
    },
    "papermill": {
     "duration": 0.191234,
     "end_time": "2020-10-28T08:14:04.161560",
     "exception": false,
     "start_time": "2020-10-28T08:14:03.970326",
     "status": "completed"
    },
    "tags": []
   },
   "outputs": [],
   "source": [
    "dic = {\n",
    "    'Incomplete higher' : 'Secondary / secondary special',\n",
    "    'Academic degree' : 'Higher education',\n",
    "    'Lower secondary' : 'Basic'\n",
    "}\n",
    "df['NAME_EDUCATION_TYPE'] = df['NAME_EDUCATION_TYPE'].replace(dic)"
   ]
  },
  {
   "cell_type": "markdown",
   "metadata": {
    "papermill": {
     "duration": 0.173181,
     "end_time": "2020-10-28T08:14:04.506649",
     "exception": false,
     "start_time": "2020-10-28T08:14:04.333468",
     "status": "completed"
    },
    "tags": []
   },
   "source": [
    "### NAME_FAMILY_STATUS"
   ]
  },
  {
   "cell_type": "code",
   "execution_count": 51,
   "metadata": {
    "execution": {
     "iopub.execute_input": "2020-10-28T08:14:04.841546Z",
     "iopub.status.busy": "2020-10-28T08:14:04.840580Z",
     "iopub.status.idle": "2020-10-28T08:14:04.846415Z",
     "shell.execute_reply": "2020-10-28T08:14:04.845751Z"
    },
    "papermill": {
     "duration": 0.17863,
     "end_time": "2020-10-28T08:14:04.846577",
     "exception": false,
     "start_time": "2020-10-28T08:14:04.667947",
     "status": "completed"
    },
    "tags": []
   },
   "outputs": [
    {
     "data": {
      "text/plain": [
       "Married                 25048\n",
       "Single / not married     4829\n",
       "Civil marriage           2945\n",
       "Separated                2103\n",
       "Widow                    1532\n",
       "Name: NAME_FAMILY_STATUS, dtype: int64"
      ]
     },
     "execution_count": 51,
     "metadata": {},
     "output_type": "execute_result"
    }
   ],
   "source": [
    "df['NAME_FAMILY_STATUS'].value_counts()"
   ]
  },
  {
   "cell_type": "code",
   "execution_count": 52,
   "metadata": {
    "execution": {
     "iopub.execute_input": "2020-10-28T08:14:05.174284Z",
     "iopub.status.busy": "2020-10-28T08:14:05.168282Z",
     "iopub.status.idle": "2020-10-28T08:14:05.181957Z",
     "shell.execute_reply": "2020-10-28T08:14:05.181135Z"
    },
    "papermill": {
     "duration": 0.181501,
     "end_time": "2020-10-28T08:14:05.182094",
     "exception": false,
     "start_time": "2020-10-28T08:14:05.000593",
     "status": "completed"
    },
    "tags": []
   },
   "outputs": [],
   "source": [
    "dic = {\n",
    "    'Civil marriage' : 'Married'\n",
    "}\n",
    "\n",
    "#df['NAME_FAMILY_STATUS'].replace(dic).value_counts()\n",
    "df['NAME_FAMILY_STATUS'] = df['NAME_FAMILY_STATUS'].replace(dic)"
   ]
  },
  {
   "cell_type": "markdown",
   "metadata": {
    "papermill": {
     "duration": 0.158431,
     "end_time": "2020-10-28T08:14:05.494040",
     "exception": false,
     "start_time": "2020-10-28T08:14:05.335609",
     "status": "completed"
    },
    "tags": []
   },
   "source": [
    "### NAME_HOUSING_TYPE"
   ]
  },
  {
   "cell_type": "code",
   "execution_count": 53,
   "metadata": {
    "execution": {
     "iopub.execute_input": "2020-10-28T08:14:05.875829Z",
     "iopub.status.busy": "2020-10-28T08:14:05.863584Z",
     "iopub.status.idle": "2020-10-28T08:14:05.884885Z",
     "shell.execute_reply": "2020-10-28T08:14:05.884146Z"
    },
    "papermill": {
     "duration": 0.200252,
     "end_time": "2020-10-28T08:14:05.885041",
     "exception": false,
     "start_time": "2020-10-28T08:14:05.684789",
     "status": "completed"
    },
    "tags": []
   },
   "outputs": [
    {
     "data": {
      "text/plain": [
       "House / apartment      32548\n",
       "With parents            1776\n",
       "Municipal apartment     1128\n",
       "Rented apartment         575\n",
       "Office apartment         262\n",
       "Co-op apartment          168\n",
       "Name: NAME_HOUSING_TYPE, dtype: int64"
      ]
     },
     "execution_count": 53,
     "metadata": {},
     "output_type": "execute_result"
    }
   ],
   "source": [
    "df['NAME_HOUSING_TYPE'].value_counts()"
   ]
  },
  {
   "cell_type": "code",
   "execution_count": 54,
   "metadata": {
    "execution": {
     "iopub.execute_input": "2020-10-28T08:14:06.206810Z",
     "iopub.status.busy": "2020-10-28T08:14:06.205745Z",
     "iopub.status.idle": "2020-10-28T08:14:06.223066Z",
     "shell.execute_reply": "2020-10-28T08:14:06.222178Z"
    },
    "papermill": {
     "duration": 0.180919,
     "end_time": "2020-10-28T08:14:06.223213",
     "exception": false,
     "start_time": "2020-10-28T08:14:06.042294",
     "status": "completed"
    },
    "tags": []
   },
   "outputs": [],
   "source": [
    "dic = {\n",
    "    'House / apartment' : 'Rented apartment',\n",
    "    'Co-op apartment' : 'Rented apartment',\n",
    "    'Municipal apartment': 'Municipal or Office apartment',\n",
    "    'Office apartment': 'Municipal or Office apartment'\n",
    "}\n",
    "\n",
    "df['NAME_HOUSING_TYPE'] = df['NAME_HOUSING_TYPE'].replace(dic)"
   ]
  },
  {
   "cell_type": "markdown",
   "metadata": {
    "papermill": {
     "duration": 0.226972,
     "end_time": "2020-10-28T08:14:06.620403",
     "exception": false,
     "start_time": "2020-10-28T08:14:06.393431",
     "status": "completed"
    },
    "tags": []
   },
   "source": [
    "### OCCUPATION_TYPE"
   ]
  },
  {
   "cell_type": "code",
   "execution_count": 55,
   "metadata": {
    "execution": {
     "iopub.execute_input": "2020-10-28T08:14:06.958266Z",
     "iopub.status.busy": "2020-10-28T08:14:06.951445Z",
     "iopub.status.idle": "2020-10-28T08:14:06.969320Z",
     "shell.execute_reply": "2020-10-28T08:14:06.968647Z"
    },
    "papermill": {
     "duration": 0.189038,
     "end_time": "2020-10-28T08:14:06.969507",
     "exception": false,
     "start_time": "2020-10-28T08:14:06.780469",
     "status": "completed"
    },
    "tags": []
   },
   "outputs": [
    {
     "data": {
      "text/plain": [
       "Not Available            11323\n",
       "Laborers                  6211\n",
       "Core staff                3591\n",
       "Sales staff               3485\n",
       "Managers                  3012\n",
       "Drivers                   2138\n",
       "High skill tech staff     1383\n",
       "Accountants               1241\n",
       "Medicine staff            1207\n",
       "Cooking staff              655\n",
       "Security staff             592\n",
       "Cleaning staff             551\n",
       "Private service staff      344\n",
       "Low-skill Laborers         175\n",
       "Waiters/barmen staff       174\n",
       "Secretaries                151\n",
       "HR staff                    85\n",
       "Realty agents               79\n",
       "IT staff                    60\n",
       "Name: OCCUPATION_TYPE, dtype: int64"
      ]
     },
     "execution_count": 55,
     "metadata": {},
     "output_type": "execute_result"
    }
   ],
   "source": [
    "df['OCCUPATION_TYPE'].value_counts()"
   ]
  },
  {
   "cell_type": "markdown",
   "metadata": {
    "papermill": {
     "duration": 0.161061,
     "end_time": "2020-10-28T08:14:07.288373",
     "exception": false,
     "start_time": "2020-10-28T08:14:07.127312",
     "status": "completed"
    },
    "tags": []
   },
   "source": [
    "grouping professions type will be though without any grouping criteria.  \n",
    "Let's try to group by income.  "
   ]
  },
  {
   "cell_type": "code",
   "execution_count": 56,
   "metadata": {
    "execution": {
     "iopub.execute_input": "2020-10-28T08:14:07.636508Z",
     "iopub.status.busy": "2020-10-28T08:14:07.619119Z",
     "iopub.status.idle": "2020-10-28T08:14:07.642530Z",
     "shell.execute_reply": "2020-10-28T08:14:07.643263Z"
    },
    "papermill": {
     "duration": 0.195695,
     "end_time": "2020-10-28T08:14:07.643511",
     "exception": false,
     "start_time": "2020-10-28T08:14:07.447816",
     "status": "completed"
    },
    "tags": []
   },
   "outputs": [
    {
     "data": {
      "text/plain": [
       "''"
      ]
     },
     "execution_count": 56,
     "metadata": {},
     "output_type": "execute_result"
    },
    {
     "data": {
      "image/png": "[encoded data removed]",
      "text/plain": [
       "<Figure size 1440x360 with 1 Axes>"
      ]
     },
     "metadata": {
      "needs_background": "light"
     },
     "output_type": "display_data"
    }
   ],
   "source": [
    "\n",
    "data = pd.DataFrame(df.groupby(['OCCUPATION_TYPE'])['AMT_INCOME_TOTAL'].mean()).reset_index().sort_values(by=['AMT_INCOME_TOTAL'], ascending=False)\n",
    "\n",
    "plt.figure(figsize=(20,5))\n",
    "ax = sns.boxplot(data=df.sort_values(by='AMT_INCOME_TOTAL', ascending = False), x='OCCUPATION_TYPE', y='AMT_INCOME_TOTAL', order = data['OCCUPATION_TYPE'], linewidth= 1)\n",
    "\n",
    "ax.set_xticklabels(ax.get_xticklabels(),rotation=85)\n",
    "\n",
    "#ax.set_xlim(0,20)\n",
    ";"
   ]
  },
  {
   "cell_type": "code",
   "execution_count": 57,
   "metadata": {
    "execution": {
     "iopub.execute_input": "2020-10-28T08:14:07.983679Z",
     "iopub.status.busy": "2020-10-28T08:14:07.982600Z",
     "iopub.status.idle": "2020-10-28T08:14:08.002114Z",
     "shell.execute_reply": "2020-10-28T08:14:08.001347Z"
    },
    "papermill": {
     "duration": 0.187676,
     "end_time": "2020-10-28T08:14:08.002291",
     "exception": false,
     "start_time": "2020-10-28T08:14:07.814615",
     "status": "completed"
    },
    "tags": []
   },
   "outputs": [],
   "source": [
    "dic = {\n",
    "    'Managers' : 'Group 1',\n",
    "    'Realty agents' : 'Group 1',\n",
    "    'Drivers' : 'Group 1',\n",
    "    'Accountants' : 'Group 1',\n",
    "    'IT staff' : 'Group 2',\n",
    "    'Private service staff' : 'Group 2',\n",
    "    'High skill tech staff' : 'Group 2',\n",
    "    'HR staff' : 'Group 2',\n",
    "    'Core staff' : 'Group 2',\n",
    "    'Laborers' : 'Group 3',\n",
    "    'Security staff' : 'Group 3',\n",
    "    'Sales staff' : 'Group 3',\n",
    "    'Not Available' : 'Group 3',\n",
    "    'Secretaries' : 'Group 3',\n",
    "    'Medicine staff' : 'Group 4',\n",
    "    'Waiters/barmen staff' : 'Group 4',\n",
    "    'Cleaning staff' : 'Group 4',\n",
    "    'Cooking staff' : 'Group 4',\n",
    "    'Low-skill Laborers' : 'Group 4'\n",
    "}\n",
    "\n",
    "#df['OCCUPATION_TYPE'].replace(dic)\n",
    "df['OCCUPATION_TYPE'] = df['OCCUPATION_TYPE'].replace(dic)"
   ]
  },
  {
   "cell_type": "code",
   "execution_count": 58,
   "metadata": {
    "execution": {
     "iopub.execute_input": "2020-10-28T08:14:08.342902Z",
     "iopub.status.busy": "2020-10-28T08:14:08.334348Z",
     "iopub.status.idle": "2020-10-28T08:14:08.349686Z",
     "shell.execute_reply": "2020-10-28T08:14:08.349041Z"
    },
    "papermill": {
     "duration": 0.186546,
     "end_time": "2020-10-28T08:14:08.349827",
     "exception": false,
     "start_time": "2020-10-28T08:14:08.163281",
     "status": "completed"
    },
    "tags": []
   },
   "outputs": [
    {
     "data": {
      "image/png": "[encoded data removed]",
      "text/plain": [
       "<Figure size 576x432 with 1 Axes>"
      ]
     },
     "metadata": {
      "needs_background": "light"
     },
     "output_type": "display_data"
    }
   ],
   "source": [
    "data = pd.DataFrame(df.groupby(['OCCUPATION_TYPE'])['AMT_INCOME_TOTAL'].mean()).reset_index().sort_values(by=['AMT_INCOME_TOTAL'], ascending=False).round(1)\n",
    "\n",
    "plt.figure(figsize=(8,6))\n",
    "ax = sns.boxplot(data=df.sort_values(by='AMT_INCOME_TOTAL', ascending = False), x='OCCUPATION_TYPE', y='AMT_INCOME_TOTAL', order = data['OCCUPATION_TYPE'], linewidth= 1)\n",
    "\n",
    "ax.set_xticklabels(ax.get_xticklabels(),rotation=85);"
   ]
  },
  {
   "cell_type": "markdown",
   "metadata": {
    "papermill": {
     "duration": 0.156527,
     "end_time": "2020-10-28T08:14:08.667845",
     "exception": false,
     "start_time": "2020-10-28T08:14:08.511318",
     "status": "completed"
    },
    "tags": []
   },
   "source": [
    "# Data Pre Processing"
   ]
  },
  {
   "cell_type": "markdown",
   "metadata": {
    "papermill": {
     "duration": 0.160113,
     "end_time": "2020-10-28T08:14:08.987403",
     "exception": false,
     "start_time": "2020-10-28T08:14:08.827290",
     "status": "completed"
    },
    "tags": []
   },
   "source": [
    "In this section we are going to pre-process the dataset to feed the model.  \n",
    "We will split features by theyr type first: flag (or binary), numeric and categorical, and in each of those splits we are doing train and test splits to guarantee that numeric features are not scaled/normalized before the train/test split operation."
   ]
  },
  {
   "cell_type": "markdown",
   "metadata": {
    "papermill": {
     "duration": 0.159893,
     "end_time": "2020-10-28T08:14:09.952071",
     "exception": false,
     "start_time": "2020-10-28T08:14:09.792178",
     "status": "completed"
    },
    "tags": []
   },
   "source": [
    "## Encoding Categorical Features"
   ]
  },
  {
   "cell_type": "code",
   "execution_count": 59,
   "metadata": {
    "execution": {
     "iopub.execute_input": "2020-10-28T08:14:10.631640Z",
     "iopub.status.busy": "2020-10-28T08:14:10.629683Z",
     "iopub.status.idle": "2020-10-28T08:14:10.636708Z",
     "shell.execute_reply": "2020-10-28T08:14:10.637338Z"
    },
    "papermill": {
     "duration": 0.181103,
     "end_time": "2020-10-28T08:14:10.637520",
     "exception": false,
     "start_time": "2020-10-28T08:14:10.456417",
     "status": "completed"
    },
    "tags": []
   },
   "outputs": [
    {
     "data": {
      "text/html": [
       "<div>\n",
       "<style scoped>\n",
       "    .dataframe tbody tr th:only-of-type {\n",
       "        vertical-align: middle;\n",
       "    }\n",
       "\n",
       "    .dataframe tbody tr th {\n",
       "        vertical-align: top;\n",
       "    }\n",
       "\n",
       "    .dataframe thead th {\n",
       "        text-align: right;\n",
       "    }\n",
       "</style>\n",
       "<table border=\"1\" class=\"dataframe\">\n",
       "  <thead>\n",
       "    <tr style=\"text-align: right;\">\n",
       "      <th></th>\n",
       "      <th>CODE_GENDER==F</th>\n",
       "      <th>CODE_GENDER==M</th>\n",
       "      <th>NAME_INCOME_TYPE==Pensioner</th>\n",
       "      <th>NAME_INCOME_TYPE==Student</th>\n",
       "      <th>NAME_INCOME_TYPE==Working</th>\n",
       "      <th>NAME_EDUCATION_TYPE==Basic</th>\n",
       "      <th>NAME_EDUCATION_TYPE==Higher education</th>\n",
       "      <th>NAME_EDUCATION_TYPE==Secondary / secondary special</th>\n",
       "      <th>NAME_FAMILY_STATUS==Married</th>\n",
       "      <th>NAME_FAMILY_STATUS==Separated</th>\n",
       "      <th>NAME_FAMILY_STATUS==Single / not married</th>\n",
       "      <th>NAME_FAMILY_STATUS==Widow</th>\n",
       "      <th>NAME_HOUSING_TYPE==Municipal or Office apartment</th>\n",
       "      <th>NAME_HOUSING_TYPE==Rented apartment</th>\n",
       "      <th>NAME_HOUSING_TYPE==With parents</th>\n",
       "      <th>OCCUPATION_TYPE==Group 1</th>\n",
       "      <th>OCCUPATION_TYPE==Group 2</th>\n",
       "      <th>OCCUPATION_TYPE==Group 3</th>\n",
       "      <th>OCCUPATION_TYPE==Group 4</th>\n",
       "    </tr>\n",
       "    <tr>\n",
       "      <th>ID</th>\n",
       "      <th></th>\n",
       "      <th></th>\n",
       "      <th></th>\n",
       "      <th></th>\n",
       "      <th></th>\n",
       "      <th></th>\n",
       "      <th></th>\n",
       "      <th></th>\n",
       "      <th></th>\n",
       "      <th></th>\n",
       "      <th></th>\n",
       "      <th></th>\n",
       "      <th></th>\n",
       "      <th></th>\n",
       "      <th></th>\n",
       "      <th></th>\n",
       "      <th></th>\n",
       "      <th></th>\n",
       "      <th></th>\n",
       "    </tr>\n",
       "  </thead>\n",
       "  <tbody>\n",
       "    <tr>\n",
       "      <th>5126174</th>\n",
       "      <td>1</td>\n",
       "      <td>0</td>\n",
       "      <td>0</td>\n",
       "      <td>0</td>\n",
       "      <td>1</td>\n",
       "      <td>0</td>\n",
       "      <td>1</td>\n",
       "      <td>0</td>\n",
       "      <td>1</td>\n",
       "      <td>0</td>\n",
       "      <td>0</td>\n",
       "      <td>0</td>\n",
       "      <td>0</td>\n",
       "      <td>1</td>\n",
       "      <td>0</td>\n",
       "      <td>1</td>\n",
       "      <td>0</td>\n",
       "      <td>0</td>\n",
       "      <td>0</td>\n",
       "    </tr>\n",
       "    <tr>\n",
       "      <th>5126175</th>\n",
       "      <td>1</td>\n",
       "      <td>0</td>\n",
       "      <td>0</td>\n",
       "      <td>0</td>\n",
       "      <td>1</td>\n",
       "      <td>0</td>\n",
       "      <td>1</td>\n",
       "      <td>0</td>\n",
       "      <td>1</td>\n",
       "      <td>0</td>\n",
       "      <td>0</td>\n",
       "      <td>0</td>\n",
       "      <td>0</td>\n",
       "      <td>1</td>\n",
       "      <td>0</td>\n",
       "      <td>1</td>\n",
       "      <td>0</td>\n",
       "      <td>0</td>\n",
       "      <td>0</td>\n",
       "    </tr>\n",
       "    <tr>\n",
       "      <th>5054382</th>\n",
       "      <td>1</td>\n",
       "      <td>0</td>\n",
       "      <td>1</td>\n",
       "      <td>0</td>\n",
       "      <td>0</td>\n",
       "      <td>0</td>\n",
       "      <td>0</td>\n",
       "      <td>1</td>\n",
       "      <td>1</td>\n",
       "      <td>0</td>\n",
       "      <td>0</td>\n",
       "      <td>0</td>\n",
       "      <td>0</td>\n",
       "      <td>1</td>\n",
       "      <td>0</td>\n",
       "      <td>0</td>\n",
       "      <td>0</td>\n",
       "      <td>1</td>\n",
       "      <td>0</td>\n",
       "    </tr>\n",
       "    <tr>\n",
       "      <th>5132319</th>\n",
       "      <td>1</td>\n",
       "      <td>0</td>\n",
       "      <td>1</td>\n",
       "      <td>0</td>\n",
       "      <td>0</td>\n",
       "      <td>0</td>\n",
       "      <td>0</td>\n",
       "      <td>1</td>\n",
       "      <td>1</td>\n",
       "      <td>0</td>\n",
       "      <td>0</td>\n",
       "      <td>0</td>\n",
       "      <td>1</td>\n",
       "      <td>0</td>\n",
       "      <td>0</td>\n",
       "      <td>0</td>\n",
       "      <td>0</td>\n",
       "      <td>1</td>\n",
       "      <td>0</td>\n",
       "    </tr>\n",
       "    <tr>\n",
       "      <th>5132320</th>\n",
       "      <td>1</td>\n",
       "      <td>0</td>\n",
       "      <td>1</td>\n",
       "      <td>0</td>\n",
       "      <td>0</td>\n",
       "      <td>0</td>\n",
       "      <td>0</td>\n",
       "      <td>1</td>\n",
       "      <td>1</td>\n",
       "      <td>0</td>\n",
       "      <td>0</td>\n",
       "      <td>0</td>\n",
       "      <td>1</td>\n",
       "      <td>0</td>\n",
       "      <td>0</td>\n",
       "      <td>0</td>\n",
       "      <td>0</td>\n",
       "      <td>1</td>\n",
       "      <td>0</td>\n",
       "    </tr>\n",
       "  </tbody>\n",
       "</table>\n",
       "</div>"
      ],
      "text/plain": [
       "         CODE_GENDER==F  CODE_GENDER==M  NAME_INCOME_TYPE==Pensioner  \\\n",
       "ID                                                                     \n",
       "5126174               1               0                            0   \n",
       "5126175               1               0                            0   \n",
       "5054382               1               0                            1   \n",
       "5132319               1               0                            1   \n",
       "5132320               1               0                            1   \n",
       "\n",
       "         NAME_INCOME_TYPE==Student  NAME_INCOME_TYPE==Working  \\\n",
       "ID                                                              \n",
       "5126174                          0                          1   \n",
       "5126175                          0                          1   \n",
       "5054382                          0                          0   \n",
       "5132319                          0                          0   \n",
       "5132320                          0                          0   \n",
       "\n",
       "         NAME_EDUCATION_TYPE==Basic  NAME_EDUCATION_TYPE==Higher education  \\\n",
       "ID                                                                           \n",
       "5126174                           0                                      1   \n",
       "5126175                           0                                      1   \n",
       "5054382                           0                                      0   \n",
       "5132319                           0                                      0   \n",
       "5132320                           0                                      0   \n",
       "\n",
       "         NAME_EDUCATION_TYPE==Secondary / secondary special  \\\n",
       "ID                                                            \n",
       "5126174                                                  0    \n",
       "5126175                                                  0    \n",
       "5054382                                                  1    \n",
       "5132319                                                  1    \n",
       "5132320                                                  1    \n",
       "\n",
       "         NAME_FAMILY_STATUS==Married  NAME_FAMILY_STATUS==Separated  \\\n",
       "ID                                                                    \n",
       "5126174                            1                              0   \n",
       "5126175                            1                              0   \n",
       "5054382                            1                              0   \n",
       "5132319                            1                              0   \n",
       "5132320                            1                              0   \n",
       "\n",
       "         NAME_FAMILY_STATUS==Single / not married  NAME_FAMILY_STATUS==Widow  \\\n",
       "ID                                                                             \n",
       "5126174                                         0                          0   \n",
       "5126175                                         0                          0   \n",
       "5054382                                         0                          0   \n",
       "5132319                                         0                          0   \n",
       "5132320                                         0                          0   \n",
       "\n",
       "         NAME_HOUSING_TYPE==Municipal or Office apartment  \\\n",
       "ID                                                          \n",
       "5126174                                                 0   \n",
       "5126175                                                 0   \n",
       "5054382                                                 0   \n",
       "5132319                                                 1   \n",
       "5132320                                                 1   \n",
       "\n",
       "         NAME_HOUSING_TYPE==Rented apartment  NAME_HOUSING_TYPE==With parents  \\\n",
       "ID                                                                              \n",
       "5126174                                    1                                0   \n",
       "5126175                                    1                                0   \n",
       "5054382                                    1                                0   \n",
       "5132319                                    0                                0   \n",
       "5132320                                    0                                0   \n",
       "\n",
       "         OCCUPATION_TYPE==Group 1  OCCUPATION_TYPE==Group 2  \\\n",
       "ID                                                            \n",
       "5126174                         1                         0   \n",
       "5126175                         1                         0   \n",
       "5054382                         0                         0   \n",
       "5132319                         0                         0   \n",
       "5132320                         0                         0   \n",
       "\n",
       "         OCCUPATION_TYPE==Group 3  OCCUPATION_TYPE==Group 4  \n",
       "ID                                                           \n",
       "5126174                         0                         0  \n",
       "5126175                         0                         0  \n",
       "5054382                         1                         0  \n",
       "5132319                         1                         0  \n",
       "5132320                         1                         0  "
      ]
     },
     "execution_count": 59,
     "metadata": {},
     "output_type": "execute_result"
    }
   ],
   "source": [
    "df_cat = df[cat_cols]\n",
    "df_dumm = pd.get_dummies(df_cat,  prefix_sep='==')\n",
    "\n",
    "df_dumm.head()"
   ]
  },
  {
   "cell_type": "markdown",
   "metadata": {
    "papermill": {
     "duration": 0.158219,
     "end_time": "2020-10-28T08:14:10.955584",
     "exception": false,
     "start_time": "2020-10-28T08:14:10.797365",
     "status": "completed"
    },
    "tags": []
   },
   "source": [
    "Dropping categorical columns from df dataframe, and joining the \"dummy\" versions"
   ]
  },
  {
   "cell_type": "code",
   "execution_count": 60,
   "metadata": {
    "execution": {
     "iopub.execute_input": "2020-10-28T08:14:11.296892Z",
     "iopub.status.busy": "2020-10-28T08:14:11.295786Z",
     "iopub.status.idle": "2020-10-28T08:14:11.302083Z",
     "shell.execute_reply": "2020-10-28T08:14:11.301212Z"
    },
    "papermill": {
     "duration": 0.181641,
     "end_time": "2020-10-28T08:14:11.302235",
     "exception": false,
     "start_time": "2020-10-28T08:14:11.120594",
     "status": "completed"
    },
    "tags": []
   },
   "outputs": [],
   "source": [
    "df.drop(columns = cat_cols, inplace= True)"
   ]
  },
  {
   "cell_type": "code",
   "execution_count": 61,
   "metadata": {
    "execution": {
     "iopub.execute_input": "2020-10-28T08:14:11.653077Z",
     "iopub.status.busy": "2020-10-28T08:14:11.639976Z",
     "iopub.status.idle": "2020-10-28T08:14:11.658110Z",
     "shell.execute_reply": "2020-10-28T08:14:11.658709Z"
    },
    "papermill": {
     "duration": 0.190822,
     "end_time": "2020-10-28T08:14:11.658900",
     "exception": false,
     "start_time": "2020-10-28T08:14:11.468078",
     "status": "completed"
    },
    "tags": []
   },
   "outputs": [
    {
     "data": {
      "text/html": [
       "<div>\n",
       "<style scoped>\n",
       "    .dataframe tbody tr th:only-of-type {\n",
       "        vertical-align: middle;\n",
       "    }\n",
       "\n",
       "    .dataframe tbody tr th {\n",
       "        vertical-align: top;\n",
       "    }\n",
       "\n",
       "    .dataframe thead th {\n",
       "        text-align: right;\n",
       "    }\n",
       "</style>\n",
       "<table border=\"1\" class=\"dataframe\">\n",
       "  <thead>\n",
       "    <tr style=\"text-align: right;\">\n",
       "      <th></th>\n",
       "      <th>CODE_GENDER==F</th>\n",
       "      <th>CODE_GENDER==M</th>\n",
       "      <th>NAME_INCOME_TYPE==Pensioner</th>\n",
       "      <th>NAME_INCOME_TYPE==Student</th>\n",
       "      <th>NAME_INCOME_TYPE==Working</th>\n",
       "      <th>NAME_EDUCATION_TYPE==Basic</th>\n",
       "      <th>NAME_EDUCATION_TYPE==Higher education</th>\n",
       "      <th>NAME_EDUCATION_TYPE==Secondary / secondary special</th>\n",
       "      <th>NAME_FAMILY_STATUS==Married</th>\n",
       "      <th>NAME_FAMILY_STATUS==Separated</th>\n",
       "      <th>NAME_FAMILY_STATUS==Single / not married</th>\n",
       "      <th>NAME_FAMILY_STATUS==Widow</th>\n",
       "      <th>NAME_HOUSING_TYPE==Municipal or Office apartment</th>\n",
       "      <th>NAME_HOUSING_TYPE==Rented apartment</th>\n",
       "      <th>NAME_HOUSING_TYPE==With parents</th>\n",
       "      <th>OCCUPATION_TYPE==Group 1</th>\n",
       "      <th>OCCUPATION_TYPE==Group 2</th>\n",
       "      <th>OCCUPATION_TYPE==Group 3</th>\n",
       "      <th>OCCUPATION_TYPE==Group 4</th>\n",
       "    </tr>\n",
       "    <tr>\n",
       "      <th>ID</th>\n",
       "      <th></th>\n",
       "      <th></th>\n",
       "      <th></th>\n",
       "      <th></th>\n",
       "      <th></th>\n",
       "      <th></th>\n",
       "      <th></th>\n",
       "      <th></th>\n",
       "      <th></th>\n",
       "      <th></th>\n",
       "      <th></th>\n",
       "      <th></th>\n",
       "      <th></th>\n",
       "      <th></th>\n",
       "      <th></th>\n",
       "      <th></th>\n",
       "      <th></th>\n",
       "      <th></th>\n",
       "      <th></th>\n",
       "    </tr>\n",
       "  </thead>\n",
       "  <tbody>\n",
       "    <tr>\n",
       "      <th>5126174</th>\n",
       "      <td>1</td>\n",
       "      <td>0</td>\n",
       "      <td>0</td>\n",
       "      <td>0</td>\n",
       "      <td>1</td>\n",
       "      <td>0</td>\n",
       "      <td>1</td>\n",
       "      <td>0</td>\n",
       "      <td>1</td>\n",
       "      <td>0</td>\n",
       "      <td>0</td>\n",
       "      <td>0</td>\n",
       "      <td>0</td>\n",
       "      <td>1</td>\n",
       "      <td>0</td>\n",
       "      <td>1</td>\n",
       "      <td>0</td>\n",
       "      <td>0</td>\n",
       "      <td>0</td>\n",
       "    </tr>\n",
       "    <tr>\n",
       "      <th>5126175</th>\n",
       "      <td>1</td>\n",
       "      <td>0</td>\n",
       "      <td>0</td>\n",
       "      <td>0</td>\n",
       "      <td>1</td>\n",
       "      <td>0</td>\n",
       "      <td>1</td>\n",
       "      <td>0</td>\n",
       "      <td>1</td>\n",
       "      <td>0</td>\n",
       "      <td>0</td>\n",
       "      <td>0</td>\n",
       "      <td>0</td>\n",
       "      <td>1</td>\n",
       "      <td>0</td>\n",
       "      <td>1</td>\n",
       "      <td>0</td>\n",
       "      <td>0</td>\n",
       "      <td>0</td>\n",
       "    </tr>\n",
       "    <tr>\n",
       "      <th>5054382</th>\n",
       "      <td>1</td>\n",
       "      <td>0</td>\n",
       "      <td>1</td>\n",
       "      <td>0</td>\n",
       "      <td>0</td>\n",
       "      <td>0</td>\n",
       "      <td>0</td>\n",
       "      <td>1</td>\n",
       "      <td>1</td>\n",
       "      <td>0</td>\n",
       "      <td>0</td>\n",
       "      <td>0</td>\n",
       "      <td>0</td>\n",
       "      <td>1</td>\n",
       "      <td>0</td>\n",
       "      <td>0</td>\n",
       "      <td>0</td>\n",
       "      <td>1</td>\n",
       "      <td>0</td>\n",
       "    </tr>\n",
       "    <tr>\n",
       "      <th>5132319</th>\n",
       "      <td>1</td>\n",
       "      <td>0</td>\n",
       "      <td>1</td>\n",
       "      <td>0</td>\n",
       "      <td>0</td>\n",
       "      <td>0</td>\n",
       "      <td>0</td>\n",
       "      <td>1</td>\n",
       "      <td>1</td>\n",
       "      <td>0</td>\n",
       "      <td>0</td>\n",
       "      <td>0</td>\n",
       "      <td>1</td>\n",
       "      <td>0</td>\n",
       "      <td>0</td>\n",
       "      <td>0</td>\n",
       "      <td>0</td>\n",
       "      <td>1</td>\n",
       "      <td>0</td>\n",
       "    </tr>\n",
       "    <tr>\n",
       "      <th>5132320</th>\n",
       "      <td>1</td>\n",
       "      <td>0</td>\n",
       "      <td>1</td>\n",
       "      <td>0</td>\n",
       "      <td>0</td>\n",
       "      <td>0</td>\n",
       "      <td>0</td>\n",
       "      <td>1</td>\n",
       "      <td>1</td>\n",
       "      <td>0</td>\n",
       "      <td>0</td>\n",
       "      <td>0</td>\n",
       "      <td>1</td>\n",
       "      <td>0</td>\n",
       "      <td>0</td>\n",
       "      <td>0</td>\n",
       "      <td>0</td>\n",
       "      <td>1</td>\n",
       "      <td>0</td>\n",
       "    </tr>\n",
       "  </tbody>\n",
       "</table>\n",
       "</div>"
      ],
      "text/plain": [
       "         CODE_GENDER==F  CODE_GENDER==M  NAME_INCOME_TYPE==Pensioner  \\\n",
       "ID                                                                     \n",
       "5126174               1               0                            0   \n",
       "5126175               1               0                            0   \n",
       "5054382               1               0                            1   \n",
       "5132319               1               0                            1   \n",
       "5132320               1               0                            1   \n",
       "\n",
       "         NAME_INCOME_TYPE==Student  NAME_INCOME_TYPE==Working  \\\n",
       "ID                                                              \n",
       "5126174                          0                          1   \n",
       "5126175                          0                          1   \n",
       "5054382                          0                          0   \n",
       "5132319                          0                          0   \n",
       "5132320                          0                          0   \n",
       "\n",
       "         NAME_EDUCATION_TYPE==Basic  NAME_EDUCATION_TYPE==Higher education  \\\n",
       "ID                                                                           \n",
       "5126174                           0                                      1   \n",
       "5126175                           0                                      1   \n",
       "5054382                           0                                      0   \n",
       "5132319                           0                                      0   \n",
       "5132320                           0                                      0   \n",
       "\n",
       "         NAME_EDUCATION_TYPE==Secondary / secondary special  \\\n",
       "ID                                                            \n",
       "5126174                                                  0    \n",
       "5126175                                                  0    \n",
       "5054382                                                  1    \n",
       "5132319                                                  1    \n",
       "5132320                                                  1    \n",
       "\n",
       "         NAME_FAMILY_STATUS==Married  NAME_FAMILY_STATUS==Separated  \\\n",
       "ID                                                                    \n",
       "5126174                            1                              0   \n",
       "5126175                            1                              0   \n",
       "5054382                            1                              0   \n",
       "5132319                            1                              0   \n",
       "5132320                            1                              0   \n",
       "\n",
       "         NAME_FAMILY_STATUS==Single / not married  NAME_FAMILY_STATUS==Widow  \\\n",
       "ID                                                                             \n",
       "5126174                                         0                          0   \n",
       "5126175                                         0                          0   \n",
       "5054382                                         0                          0   \n",
       "5132319                                         0                          0   \n",
       "5132320                                         0                          0   \n",
       "\n",
       "         NAME_HOUSING_TYPE==Municipal or Office apartment  \\\n",
       "ID                                                          \n",
       "5126174                                                 0   \n",
       "5126175                                                 0   \n",
       "5054382                                                 0   \n",
       "5132319                                                 1   \n",
       "5132320                                                 1   \n",
       "\n",
       "         NAME_HOUSING_TYPE==Rented apartment  NAME_HOUSING_TYPE==With parents  \\\n",
       "ID                                                                              \n",
       "5126174                                    1                                0   \n",
       "5126175                                    1                                0   \n",
       "5054382                                    1                                0   \n",
       "5132319                                    0                                0   \n",
       "5132320                                    0                                0   \n",
       "\n",
       "         OCCUPATION_TYPE==Group 1  OCCUPATION_TYPE==Group 2  \\\n",
       "ID                                                            \n",
       "5126174                         1                         0   \n",
       "5126175                         1                         0   \n",
       "5054382                         0                         0   \n",
       "5132319                         0                         0   \n",
       "5132320                         0                         0   \n",
       "\n",
       "         OCCUPATION_TYPE==Group 3  OCCUPATION_TYPE==Group 4  \n",
       "ID                                                           \n",
       "5126174                         0                         0  \n",
       "5126175                         0                         0  \n",
       "5054382                         1                         0  \n",
       "5132319                         1                         0  \n",
       "5132320                         1                         0  "
      ]
     },
     "execution_count": 61,
     "metadata": {},
     "output_type": "execute_result"
    }
   ],
   "source": [
    "df_dumm.head()"
   ]
  },
  {
   "cell_type": "code",
   "execution_count": 62,
   "metadata": {
    "execution": {
     "iopub.execute_input": "2020-10-28T08:14:11.993727Z",
     "iopub.status.busy": "2020-10-28T08:14:11.985658Z",
     "iopub.status.idle": "2020-10-28T08:14:12.010289Z",
     "shell.execute_reply": "2020-10-28T08:14:12.009370Z"
    },
    "papermill": {
     "duration": 0.189286,
     "end_time": "2020-10-28T08:14:12.010445",
     "exception": false,
     "start_time": "2020-10-28T08:14:11.821159",
     "status": "completed"
    },
    "tags": []
   },
   "outputs": [
    {
     "data": {
      "text/html": [
       "<div>\n",
       "<style scoped>\n",
       "    .dataframe tbody tr th:only-of-type {\n",
       "        vertical-align: middle;\n",
       "    }\n",
       "\n",
       "    .dataframe tbody tr th {\n",
       "        vertical-align: top;\n",
       "    }\n",
       "\n",
       "    .dataframe thead th {\n",
       "        text-align: right;\n",
       "    }\n",
       "</style>\n",
       "<table border=\"1\" class=\"dataframe\">\n",
       "  <thead>\n",
       "    <tr style=\"text-align: right;\">\n",
       "      <th></th>\n",
       "      <th>CODE_GENDER==F</th>\n",
       "      <th>CODE_GENDER==M</th>\n",
       "      <th>NAME_INCOME_TYPE==Pensioner</th>\n",
       "      <th>NAME_INCOME_TYPE==Student</th>\n",
       "      <th>NAME_INCOME_TYPE==Working</th>\n",
       "      <th>NAME_EDUCATION_TYPE==Basic</th>\n",
       "      <th>NAME_EDUCATION_TYPE==Higher education</th>\n",
       "      <th>NAME_EDUCATION_TYPE==Secondary / secondary special</th>\n",
       "      <th>NAME_FAMILY_STATUS==Married</th>\n",
       "      <th>NAME_FAMILY_STATUS==Separated</th>\n",
       "      <th>...</th>\n",
       "      <th>FLAG_OWN_REALTY</th>\n",
       "      <th>FLAG_WORK_PHONE</th>\n",
       "      <th>FLAG_PHONE</th>\n",
       "      <th>FLAG_EMAIL</th>\n",
       "      <th>CNT_FAM_MEMBERS</th>\n",
       "      <th>AMT_INCOME_TOTAL</th>\n",
       "      <th>DAYS_BIRTH</th>\n",
       "      <th>DAYS_EMPLOYED</th>\n",
       "      <th>customer_type</th>\n",
       "      <th>months_in_book</th>\n",
       "    </tr>\n",
       "    <tr>\n",
       "      <th>ID</th>\n",
       "      <th></th>\n",
       "      <th></th>\n",
       "      <th></th>\n",
       "      <th></th>\n",
       "      <th></th>\n",
       "      <th></th>\n",
       "      <th></th>\n",
       "      <th></th>\n",
       "      <th></th>\n",
       "      <th></th>\n",
       "      <th></th>\n",
       "      <th></th>\n",
       "      <th></th>\n",
       "      <th></th>\n",
       "      <th></th>\n",
       "      <th></th>\n",
       "      <th></th>\n",
       "      <th></th>\n",
       "      <th></th>\n",
       "      <th></th>\n",
       "      <th></th>\n",
       "    </tr>\n",
       "  </thead>\n",
       "  <tbody>\n",
       "    <tr>\n",
       "      <th>5126174</th>\n",
       "      <td>1</td>\n",
       "      <td>0</td>\n",
       "      <td>0</td>\n",
       "      <td>0</td>\n",
       "      <td>1</td>\n",
       "      <td>0</td>\n",
       "      <td>1</td>\n",
       "      <td>0</td>\n",
       "      <td>1</td>\n",
       "      <td>0</td>\n",
       "      <td>...</td>\n",
       "      <td>0</td>\n",
       "      <td>1</td>\n",
       "      <td>0</td>\n",
       "      <td>0</td>\n",
       "      <td>2.0</td>\n",
       "      <td>27000.0</td>\n",
       "      <td>-14869</td>\n",
       "      <td>-5067</td>\n",
       "      <td>good</td>\n",
       "      <td>49</td>\n",
       "    </tr>\n",
       "    <tr>\n",
       "      <th>5126175</th>\n",
       "      <td>1</td>\n",
       "      <td>0</td>\n",
       "      <td>0</td>\n",
       "      <td>0</td>\n",
       "      <td>1</td>\n",
       "      <td>0</td>\n",
       "      <td>1</td>\n",
       "      <td>0</td>\n",
       "      <td>1</td>\n",
       "      <td>0</td>\n",
       "      <td>...</td>\n",
       "      <td>0</td>\n",
       "      <td>1</td>\n",
       "      <td>0</td>\n",
       "      <td>0</td>\n",
       "      <td>2.0</td>\n",
       "      <td>27000.0</td>\n",
       "      <td>-14869</td>\n",
       "      <td>-5067</td>\n",
       "      <td>good</td>\n",
       "      <td>49</td>\n",
       "    </tr>\n",
       "    <tr>\n",
       "      <th>5054382</th>\n",
       "      <td>1</td>\n",
       "      <td>0</td>\n",
       "      <td>1</td>\n",
       "      <td>0</td>\n",
       "      <td>0</td>\n",
       "      <td>0</td>\n",
       "      <td>0</td>\n",
       "      <td>1</td>\n",
       "      <td>1</td>\n",
       "      <td>0</td>\n",
       "      <td>...</td>\n",
       "      <td>0</td>\n",
       "      <td>0</td>\n",
       "      <td>0</td>\n",
       "      <td>0</td>\n",
       "      <td>2.0</td>\n",
       "      <td>31500.0</td>\n",
       "      <td>-20836</td>\n",
       "      <td>365243</td>\n",
       "      <td>good</td>\n",
       "      <td>13</td>\n",
       "    </tr>\n",
       "    <tr>\n",
       "      <th>5132319</th>\n",
       "      <td>1</td>\n",
       "      <td>0</td>\n",
       "      <td>1</td>\n",
       "      <td>0</td>\n",
       "      <td>0</td>\n",
       "      <td>0</td>\n",
       "      <td>0</td>\n",
       "      <td>1</td>\n",
       "      <td>1</td>\n",
       "      <td>0</td>\n",
       "      <td>...</td>\n",
       "      <td>0</td>\n",
       "      <td>0</td>\n",
       "      <td>0</td>\n",
       "      <td>0</td>\n",
       "      <td>2.0</td>\n",
       "      <td>33300.0</td>\n",
       "      <td>-19605</td>\n",
       "      <td>365243</td>\n",
       "      <td>good</td>\n",
       "      <td>276</td>\n",
       "    </tr>\n",
       "    <tr>\n",
       "      <th>5132320</th>\n",
       "      <td>1</td>\n",
       "      <td>0</td>\n",
       "      <td>1</td>\n",
       "      <td>0</td>\n",
       "      <td>0</td>\n",
       "      <td>0</td>\n",
       "      <td>0</td>\n",
       "      <td>1</td>\n",
       "      <td>1</td>\n",
       "      <td>0</td>\n",
       "      <td>...</td>\n",
       "      <td>0</td>\n",
       "      <td>0</td>\n",
       "      <td>0</td>\n",
       "      <td>0</td>\n",
       "      <td>2.0</td>\n",
       "      <td>33300.0</td>\n",
       "      <td>-19605</td>\n",
       "      <td>365243</td>\n",
       "      <td>good</td>\n",
       "      <td>276</td>\n",
       "    </tr>\n",
       "  </tbody>\n",
       "</table>\n",
       "<p>5 rows × 30 columns</p>\n",
       "</div>"
      ],
      "text/plain": [
       "         CODE_GENDER==F  CODE_GENDER==M  NAME_INCOME_TYPE==Pensioner  \\\n",
       "ID                                                                     \n",
       "5126174               1               0                            0   \n",
       "5126175               1               0                            0   \n",
       "5054382               1               0                            1   \n",
       "5132319               1               0                            1   \n",
       "5132320               1               0                            1   \n",
       "\n",
       "         NAME_INCOME_TYPE==Student  NAME_INCOME_TYPE==Working  \\\n",
       "ID                                                              \n",
       "5126174                          0                          1   \n",
       "5126175                          0                          1   \n",
       "5054382                          0                          0   \n",
       "5132319                          0                          0   \n",
       "5132320                          0                          0   \n",
       "\n",
       "         NAME_EDUCATION_TYPE==Basic  NAME_EDUCATION_TYPE==Higher education  \\\n",
       "ID                                                                           \n",
       "5126174                           0                                      1   \n",
       "5126175                           0                                      1   \n",
       "5054382                           0                                      0   \n",
       "5132319                           0                                      0   \n",
       "5132320                           0                                      0   \n",
       "\n",
       "         NAME_EDUCATION_TYPE==Secondary / secondary special  \\\n",
       "ID                                                            \n",
       "5126174                                                  0    \n",
       "5126175                                                  0    \n",
       "5054382                                                  1    \n",
       "5132319                                                  1    \n",
       "5132320                                                  1    \n",
       "\n",
       "         NAME_FAMILY_STATUS==Married  NAME_FAMILY_STATUS==Separated  ...  \\\n",
       "ID                                                                   ...   \n",
       "5126174                            1                              0  ...   \n",
       "5126175                            1                              0  ...   \n",
       "5054382                            1                              0  ...   \n",
       "5132319                            1                              0  ...   \n",
       "5132320                            1                              0  ...   \n",
       "\n",
       "         FLAG_OWN_REALTY  FLAG_WORK_PHONE  FLAG_PHONE  FLAG_EMAIL  \\\n",
       "ID                                                                  \n",
       "5126174                0                1           0           0   \n",
       "5126175                0                1           0           0   \n",
       "5054382                0                0           0           0   \n",
       "5132319                0                0           0           0   \n",
       "5132320                0                0           0           0   \n",
       "\n",
       "         CNT_FAM_MEMBERS  AMT_INCOME_TOTAL  DAYS_BIRTH  DAYS_EMPLOYED  \\\n",
       "ID                                                                      \n",
       "5126174              2.0           27000.0      -14869          -5067   \n",
       "5126175              2.0           27000.0      -14869          -5067   \n",
       "5054382              2.0           31500.0      -20836         365243   \n",
       "5132319              2.0           33300.0      -19605         365243   \n",
       "5132320              2.0           33300.0      -19605         365243   \n",
       "\n",
       "         customer_type  months_in_book  \n",
       "ID                                      \n",
       "5126174           good              49  \n",
       "5126175           good              49  \n",
       "5054382           good              13  \n",
       "5132319           good             276  \n",
       "5132320           good             276  \n",
       "\n",
       "[5 rows x 30 columns]"
      ]
     },
     "execution_count": 62,
     "metadata": {},
     "output_type": "execute_result"
    }
   ],
   "source": [
    "df = pd.concat([df_dumm, df], axis = 1)\n",
    "df.head()"
   ]
  },
  {
   "cell_type": "markdown",
   "metadata": {
    "papermill": {
     "duration": 0.167761,
     "end_time": "2020-10-28T08:14:12.358099",
     "exception": false,
     "start_time": "2020-10-28T08:14:12.190338",
     "status": "completed"
    },
    "tags": []
   },
   "source": [
    "## Setting Flag Features to same data type"
   ]
  },
  {
   "cell_type": "code",
   "execution_count": 63,
   "metadata": {
    "execution": {
     "iopub.execute_input": "2020-10-28T08:14:12.699523Z",
     "iopub.status.busy": "2020-10-28T08:14:12.692048Z",
     "iopub.status.idle": "2020-10-28T08:14:12.704890Z",
     "shell.execute_reply": "2020-10-28T08:14:12.704286Z"
    },
    "papermill": {
     "duration": 0.185553,
     "end_time": "2020-10-28T08:14:12.705024",
     "exception": false,
     "start_time": "2020-10-28T08:14:12.519471",
     "status": "completed"
    },
    "tags": []
   },
   "outputs": [
    {
     "data": {
      "text/html": [
       "<div>\n",
       "<style scoped>\n",
       "    .dataframe tbody tr th:only-of-type {\n",
       "        vertical-align: middle;\n",
       "    }\n",
       "\n",
       "    .dataframe tbody tr th {\n",
       "        vertical-align: top;\n",
       "    }\n",
       "\n",
       "    .dataframe thead th {\n",
       "        text-align: right;\n",
       "    }\n",
       "</style>\n",
       "<table border=\"1\" class=\"dataframe\">\n",
       "  <thead>\n",
       "    <tr style=\"text-align: right;\">\n",
       "      <th></th>\n",
       "      <th>CNT_FAM_MEMBERS</th>\n",
       "      <th>AMT_INCOME_TOTAL</th>\n",
       "      <th>DAYS_BIRTH</th>\n",
       "      <th>DAYS_EMPLOYED</th>\n",
       "      <th>months_in_book</th>\n",
       "    </tr>\n",
       "  </thead>\n",
       "  <tbody>\n",
       "    <tr>\n",
       "      <th>count</th>\n",
       "      <td>36457.000000</td>\n",
       "      <td>3.645700e+04</td>\n",
       "      <td>36457.000000</td>\n",
       "      <td>36457.000000</td>\n",
       "      <td>36457.000000</td>\n",
       "    </tr>\n",
       "    <tr>\n",
       "      <th>mean</th>\n",
       "      <td>2.198453</td>\n",
       "      <td>1.866857e+05</td>\n",
       "      <td>-15975.173382</td>\n",
       "      <td>59262.935568</td>\n",
       "      <td>145.816002</td>\n",
       "    </tr>\n",
       "    <tr>\n",
       "      <th>std</th>\n",
       "      <td>0.911686</td>\n",
       "      <td>1.017892e+05</td>\n",
       "      <td>4200.549944</td>\n",
       "      <td>137651.334859</td>\n",
       "      <td>120.244185</td>\n",
       "    </tr>\n",
       "    <tr>\n",
       "      <th>min</th>\n",
       "      <td>1.000000</td>\n",
       "      <td>2.700000e+04</td>\n",
       "      <td>-25152.000000</td>\n",
       "      <td>-15713.000000</td>\n",
       "      <td>1.000000</td>\n",
       "    </tr>\n",
       "    <tr>\n",
       "      <th>25%</th>\n",
       "      <td>2.000000</td>\n",
       "      <td>1.215000e+05</td>\n",
       "      <td>-19438.000000</td>\n",
       "      <td>-3153.000000</td>\n",
       "      <td>54.000000</td>\n",
       "    </tr>\n",
       "    <tr>\n",
       "      <th>50%</th>\n",
       "      <td>2.000000</td>\n",
       "      <td>1.575000e+05</td>\n",
       "      <td>-15563.000000</td>\n",
       "      <td>-1552.000000</td>\n",
       "      <td>114.000000</td>\n",
       "    </tr>\n",
       "    <tr>\n",
       "      <th>75%</th>\n",
       "      <td>3.000000</td>\n",
       "      <td>2.250000e+05</td>\n",
       "      <td>-12462.000000</td>\n",
       "      <td>-408.000000</td>\n",
       "      <td>206.000000</td>\n",
       "    </tr>\n",
       "    <tr>\n",
       "      <th>max</th>\n",
       "      <td>20.000000</td>\n",
       "      <td>1.575000e+06</td>\n",
       "      <td>-7489.000000</td>\n",
       "      <td>365243.000000</td>\n",
       "      <td>799.000000</td>\n",
       "    </tr>\n",
       "  </tbody>\n",
       "</table>\n",
       "</div>"
      ],
      "text/plain": [
       "       CNT_FAM_MEMBERS  AMT_INCOME_TOTAL    DAYS_BIRTH  DAYS_EMPLOYED  \\\n",
       "count     36457.000000      3.645700e+04  36457.000000   36457.000000   \n",
       "mean          2.198453      1.866857e+05 -15975.173382   59262.935568   \n",
       "std           0.911686      1.017892e+05   4200.549944  137651.334859   \n",
       "min           1.000000      2.700000e+04 -25152.000000  -15713.000000   \n",
       "25%           2.000000      1.215000e+05 -19438.000000   -3153.000000   \n",
       "50%           2.000000      1.575000e+05 -15563.000000   -1552.000000   \n",
       "75%           3.000000      2.250000e+05 -12462.000000    -408.000000   \n",
       "max          20.000000      1.575000e+06  -7489.000000  365243.000000   \n",
       "\n",
       "       months_in_book  \n",
       "count    36457.000000  \n",
       "mean       145.816002  \n",
       "std        120.244185  \n",
       "min          1.000000  \n",
       "25%         54.000000  \n",
       "50%        114.000000  \n",
       "75%        206.000000  \n",
       "max        799.000000  "
      ]
     },
     "execution_count": 63,
     "metadata": {},
     "output_type": "execute_result"
    }
   ],
   "source": [
    "df[flag_cols] = df[flag_cols].astype('uint8')\n",
    "df.head()\n",
    "df[num_cols].describe()"
   ]
  },
  {
   "cell_type": "markdown",
   "metadata": {},
   "source": [
    "## Normalisation"
   ]
  },
  {
   "cell_type": "code",
   "execution_count": 64,
   "metadata": {},
   "outputs": [
    {
     "data": {
      "text/html": [
       "<div>\n",
       "<style scoped>\n",
       "    .dataframe tbody tr th:only-of-type {\n",
       "        vertical-align: middle;\n",
       "    }\n",
       "\n",
       "    .dataframe tbody tr th {\n",
       "        vertical-align: top;\n",
       "    }\n",
       "\n",
       "    .dataframe thead th {\n",
       "        text-align: right;\n",
       "    }\n",
       "</style>\n",
       "<table border=\"1\" class=\"dataframe\">\n",
       "  <thead>\n",
       "    <tr style=\"text-align: right;\">\n",
       "      <th></th>\n",
       "      <th>CNT_FAM_MEMBERS</th>\n",
       "      <th>AMT_INCOME_TOTAL</th>\n",
       "      <th>DAYS_BIRTH</th>\n",
       "      <th>DAYS_EMPLOYED</th>\n",
       "      <th>months_in_book</th>\n",
       "    </tr>\n",
       "  </thead>\n",
       "  <tbody>\n",
       "    <tr>\n",
       "      <th>count</th>\n",
       "      <td>36457.000000</td>\n",
       "      <td>36457.000000</td>\n",
       "      <td>36457.000000</td>\n",
       "      <td>36457.000000</td>\n",
       "      <td>36457.000000</td>\n",
       "    </tr>\n",
       "    <tr>\n",
       "      <th>mean</th>\n",
       "      <td>2.198453</td>\n",
       "      <td>1.803727</td>\n",
       "      <td>-2.290019</td>\n",
       "      <td>-0.051751</td>\n",
       "      <td>0.959316</td>\n",
       "    </tr>\n",
       "    <tr>\n",
       "      <th>std</th>\n",
       "      <td>0.911686</td>\n",
       "      <td>0.983471</td>\n",
       "      <td>0.602143</td>\n",
       "      <td>0.519653</td>\n",
       "      <td>0.791080</td>\n",
       "    </tr>\n",
       "    <tr>\n",
       "      <th>min</th>\n",
       "      <td>1.000000</td>\n",
       "      <td>0.260870</td>\n",
       "      <td>-3.605505</td>\n",
       "      <td>-1.571300</td>\n",
       "      <td>0.006579</td>\n",
       "    </tr>\n",
       "    <tr>\n",
       "      <th>25%</th>\n",
       "      <td>2.000000</td>\n",
       "      <td>1.173913</td>\n",
       "      <td>-2.786411</td>\n",
       "      <td>-0.315300</td>\n",
       "      <td>0.355263</td>\n",
       "    </tr>\n",
       "    <tr>\n",
       "      <th>50%</th>\n",
       "      <td>2.000000</td>\n",
       "      <td>1.521739</td>\n",
       "      <td>-2.230935</td>\n",
       "      <td>-0.155200</td>\n",
       "      <td>0.750000</td>\n",
       "    </tr>\n",
       "    <tr>\n",
       "      <th>75%</th>\n",
       "      <td>3.000000</td>\n",
       "      <td>2.173913</td>\n",
       "      <td>-1.786411</td>\n",
       "      <td>-0.040800</td>\n",
       "      <td>1.355263</td>\n",
       "    </tr>\n",
       "    <tr>\n",
       "      <th>max</th>\n",
       "      <td>20.000000</td>\n",
       "      <td>15.217391</td>\n",
       "      <td>-1.073538</td>\n",
       "      <td>1.000000</td>\n",
       "      <td>5.256579</td>\n",
       "    </tr>\n",
       "  </tbody>\n",
       "</table>\n",
       "</div>"
      ],
      "text/plain": [
       "       CNT_FAM_MEMBERS  AMT_INCOME_TOTAL    DAYS_BIRTH  DAYS_EMPLOYED  \\\n",
       "count     36457.000000      36457.000000  36457.000000   36457.000000   \n",
       "mean          2.198453          1.803727     -2.290019      -0.051751   \n",
       "std           0.911686          0.983471      0.602143       0.519653   \n",
       "min           1.000000          0.260870     -3.605505      -1.571300   \n",
       "25%           2.000000          1.173913     -2.786411      -0.315300   \n",
       "50%           2.000000          1.521739     -2.230935      -0.155200   \n",
       "75%           3.000000          2.173913     -1.786411      -0.040800   \n",
       "max          20.000000         15.217391     -1.073538       1.000000   \n",
       "\n",
       "       months_in_book  \n",
       "count    36457.000000  \n",
       "mean         0.959316  \n",
       "std          0.791080  \n",
       "min          0.006579  \n",
       "25%          0.355263  \n",
       "50%          0.750000  \n",
       "75%          1.355263  \n",
       "max          5.256579  "
      ]
     },
     "execution_count": 64,
     "metadata": {},
     "output_type": "execute_result"
    }
   ],
   "source": [
    "df_num= df[num_cols].drop('DAYS_EMPLOYED',axis=1)\n",
    "\n",
    "# perform a robust scaler transform of the dataset\n",
    "trans = RobustScaler(with_centering=False, with_scaling=True)\n",
    "\n",
    "df_num_s = trans.fit_transform(df_num)\n",
    "df_num = pd.DataFrame( df_num_s, columns = df_num.columns, index = df.index)\n",
    "\n",
    "#separate normalisation for unemployed days\n",
    "employement = df['DAYS_EMPLOYED']\n",
    "employement = [x/pow(10,4) if x<50000 else 1 for x in employement]\n",
    "\n",
    "# for feeding into model\n",
    "df.drop(columns = num_cols, inplace = True)\n",
    "df = pd.concat([df, df_num,pd.DataFrame(employement,columns=[\"DAYS_EMPLOYED\"],index=df.index)] ,axis=1)\n",
    "df[num_cols].describe()"
   ]
  },
  {
   "cell_type": "markdown",
   "metadata": {},
   "source": [
    "## Dealing with class imbalance using SMOTE\n",
    "\n",
    "### First Oversampling then train test split or otherwise?"
   ]
  },
  {
   "cell_type": "code",
   "execution_count": 65,
   "metadata": {
    "scrolled": false
   },
   "outputs": [
    {
     "name": "stdout",
     "output_type": "stream",
     "text": [
      "good    35968\n",
      "bad       489\n",
      "Name: customer_type, dtype: int64\n"
     ]
    }
   ],
   "source": [
    "print(df['customer_type'].value_counts())"
   ]
  },
  {
   "cell_type": "code",
   "execution_count": 66,
   "metadata": {},
   "outputs": [
    {
     "name": "stdout",
     "output_type": "stream",
     "text": [
      "0    25177\n",
      "1      342\n",
      "dtype: int64\n",
      "1    25177\n",
      "0    25177\n",
      "dtype: int64\n"
     ]
    }
   ],
   "source": [
    "# genrating target class\n",
    "Y=df['customer_type']\n",
    "Y=pd.Series([1 if z=='bad' else 0 for z in Y ],index=Y.index)\n",
    "X=df.drop('customer_type',axis=1)\n",
    "Y = Y.astype('int')\n",
    "\n",
    "rand_st = 123\n",
    "test_size =0.3\n",
    "\n",
    "# splitting into test and train\n",
    "X_train, X_test, Y_train, Y_test = train_test_split( X, Y, test_size = test_size, stratify = Y, random_state = rand_st )\n",
    "print(Y_train.value_counts())\n",
    "X_train,Y_train = SMOTE().fit_sample(X_train,Y_train)\n",
    "X_train = pd.DataFrame(X_train, columns = X.columns)\n",
    "\n",
    "print(Y_train.value_counts())"
   ]
  },
  {
   "cell_type": "code",
   "execution_count": 67,
   "metadata": {},
   "outputs": [
    {
     "data": {
      "text/html": [
       "<div>\n",
       "<style scoped>\n",
       "    .dataframe tbody tr th:only-of-type {\n",
       "        vertical-align: middle;\n",
       "    }\n",
       "\n",
       "    .dataframe tbody tr th {\n",
       "        vertical-align: top;\n",
       "    }\n",
       "\n",
       "    .dataframe thead th {\n",
       "        text-align: right;\n",
       "    }\n",
       "</style>\n",
       "<table border=\"1\" class=\"dataframe\">\n",
       "  <thead>\n",
       "    <tr style=\"text-align: right;\">\n",
       "      <th></th>\n",
       "      <th>CODE_GENDER==F</th>\n",
       "      <th>CODE_GENDER==M</th>\n",
       "      <th>NAME_INCOME_TYPE==Pensioner</th>\n",
       "      <th>NAME_INCOME_TYPE==Student</th>\n",
       "      <th>NAME_INCOME_TYPE==Working</th>\n",
       "      <th>NAME_EDUCATION_TYPE==Basic</th>\n",
       "      <th>NAME_EDUCATION_TYPE==Higher education</th>\n",
       "      <th>NAME_EDUCATION_TYPE==Secondary / secondary special</th>\n",
       "      <th>NAME_FAMILY_STATUS==Married</th>\n",
       "      <th>NAME_FAMILY_STATUS==Separated</th>\n",
       "      <th>...</th>\n",
       "      <th>FLAG_OWN_CAR</th>\n",
       "      <th>FLAG_OWN_REALTY</th>\n",
       "      <th>FLAG_WORK_PHONE</th>\n",
       "      <th>FLAG_PHONE</th>\n",
       "      <th>FLAG_EMAIL</th>\n",
       "      <th>CNT_FAM_MEMBERS</th>\n",
       "      <th>AMT_INCOME_TOTAL</th>\n",
       "      <th>DAYS_BIRTH</th>\n",
       "      <th>months_in_book</th>\n",
       "      <th>DAYS_EMPLOYED</th>\n",
       "    </tr>\n",
       "  </thead>\n",
       "  <tbody>\n",
       "    <tr>\n",
       "      <th>count</th>\n",
       "      <td>50354.000000</td>\n",
       "      <td>50354.000000</td>\n",
       "      <td>50354.000000</td>\n",
       "      <td>50354.000000</td>\n",
       "      <td>50354.000000</td>\n",
       "      <td>50354.000000</td>\n",
       "      <td>50354.000000</td>\n",
       "      <td>50354.000000</td>\n",
       "      <td>50354.000000</td>\n",
       "      <td>50354.000000</td>\n",
       "      <td>...</td>\n",
       "      <td>50354.000000</td>\n",
       "      <td>50354.000000</td>\n",
       "      <td>50354.000000</td>\n",
       "      <td>50354.000000</td>\n",
       "      <td>50354.000000</td>\n",
       "      <td>50354.000000</td>\n",
       "      <td>50354.000000</td>\n",
       "      <td>50354.000000</td>\n",
       "      <td>50354.000000</td>\n",
       "      <td>50354.000000</td>\n",
       "    </tr>\n",
       "    <tr>\n",
       "      <th>mean</th>\n",
       "      <td>0.613397</td>\n",
       "      <td>0.360964</td>\n",
       "      <td>0.166759</td>\n",
       "      <td>0.000199</td>\n",
       "      <td>0.824403</td>\n",
       "      <td>0.016364</td>\n",
       "      <td>0.257259</td>\n",
       "      <td>0.691325</td>\n",
       "      <td>0.765222</td>\n",
       "      <td>0.048238</td>\n",
       "      <td>...</td>\n",
       "      <td>0.333936</td>\n",
       "      <td>0.622910</td>\n",
       "      <td>0.204572</td>\n",
       "      <td>0.274060</td>\n",
       "      <td>0.091393</td>\n",
       "      <td>2.210304</td>\n",
       "      <td>1.819728</td>\n",
       "      <td>-2.275502</td>\n",
       "      <td>0.905680</td>\n",
       "      <td>-0.026502</td>\n",
       "    </tr>\n",
       "    <tr>\n",
       "      <th>std</th>\n",
       "      <td>0.486976</td>\n",
       "      <td>0.480285</td>\n",
       "      <td>0.372765</td>\n",
       "      <td>0.014091</td>\n",
       "      <td>0.380481</td>\n",
       "      <td>0.126873</td>\n",
       "      <td>0.437127</td>\n",
       "      <td>0.461951</td>\n",
       "      <td>0.423864</td>\n",
       "      <td>0.214272</td>\n",
       "      <td>...</td>\n",
       "      <td>0.471622</td>\n",
       "      <td>0.484663</td>\n",
       "      <td>0.403392</td>\n",
       "      <td>0.446044</td>\n",
       "      <td>0.288170</td>\n",
       "      <td>0.843645</td>\n",
       "      <td>0.993512</td>\n",
       "      <td>0.597693</td>\n",
       "      <td>0.715613</td>\n",
       "      <td>0.498393</td>\n",
       "    </tr>\n",
       "    <tr>\n",
       "      <th>min</th>\n",
       "      <td>0.000000</td>\n",
       "      <td>0.000000</td>\n",
       "      <td>0.000000</td>\n",
       "      <td>0.000000</td>\n",
       "      <td>0.000000</td>\n",
       "      <td>0.000000</td>\n",
       "      <td>0.000000</td>\n",
       "      <td>0.000000</td>\n",
       "      <td>0.000000</td>\n",
       "      <td>0.000000</td>\n",
       "      <td>...</td>\n",
       "      <td>0.000000</td>\n",
       "      <td>0.000000</td>\n",
       "      <td>0.000000</td>\n",
       "      <td>0.000000</td>\n",
       "      <td>0.000000</td>\n",
       "      <td>1.000000</td>\n",
       "      <td>0.260870</td>\n",
       "      <td>-3.605505</td>\n",
       "      <td>0.006579</td>\n",
       "      <td>-1.571300</td>\n",
       "    </tr>\n",
       "    <tr>\n",
       "      <th>25%</th>\n",
       "      <td>0.000000</td>\n",
       "      <td>0.000000</td>\n",
       "      <td>0.000000</td>\n",
       "      <td>0.000000</td>\n",
       "      <td>1.000000</td>\n",
       "      <td>0.000000</td>\n",
       "      <td>0.000000</td>\n",
       "      <td>0.000000</td>\n",
       "      <td>1.000000</td>\n",
       "      <td>0.000000</td>\n",
       "      <td>...</td>\n",
       "      <td>0.000000</td>\n",
       "      <td>0.000000</td>\n",
       "      <td>0.000000</td>\n",
       "      <td>0.000000</td>\n",
       "      <td>0.000000</td>\n",
       "      <td>2.000000</td>\n",
       "      <td>1.130435</td>\n",
       "      <td>-2.713159</td>\n",
       "      <td>0.379306</td>\n",
       "      <td>-0.262500</td>\n",
       "    </tr>\n",
       "    <tr>\n",
       "      <th>50%</th>\n",
       "      <td>1.000000</td>\n",
       "      <td>0.000000</td>\n",
       "      <td>0.000000</td>\n",
       "      <td>0.000000</td>\n",
       "      <td>1.000000</td>\n",
       "      <td>0.000000</td>\n",
       "      <td>0.000000</td>\n",
       "      <td>1.000000</td>\n",
       "      <td>1.000000</td>\n",
       "      <td>0.000000</td>\n",
       "      <td>...</td>\n",
       "      <td>0.000000</td>\n",
       "      <td>1.000000</td>\n",
       "      <td>0.000000</td>\n",
       "      <td>0.000000</td>\n",
       "      <td>0.000000</td>\n",
       "      <td>2.000000</td>\n",
       "      <td>1.521739</td>\n",
       "      <td>-2.221760</td>\n",
       "      <td>0.684211</td>\n",
       "      <td>-0.134100</td>\n",
       "    </tr>\n",
       "    <tr>\n",
       "      <th>75%</th>\n",
       "      <td>1.000000</td>\n",
       "      <td>1.000000</td>\n",
       "      <td>0.000000</td>\n",
       "      <td>0.000000</td>\n",
       "      <td>1.000000</td>\n",
       "      <td>0.000000</td>\n",
       "      <td>1.000000</td>\n",
       "      <td>1.000000</td>\n",
       "      <td>1.000000</td>\n",
       "      <td>0.000000</td>\n",
       "      <td>...</td>\n",
       "      <td>1.000000</td>\n",
       "      <td>1.000000</td>\n",
       "      <td>0.000000</td>\n",
       "      <td>1.000000</td>\n",
       "      <td>0.000000</td>\n",
       "      <td>3.000000</td>\n",
       "      <td>2.173913</td>\n",
       "      <td>-1.785264</td>\n",
       "      <td>1.263158</td>\n",
       "      <td>-0.046400</td>\n",
       "    </tr>\n",
       "    <tr>\n",
       "      <th>max</th>\n",
       "      <td>1.000000</td>\n",
       "      <td>1.000000</td>\n",
       "      <td>1.000000</td>\n",
       "      <td>1.000000</td>\n",
       "      <td>1.000000</td>\n",
       "      <td>1.000000</td>\n",
       "      <td>1.000000</td>\n",
       "      <td>1.000000</td>\n",
       "      <td>1.000000</td>\n",
       "      <td>1.000000</td>\n",
       "      <td>...</td>\n",
       "      <td>1.000000</td>\n",
       "      <td>1.000000</td>\n",
       "      <td>1.000000</td>\n",
       "      <td>1.000000</td>\n",
       "      <td>1.000000</td>\n",
       "      <td>20.000000</td>\n",
       "      <td>15.217391</td>\n",
       "      <td>-1.107081</td>\n",
       "      <td>5.256579</td>\n",
       "      <td>1.000000</td>\n",
       "    </tr>\n",
       "  </tbody>\n",
       "</table>\n",
       "<p>8 rows × 29 columns</p>\n",
       "</div>"
      ],
      "text/plain": [
       "       CODE_GENDER==F  CODE_GENDER==M  NAME_INCOME_TYPE==Pensioner  \\\n",
       "count    50354.000000    50354.000000                 50354.000000   \n",
       "mean         0.613397        0.360964                     0.166759   \n",
       "std          0.486976        0.480285                     0.372765   \n",
       "min          0.000000        0.000000                     0.000000   \n",
       "25%          0.000000        0.000000                     0.000000   \n",
       "50%          1.000000        0.000000                     0.000000   \n",
       "75%          1.000000        1.000000                     0.000000   \n",
       "max          1.000000        1.000000                     1.000000   \n",
       "\n",
       "       NAME_INCOME_TYPE==Student  NAME_INCOME_TYPE==Working  \\\n",
       "count               50354.000000               50354.000000   \n",
       "mean                    0.000199                   0.824403   \n",
       "std                     0.014091                   0.380481   \n",
       "min                     0.000000                   0.000000   \n",
       "25%                     0.000000                   1.000000   \n",
       "50%                     0.000000                   1.000000   \n",
       "75%                     0.000000                   1.000000   \n",
       "max                     1.000000                   1.000000   \n",
       "\n",
       "       NAME_EDUCATION_TYPE==Basic  NAME_EDUCATION_TYPE==Higher education  \\\n",
       "count                50354.000000                           50354.000000   \n",
       "mean                     0.016364                               0.257259   \n",
       "std                      0.126873                               0.437127   \n",
       "min                      0.000000                               0.000000   \n",
       "25%                      0.000000                               0.000000   \n",
       "50%                      0.000000                               0.000000   \n",
       "75%                      0.000000                               1.000000   \n",
       "max                      1.000000                               1.000000   \n",
       "\n",
       "       NAME_EDUCATION_TYPE==Secondary / secondary special  \\\n",
       "count                                       50354.000000    \n",
       "mean                                            0.691325    \n",
       "std                                             0.461951    \n",
       "min                                             0.000000    \n",
       "25%                                             0.000000    \n",
       "50%                                             1.000000    \n",
       "75%                                             1.000000    \n",
       "max                                             1.000000    \n",
       "\n",
       "       NAME_FAMILY_STATUS==Married  NAME_FAMILY_STATUS==Separated  ...  \\\n",
       "count                 50354.000000                   50354.000000  ...   \n",
       "mean                      0.765222                       0.048238  ...   \n",
       "std                       0.423864                       0.214272  ...   \n",
       "min                       0.000000                       0.000000  ...   \n",
       "25%                       1.000000                       0.000000  ...   \n",
       "50%                       1.000000                       0.000000  ...   \n",
       "75%                       1.000000                       0.000000  ...   \n",
       "max                       1.000000                       1.000000  ...   \n",
       "\n",
       "       FLAG_OWN_CAR  FLAG_OWN_REALTY  FLAG_WORK_PHONE    FLAG_PHONE  \\\n",
       "count  50354.000000     50354.000000     50354.000000  50354.000000   \n",
       "mean       0.333936         0.622910         0.204572      0.274060   \n",
       "std        0.471622         0.484663         0.403392      0.446044   \n",
       "min        0.000000         0.000000         0.000000      0.000000   \n",
       "25%        0.000000         0.000000         0.000000      0.000000   \n",
       "50%        0.000000         1.000000         0.000000      0.000000   \n",
       "75%        1.000000         1.000000         0.000000      1.000000   \n",
       "max        1.000000         1.000000         1.000000      1.000000   \n",
       "\n",
       "         FLAG_EMAIL  CNT_FAM_MEMBERS  AMT_INCOME_TOTAL    DAYS_BIRTH  \\\n",
       "count  50354.000000     50354.000000      50354.000000  50354.000000   \n",
       "mean       0.091393         2.210304          1.819728     -2.275502   \n",
       "std        0.288170         0.843645          0.993512      0.597693   \n",
       "min        0.000000         1.000000          0.260870     -3.605505   \n",
       "25%        0.000000         2.000000          1.130435     -2.713159   \n",
       "50%        0.000000         2.000000          1.521739     -2.221760   \n",
       "75%        0.000000         3.000000          2.173913     -1.785264   \n",
       "max        1.000000        20.000000         15.217391     -1.107081   \n",
       "\n",
       "       months_in_book  DAYS_EMPLOYED  \n",
       "count    50354.000000   50354.000000  \n",
       "mean         0.905680      -0.026502  \n",
       "std          0.715613       0.498393  \n",
       "min          0.006579      -1.571300  \n",
       "25%          0.379306      -0.262500  \n",
       "50%          0.684211      -0.134100  \n",
       "75%          1.263158      -0.046400  \n",
       "max          5.256579       1.000000  \n",
       "\n",
       "[8 rows x 29 columns]"
      ]
     },
     "execution_count": 67,
     "metadata": {},
     "output_type": "execute_result"
    }
   ],
   "source": [
    "X_train.describe()"
   ]
  },
  {
   "cell_type": "markdown",
   "metadata": {},
   "source": [
    "# Modelling and results"
   ]
  },
  {
   "cell_type": "markdown",
   "metadata": {},
   "source": [
    "#### Our data set is highly imbalabced. Hence, accuracy is not the correct performance measure for our model.\n",
    "#### Precision or recall measures are used depeding upon the situation of the bank\n",
    "#### There is usually a trade-off between precision and recall\n",
    "#### A bank having plethora of customers will prefer a higher recall model while a bank with less number of customers will go for higher precision model\n",
    "#### F1 score which is harmonic mean of precision and recall is used for overall model quality assesment\n",
    "### Below models are listed by increasing F1 score"
   ]
  },
  {
   "cell_type": "markdown",
   "metadata": {},
   "source": [
    "## Naive Bayes"
   ]
  },
  {
   "cell_type": "code",
   "execution_count": 68,
   "metadata": {},
   "outputs": [
    {
     "data": {
      "text/plain": [
       "GaussianNB()"
      ]
     },
     "execution_count": 68,
     "metadata": {},
     "output_type": "execute_result"
    }
   ],
   "source": [
    "model = GaussianNB()\n",
    "model.fit(X_train,Y_train)"
   ]
  },
  {
   "cell_type": "code",
   "execution_count": 69,
   "metadata": {},
   "outputs": [
    {
     "name": "stdout",
     "output_type": "stream",
     "text": [
      "Accuracy Score is 0.11657\n",
      "Accuracy Score is 0.53477\n"
     ]
    }
   ],
   "source": [
    "Y_predict = model.predict(X_test)\n",
    "train_predict = model.predict(X_train)\n",
    "print('Accuracy Score is {:.5}'.format(accuracy_score(Y_test, Y_predict)))\n",
    "print('Accuracy Score is {:.5}'.format(accuracy_score(Y_train, train_predict)))"
   ]
  },
  {
   "cell_type": "code",
   "execution_count": 70,
   "metadata": {},
   "outputs": [
    {
     "data": {
      "text/plain": [
       "<AxesSubplot:>"
      ]
     },
     "execution_count": 70,
     "metadata": {},
     "output_type": "execute_result"
    },
    {
     "data": {
      "image/png": "[encoded data removed]",
      "text/plain": [
       "<Figure size 432x288 with 2 Axes>"
      ]
     },
     "metadata": {
      "needs_background": "light"
     },
     "output_type": "display_data"
    }
   ],
   "source": [
    "cm = confusion_matrix(Y_test, Y_predict)\n",
    "sns.heatmap(cm,annot=True,fmt='g',cmap=\"icefire\", linewidths=1, linecolor='black')"
   ]
  },
  {
   "cell_type": "code",
   "execution_count": 71,
   "metadata": {},
   "outputs": [
    {
     "name": "stdout",
     "output_type": "stream",
     "text": [
      "              precision    recall  f1-score   support\n",
      "\n",
      "           0       0.99      0.11      0.19     10791\n",
      "           1       0.01      0.92      0.03       147\n",
      "\n",
      "    accuracy                           0.12     10938\n",
      "   macro avg       0.50      0.51      0.11     10938\n",
      "weighted avg       0.98      0.12      0.19     10938\n",
      "\n",
      "              precision    recall  f1-score   support\n",
      "\n",
      "           0       0.75      0.10      0.18     25177\n",
      "           1       0.52      0.97      0.67     25177\n",
      "\n",
      "    accuracy                           0.53     50354\n",
      "   macro avg       0.64      0.53      0.43     50354\n",
      "weighted avg       0.64      0.53      0.43     50354\n",
      "\n"
     ]
    }
   ],
   "source": [
    "print(classification_report(Y_test, Y_predict))\n",
    "print(classification_report(Y_train, train_predict))"
   ]
  },
  {
   "cell_type": "code",
   "execution_count": 72,
   "metadata": {},
   "outputs": [
    {
     "name": "stdout",
     "output_type": "stream",
     "text": [
      "roc_auc_score for Naive-bayes:  0.5820692098542688\n"
     ]
    }
   ],
   "source": [
    "# plotting ROC curve\n",
    "Y_score = model.predict_proba(X_test)[:,1]\n",
    "false_positive_rate_nbc, true_positive_rate_nbc, threshold = roc_curve(Y_test, Y_score)\n",
    "print('roc_auc_score for Naive-bayes: ', roc_auc_score(Y_test, Y_score))\n"
   ]
  },
  {
   "cell_type": "markdown",
   "metadata": {},
   "source": [
    "Reasons for poor performance - \n",
    "1. The class conditional independence is not a good assumption in this case\n",
    "2. The prediction in best with if/else rules rather than simply dealing with features independently\n",
    "#### This model's prediction is different from other models as here it classifies most customers as bad. This is probably because bad customer class conditioned probability is high for a few features i.e\n",
    "##### P(count_children=1/customer=bad)>>P(count_children=1/customer=good)"
   ]
  },
  {
   "cell_type": "markdown",
   "metadata": {},
   "source": [
    "# Regression Model"
   ]
  },
  {
   "cell_type": "code",
   "execution_count": 73,
   "metadata": {},
   "outputs": [
    {
     "data": {
      "text/plain": [
       "LogisticRegression(max_iter=1000)"
      ]
     },
     "execution_count": 73,
     "metadata": {},
     "output_type": "execute_result"
    }
   ],
   "source": [
    "logreg = LogisticRegression(max_iter=1000)\n",
    "logreg.fit(X_train, Y_train)"
   ]
  },
  {
   "cell_type": "code",
   "execution_count": 74,
   "metadata": {},
   "outputs": [
    {
     "name": "stdout",
     "output_type": "stream",
     "text": [
      "Accuracy of logistic regression classifier on test set: 0.78\n",
      "Accuracy of logistic regression classifier on train set: 0.71\n"
     ]
    }
   ],
   "source": [
    "Y_pred = logreg.predict(X_test)\n",
    "print('Accuracy of logistic regression classifier on test set: {:.2f}'.format(logreg.score(X_test, Y_test)))\n",
    "train_pred = logreg.predict(X_train)\n",
    "print('Accuracy of logistic regression classifier on train set: {:.2f}'.format(logreg.score(X_train, Y_train)))"
   ]
  },
  {
   "cell_type": "code",
   "execution_count": 75,
   "metadata": {},
   "outputs": [
    {
     "name": "stdout",
     "output_type": "stream",
     "text": [
      "AxesSubplot(0.125,0.125;0.62x0.755)\n"
     ]
    },
    {
     "data": {
      "image/png": "[encoded data removed]",
      "text/plain": [
       "<Figure size 432x288 with 2 Axes>"
      ]
     },
     "metadata": {
      "needs_background": "light"
     },
     "output_type": "display_data"
    }
   ],
   "source": [
    "cm = confusion_matrix(Y_test, Y_pred)\n",
    "print(sns.heatmap(cm,annot=True,fmt='g',cmap=\"icefire\", linewidths=1, linecolor='black'))"
   ]
  },
  {
   "cell_type": "code",
   "execution_count": 76,
   "metadata": {},
   "outputs": [
    {
     "name": "stdout",
     "output_type": "stream",
     "text": [
      "              precision    recall  f1-score   support\n",
      "\n",
      "           0       0.99      0.79      0.88     10791\n",
      "           1       0.02      0.36      0.04       147\n",
      "\n",
      "    accuracy                           0.78     10938\n",
      "   macro avg       0.51      0.58      0.46     10938\n",
      "weighted avg       0.98      0.78      0.87     10938\n",
      "\n",
      "              precision    recall  f1-score   support\n",
      "\n",
      "           0       0.68      0.79      0.73     25177\n",
      "           1       0.75      0.64      0.69     25177\n",
      "\n",
      "    accuracy                           0.71     50354\n",
      "   macro avg       0.72      0.71      0.71     50354\n",
      "weighted avg       0.72      0.71      0.71     50354\n",
      "\n"
     ]
    }
   ],
   "source": [
    "print(classification_report(Y_test, Y_pred))\n",
    "print(classification_report(Y_train, train_pred))"
   ]
  },
  {
   "cell_type": "code",
   "execution_count": 77,
   "metadata": {},
   "outputs": [
    {
     "name": "stdout",
     "output_type": "stream",
     "text": [
      "roc_auc_score for Logistic Regression:  0.5946067427063495\n"
     ]
    }
   ],
   "source": [
    "# plotting ROC curve\n",
    "Y_score = logreg.predict_proba(X_test)[:,1]\n",
    "false_positive_rate_lr, true_positive_rate_lr, threshold = roc_curve(Y_test, Y_score)\n",
    "print('roc_auc_score for Logistic Regression: ', roc_auc_score(Y_test, Y_score))\n"
   ]
  },
  {
   "cell_type": "markdown",
   "metadata": {},
   "source": [
    "Not very good results"
   ]
  },
  {
   "cell_type": "markdown",
   "metadata": {},
   "source": [
    "# Decision tree"
   ]
  },
  {
   "cell_type": "code",
   "execution_count": 78,
   "metadata": {},
   "outputs": [
    {
     "name": "stdout",
     "output_type": "stream",
     "text": [
      "0.5303370786516854 24\n"
     ]
    }
   ],
   "source": [
    "max_dep=0\n",
    "for i in range(1,100):\n",
    "    model = DecisionTreeClassifier(max_depth=i,\n",
    "                               min_samples_split=8,\n",
    "                               random_state=1024)\n",
    "    model.fit(X_train, Y_train)\n",
    "    Y_predict = model.predict(X_test)\n",
    "    if f1_score(Y_test, Y_predict)>max_dep+0.1:\n",
    "        max_dep=f1_score(Y_test, Y_predict)\n",
    "        tuned_depth=i\n",
    "print(max_dep,tuned_depth)"
   ]
  },
  {
   "cell_type": "code",
   "execution_count": 79,
   "metadata": {},
   "outputs": [
    {
     "name": "stdout",
     "output_type": "stream",
     "text": [
      "0.5339366515837104 2\n"
     ]
    }
   ],
   "source": [
    "max_dep=0\n",
    "for i in range(2,100):\n",
    "    model = DecisionTreeClassifier(max_depth=tuned_depth,\n",
    "                               min_samples_split=i,\n",
    "                               random_state=1024)\n",
    "    model.fit(X_train, Y_train)\n",
    "    Y_predict = model.predict(X_test)\n",
    "    if f1_score(Y_test, Y_predict)>max_dep+0.1:\n",
    "        max_dep=f1_score(Y_test, Y_predict)\n",
    "        tuned_split=i\n",
    "print(max_dep,tuned_split)"
   ]
  },
  {
   "cell_type": "code",
   "execution_count": 80,
   "metadata": {},
   "outputs": [
    {
     "data": {
      "text/plain": [
       "DecisionTreeClassifier(max_depth=24, random_state=1024)"
      ]
     },
     "execution_count": 80,
     "metadata": {},
     "output_type": "execute_result"
    }
   ],
   "source": [
    "model = DecisionTreeClassifier(max_depth=tuned_depth,\n",
    "                               min_samples_split=tuned_split,\n",
    "                               random_state=1024)\n",
    "model.fit(X_train, Y_train)\n"
   ]
  },
  {
   "cell_type": "code",
   "execution_count": 81,
   "metadata": {},
   "outputs": [
    {
     "name": "stdout",
     "output_type": "stream",
     "text": [
      "Accuracy Score is 0.98117\n",
      "Accuracy Score is 0.99706\n"
     ]
    }
   ],
   "source": [
    "Y_predict = model.predict(X_test)\n",
    "train_predict=model.predict(X_train)\n",
    "print('Accuracy Score is {:.5}'.format(accuracy_score(Y_test, Y_predict)))\n",
    "print('Accuracy Score is {:.5}'.format(accuracy_score(Y_train,train_predict)))"
   ]
  },
  {
   "cell_type": "code",
   "execution_count": 82,
   "metadata": {},
   "outputs": [
    {
     "name": "stdout",
     "output_type": "stream",
     "text": [
      "AxesSubplot(0.125,0.125;0.62x0.755)\n"
     ]
    },
    {
     "data": {
      "image/png": "[encoded data removed]",
      "text/plain": [
       "<Figure size 432x288 with 2 Axes>"
      ]
     },
     "metadata": {
      "needs_background": "light"
     },
     "output_type": "display_data"
    }
   ],
   "source": [
    "cm = confusion_matrix(Y_test, Y_predict)\n",
    "print(sns.heatmap(cm,annot=True,fmt='g',cmap=\"icefire\", linewidths=1, linecolor='black'))"
   ]
  },
  {
   "cell_type": "code",
   "execution_count": 83,
   "metadata": {},
   "outputs": [
    {
     "name": "stdout",
     "output_type": "stream",
     "text": [
      "              precision    recall  f1-score   support\n",
      "\n",
      "           0       1.00      0.98      0.99     10791\n",
      "           1       0.40      0.80      0.53       147\n",
      "\n",
      "    accuracy                           0.98     10938\n",
      "   macro avg       0.70      0.89      0.76     10938\n",
      "weighted avg       0.99      0.98      0.98     10938\n",
      "\n",
      "              precision    recall  f1-score   support\n",
      "\n",
      "           0       1.00      0.99      1.00     25177\n",
      "           1       0.99      1.00      1.00     25177\n",
      "\n",
      "    accuracy                           1.00     50354\n",
      "   macro avg       1.00      1.00      1.00     50354\n",
      "weighted avg       1.00      1.00      1.00     50354\n",
      "\n"
     ]
    }
   ],
   "source": [
    "print(classification_report(Y_test, Y_predict))\n",
    "print(classification_report(Y_train, train_predict))"
   ]
  },
  {
   "cell_type": "code",
   "execution_count": 84,
   "metadata": {},
   "outputs": [
    {
     "name": "stdout",
     "output_type": "stream",
     "text": [
      "roc_auc_score for DecisionTree:  0.8952834214957412\n"
     ]
    }
   ],
   "source": [
    "# plotting ROC curve\n",
    "Y_score = model.predict_proba(X_test)[:,1]\n",
    "false_positive_rate_dt, true_positive_rate_dt, threshold = roc_curve(Y_test, Y_score)\n",
    "print('roc_auc_score for DecisionTree: ', roc_auc_score(Y_test, Y_score))\n",
    "\n"
   ]
  },
  {
   "cell_type": "markdown",
   "metadata": {},
   "source": [
    "# Random Forest "
   ]
  },
  {
   "cell_type": "code",
   "execution_count": 85,
   "metadata": {},
   "outputs": [
    {
     "name": "stdout",
     "output_type": "stream",
     "text": [
      "0.7852348993288589 1\n"
     ]
    }
   ],
   "source": [
    "f1_max=0\n",
    "for i in range(1,10):\n",
    "    model = RandomForestClassifier(n_estimators=250,\n",
    "                              max_depth=tuned_depth,\n",
    "                              min_samples_leaf=i\n",
    "                              )\n",
    "    model.fit(X_train, Y_train)\n",
    "    Y_predict = model.predict(X_test)\n",
    "    if f1_score(Y_test, Y_predict)>f1_max+0.1:\n",
    "        f1_max=f1_score(Y_test, Y_predict)\n",
    "        tuned_leaf=i\n",
    "print(f1_max,tuned_leaf)"
   ]
  },
  {
   "cell_type": "code",
   "execution_count": 86,
   "metadata": {},
   "outputs": [
    {
     "data": {
      "text/plain": [
       "RandomForestClassifier(max_depth=24, n_estimators=250)"
      ]
     },
     "execution_count": 86,
     "metadata": {},
     "output_type": "execute_result"
    }
   ],
   "source": [
    "model = RandomForestClassifier(n_estimators=250,\n",
    "                              max_depth=tuned_depth,\n",
    "                              min_samples_leaf=tuned_leaf\n",
    "                              )\n",
    "model.fit(X_train, Y_train)\n"
   ]
  },
  {
   "cell_type": "code",
   "execution_count": 87,
   "metadata": {},
   "outputs": [
    {
     "name": "stdout",
     "output_type": "stream",
     "text": [
      "Accuracy Score is 0.99433\n",
      "Accuracy Score is 0.99934\n"
     ]
    }
   ],
   "source": [
    "Y_predict = model.predict(X_test)\n",
    "Train_predict=model.predict(X_train)\n",
    "print('Accuracy Score is {:.5}'.format(accuracy_score(Y_test, Y_predict)))\n",
    "print('Accuracy Score is {:.5}'.format(accuracy_score(Y_train, Train_predict)))"
   ]
  },
  {
   "cell_type": "code",
   "execution_count": 88,
   "metadata": {},
   "outputs": [
    {
     "data": {
      "text/plain": [
       "<AxesSubplot:>"
      ]
     },
     "execution_count": 88,
     "metadata": {},
     "output_type": "execute_result"
    },
    {
     "data": {
      "image/png": "[encoded data removed]",
      "text/plain": [
       "<Figure size 432x288 with 2 Axes>"
      ]
     },
     "metadata": {
      "needs_background": "light"
     },
     "output_type": "display_data"
    }
   ],
   "source": [
    "cm = confusion_matrix(Y_test, Y_predict)\n",
    "sns.heatmap(cm,annot=True,fmt='g',cmap=\"icefire\", linewidths=1, linecolor='black')\n"
   ]
  },
  {
   "cell_type": "code",
   "execution_count": 89,
   "metadata": {},
   "outputs": [
    {
     "name": "stdout",
     "output_type": "stream",
     "text": [
      "              precision    recall  f1-score   support\n",
      "\n",
      "           0       1.00      1.00      1.00     10791\n",
      "           1       0.79      0.80      0.79       147\n",
      "\n",
      "    accuracy                           0.99     10938\n",
      "   macro avg       0.89      0.90      0.89     10938\n",
      "weighted avg       0.99      0.99      0.99     10938\n",
      "\n",
      "              precision    recall  f1-score   support\n",
      "\n",
      "           0       1.00      1.00      1.00     25177\n",
      "           1       1.00      1.00      1.00     25177\n",
      "\n",
      "    accuracy                           1.00     50354\n",
      "   macro avg       1.00      1.00      1.00     50354\n",
      "weighted avg       1.00      1.00      1.00     50354\n",
      "\n"
     ]
    }
   ],
   "source": [
    "print(classification_report(Y_test, Y_predict))\n",
    "print(classification_report(Y_train, Train_predict))"
   ]
  },
  {
   "cell_type": "code",
   "execution_count": 90,
   "metadata": {},
   "outputs": [
    {
     "name": "stdout",
     "output_type": "stream",
     "text": [
      "roc_auc_score for Random Forest:  0.968830790587016\n"
     ]
    }
   ],
   "source": [
    "# plotting ROC curve\n",
    "Y_score = model.predict_proba(X_test)[:,1]\n",
    "false_positive_rate_rf, true_positive_rate_rf, threshold = roc_curve(Y_test, Y_score)\n",
    "print('roc_auc_score for Random Forest: ', roc_auc_score(Y_test, Y_score))\n"
   ]
  },
  {
   "cell_type": "markdown",
   "metadata": {},
   "source": [
    "# Implementing ANN"
   ]
  },
  {
   "cell_type": "code",
   "execution_count": 91,
   "metadata": {},
   "outputs": [],
   "source": [
    "classifier = Sequential()\n",
    "# input layer and first layer\n",
    "classifier.add(Dense(units=2*30/3, kernel_initializer=\"uniform\", activation = 'relu', input_dim = 29))\n",
    "# second layer\n",
    "classifier.add(Dense(units=2*21/3, kernel_initializer=\"uniform\", activation = 'relu'))\n",
    "# third layer\n",
    "classifier.add(Dense(units=2*15/3, kernel_initializer=\"uniform\", activation = 'relu'))\n",
    "#output layer\n",
    "classifier.add(Dense(units=1, kernel_initializer=\"uniform\", activation = 'sigmoid'))"
   ]
  },
  {
   "cell_type": "code",
   "execution_count": 92,
   "metadata": {},
   "outputs": [],
   "source": [
    "#compiling\n",
    "classifier.compile(optimizer = 'adam', loss = 'binary_crossentropy', metrics = ['accuracy'])"
   ]
  },
  {
   "cell_type": "code",
   "execution_count": 93,
   "metadata": {},
   "outputs": [
    {
     "name": "stdout",
     "output_type": "stream",
     "text": [
      "Epoch 1/40\n",
      "504/504 [==============================] - 0s 768us/step - loss: 0.6386 - accuracy: 0.6242\n",
      "Epoch 2/40\n",
      "504/504 [==============================] - 0s 777us/step - loss: 0.4943 - accuracy: 0.7556\n",
      "Epoch 3/40\n",
      "504/504 [==============================] - 0s 797us/step - loss: 0.3748 - accuracy: 0.8361\n",
      "Epoch 4/40\n",
      "504/504 [==============================] - 0s 803us/step - loss: 0.3221 - accuracy: 0.8648\n",
      "Epoch 5/40\n",
      "504/504 [==============================] - 0s 828us/step - loss: 0.2866 - accuracy: 0.8843\n",
      "Epoch 6/40\n",
      "504/504 [==============================] - 0s 824us/step - loss: 0.2644 - accuracy: 0.8943\n",
      "Epoch 7/40\n",
      "504/504 [==============================] - 0s 814us/step - loss: 0.2479 - accuracy: 0.9013\n",
      "Epoch 8/40\n",
      "504/504 [==============================] - 0s 798us/step - loss: 0.2378 - accuracy: 0.9048\n",
      "Epoch 9/40\n",
      "504/504 [==============================] - 0s 838us/step - loss: 0.2307 - accuracy: 0.9074\n",
      "Epoch 10/40\n",
      "504/504 [==============================] - 0s 818us/step - loss: 0.2237 - accuracy: 0.9100\n",
      "Epoch 11/40\n",
      "504/504 [==============================] - 0s 776us/step - loss: 0.2165 - accuracy: 0.9131\n",
      "Epoch 12/40\n",
      "504/504 [==============================] - 0s 817us/step - loss: 0.2140 - accuracy: 0.9148\n",
      "Epoch 13/40\n",
      "504/504 [==============================] - 0s 827us/step - loss: 0.2060 - accuracy: 0.9195\n",
      "Epoch 14/40\n",
      "504/504 [==============================] - 0s 800us/step - loss: 0.2023 - accuracy: 0.9208\n",
      "Epoch 15/40\n",
      "504/504 [==============================] - 0s 843us/step - loss: 0.1969 - accuracy: 0.9220\n",
      "Epoch 16/40\n",
      "504/504 [==============================] - 0s 807us/step - loss: 0.1977 - accuracy: 0.9220\n",
      "Epoch 17/40\n",
      "504/504 [==============================] - 0s 868us/step - loss: 0.1924 - accuracy: 0.9252\n",
      "Epoch 18/40\n",
      "504/504 [==============================] - 0s 860us/step - loss: 0.1941 - accuracy: 0.9232\n",
      "Epoch 19/40\n",
      "504/504 [==============================] - 0s 800us/step - loss: 0.1888 - accuracy: 0.9264\n",
      "Epoch 20/40\n",
      "504/504 [==============================] - 0s 860us/step - loss: 0.1916 - accuracy: 0.9242\n",
      "Epoch 21/40\n",
      "504/504 [==============================] - 0s 928us/step - loss: 0.1823 - accuracy: 0.9291\n",
      "Epoch 22/40\n",
      "504/504 [==============================] - 0s 848us/step - loss: 0.1814 - accuracy: 0.9296\n",
      "Epoch 23/40\n",
      "504/504 [==============================] - 0s 794us/step - loss: 0.1797 - accuracy: 0.9297\n",
      "Epoch 24/40\n",
      "504/504 [==============================] - 0s 851us/step - loss: 0.1756 - accuracy: 0.9318\n",
      "Epoch 25/40\n",
      "504/504 [==============================] - 0s 805us/step - loss: 0.1735 - accuracy: 0.9327\n",
      "Epoch 26/40\n",
      "504/504 [==============================] - 0s 886us/step - loss: 0.1760 - accuracy: 0.9309\n",
      "Epoch 27/40\n",
      "504/504 [==============================] - 0s 815us/step - loss: 0.1696 - accuracy: 0.9346\n",
      "Epoch 28/40\n",
      "504/504 [==============================] - 0s 798us/step - loss: 0.1676 - accuracy: 0.9350\n",
      "Epoch 29/40\n",
      "504/504 [==============================] - 0s 910us/step - loss: 0.1679 - accuracy: 0.9350\n",
      "Epoch 30/40\n",
      "504/504 [==============================] - 0s 789us/step - loss: 0.1642 - accuracy: 0.9369\n",
      "Epoch 31/40\n",
      "504/504 [==============================] - 0s 906us/step - loss: 0.1613 - accuracy: 0.9371\n",
      "Epoch 32/40\n",
      "504/504 [==============================] - 0s 823us/step - loss: 0.1622 - accuracy: 0.9374\n",
      "Epoch 33/40\n",
      "504/504 [==============================] - 0s 862us/step - loss: 0.1600 - accuracy: 0.9380\n",
      "Epoch 34/40\n",
      "504/504 [==============================] - 0s 851us/step - loss: 0.1613 - accuracy: 0.9383\n",
      "Epoch 35/40\n",
      "504/504 [==============================] - 0s 791us/step - loss: 0.1598 - accuracy: 0.9386\n",
      "Epoch 36/40\n",
      "504/504 [==============================] - 0s 868us/step - loss: 0.1563 - accuracy: 0.9401\n",
      "Epoch 37/40\n",
      "504/504 [==============================] - 0s 817us/step - loss: 0.1547 - accuracy: 0.9406\n",
      "Epoch 38/40\n",
      "504/504 [==============================] - 0s 907us/step - loss: 0.1527 - accuracy: 0.9405\n",
      "Epoch 39/40\n",
      "504/504 [==============================] - 0s 790us/step - loss: 0.1515 - accuracy: 0.9427\n",
      "Epoch 40/40\n",
      "504/504 [==============================] - 0s 872us/step - loss: 0.1511 - accuracy: 0.9428\n"
     ]
    },
    {
     "data": {
      "text/plain": [
       "<tensorflow.python.keras.callbacks.History at 0x27e38cc9c48>"
      ]
     },
     "execution_count": 93,
     "metadata": {},
     "output_type": "execute_result"
    }
   ],
   "source": [
    "classifier.fit(X_train, Y_train, batch_size = 100, epochs = 40)"
   ]
  },
  {
   "cell_type": "code",
   "execution_count": 94,
   "metadata": {},
   "outputs": [
    {
     "name": "stdout",
     "output_type": "stream",
     "text": [
      "Accuracy Score is 0.92037\n",
      "Accuracy Score is 0.95119\n"
     ]
    },
    {
     "data": {
      "text/plain": [
       "<AxesSubplot:>"
      ]
     },
     "execution_count": 94,
     "metadata": {},
     "output_type": "execute_result"
    },
    {
     "data": {
      "image/png": "[encoded data removed]",
      "text/plain": [
       "<Figure size 432x288 with 2 Axes>"
      ]
     },
     "metadata": {
      "needs_background": "light"
     },
     "output_type": "display_data"
    }
   ],
   "source": [
    "Y_predict = classifier.predict(X_test)\n",
    "Y_predict = (Y_predict > 0.5)\n",
    "Y_predict=[1 if x==True else 0 for x in Y_predict]\n",
    "Y_predict_train = classifier.predict(X_train)\n",
    "Y_predict_train = (Y_predict_train > 0.5)\n",
    "Y_predict_train=[1 if x==True else 0 for x in Y_predict_train]\n",
    "\n",
    "print('Accuracy Score is {:.5}'.format(accuracy_score(Y_test, Y_predict)))\n",
    "print('Accuracy Score is {:.5}'.format(accuracy_score(Y_train, Y_predict_train)))\n",
    "cm = confusion_matrix(Y_test, Y_predict)\n",
    "sns.heatmap(cm,annot=True,fmt='g',cmap=\"icefire\", linewidths=1, linecolor='black')\n"
   ]
  },
  {
   "cell_type": "code",
   "execution_count": 95,
   "metadata": {},
   "outputs": [
    {
     "name": "stdout",
     "output_type": "stream",
     "text": [
      "              precision    recall  f1-score   support\n",
      "\n",
      "           0       1.00      0.92      0.96     10791\n",
      "           1       0.11      0.68      0.19       147\n",
      "\n",
      "    accuracy                           0.92     10938\n",
      "   macro avg       0.55      0.80      0.57     10938\n",
      "weighted avg       0.98      0.92      0.95     10938\n",
      "\n",
      "              precision    recall  f1-score   support\n",
      "\n",
      "           0       0.97      0.93      0.95     25177\n",
      "           1       0.93      0.97      0.95     25177\n",
      "\n",
      "    accuracy                           0.95     50354\n",
      "   macro avg       0.95      0.95      0.95     50354\n",
      "weighted avg       0.95      0.95      0.95     50354\n",
      "\n"
     ]
    }
   ],
   "source": [
    "print(classification_report(Y_test, Y_predict))\n",
    "print(classification_report(Y_train, Y_predict_train))"
   ]
  },
  {
   "cell_type": "code",
   "execution_count": 96,
   "metadata": {},
   "outputs": [],
   "source": [
    "# for plotting ROC curve\n",
    "y_pred_keras = classifier.predict(X_test).ravel()\n",
    "fpr_keras, tpr_keras, thresholds_keras = roc_curve(Y_test, y_pred_keras)"
   ]
  },
  {
   "cell_type": "markdown",
   "metadata": {},
   "source": [
    "# AdaBoost"
   ]
  },
  {
   "cell_type": "code",
   "execution_count": 97,
   "metadata": {},
   "outputs": [
    {
     "data": {
      "text/plain": [
       "AdaBoostClassifier(base_estimator=DecisionTreeClassifier(max_depth=24),\n",
       "                   n_estimators=200)"
      ]
     },
     "execution_count": 97,
     "metadata": {},
     "output_type": "execute_result"
    }
   ],
   "source": [
    "classifier = AdaBoostClassifier(\n",
    "    DecisionTreeClassifier(max_depth=tuned_depth),\n",
    "    n_estimators=200\n",
    ")\n",
    "classifier.fit(X_train, Y_train)"
   ]
  },
  {
   "cell_type": "code",
   "execution_count": 98,
   "metadata": {},
   "outputs": [
    {
     "name": "stdout",
     "output_type": "stream",
     "text": [
      "Accuracy Score is 0.99598\n",
      "Accuracy Score is 1.0\n"
     ]
    }
   ],
   "source": [
    "Y_predict = classifier.predict(X_test)\n",
    "print('Accuracy Score is {:.5}'.format(accuracy_score(Y_test, Y_predict)))\n",
    "Y_predict_train = classifier.predict(X_train)\n",
    "print('Accuracy Score is {:.5}'.format(accuracy_score(Y_train, Y_predict_train)))"
   ]
  },
  {
   "cell_type": "code",
   "execution_count": 99,
   "metadata": {},
   "outputs": [
    {
     "data": {
      "text/plain": [
       "<AxesSubplot:>"
      ]
     },
     "execution_count": 99,
     "metadata": {},
     "output_type": "execute_result"
    },
    {
     "data": {
      "image/png": "[encoded data removed]",
      "text/plain": [
       "<Figure size 432x288 with 2 Axes>"
      ]
     },
     "metadata": {
      "needs_background": "light"
     },
     "output_type": "display_data"
    }
   ],
   "source": [
    "cm = confusion_matrix(Y_test, Y_predict)\n",
    "sns.heatmap(cm,annot=True,fmt='g',cmap=\"icefire\", linewidths=1, linecolor='black')\n"
   ]
  },
  {
   "cell_type": "code",
   "execution_count": 100,
   "metadata": {},
   "outputs": [
    {
     "name": "stdout",
     "output_type": "stream",
     "text": [
      "              precision    recall  f1-score   support\n",
      "\n",
      "           0       1.00      1.00      1.00     10791\n",
      "           1       0.88      0.81      0.84       147\n",
      "\n",
      "    accuracy                           1.00     10938\n",
      "   macro avg       0.94      0.90      0.92     10938\n",
      "weighted avg       1.00      1.00      1.00     10938\n",
      "\n",
      "              precision    recall  f1-score   support\n",
      "\n",
      "           0       1.00      1.00      1.00     25177\n",
      "           1       1.00      1.00      1.00     25177\n",
      "\n",
      "    accuracy                           1.00     50354\n",
      "   macro avg       1.00      1.00      1.00     50354\n",
      "weighted avg       1.00      1.00      1.00     50354\n",
      "\n"
     ]
    }
   ],
   "source": [
    "print(classification_report(Y_test, Y_predict))\n",
    "print(classification_report(Y_train, Y_predict_train))"
   ]
  },
  {
   "cell_type": "code",
   "execution_count": 101,
   "metadata": {},
   "outputs": [
    {
     "name": "stdout",
     "output_type": "stream",
     "text": [
      "roc_auc_score for Adaboost:  0.9775493183094756\n"
     ]
    }
   ],
   "source": [
    "# plotting ROC curve\n",
    "Y_score = classifier.predict_proba(X_test)[:,1]\n",
    "false_positive_rate_ab, true_positive_rate_ab, threshold = roc_curve(Y_test, Y_score)\n",
    "print('roc_auc_score for Adaboost: ', roc_auc_score(Y_test, Y_score))"
   ]
  },
  {
   "cell_type": "markdown",
   "metadata": {},
   "source": [
    "# Comparing Models using ROC curves"
   ]
  },
  {
   "cell_type": "code",
   "execution_count": 102,
   "metadata": {},
   "outputs": [
    {
     "data": {
      "image/png": "[encoded data removed]",
      "text/plain": [
       "<Figure size 720x720 with 1 Axes>"
      ]
     },
     "metadata": {
      "needs_background": "light"
     },
     "output_type": "display_data"
    }
   ],
   "source": [
    "plt.subplots(1, figsize=(10,10))\n",
    "plt.title('Receiver Operating Characteristic')\n",
    "plt.plot(false_positive_rate_lr, true_positive_rate_lr, label = \"Regression\")\n",
    "plt.plot(false_positive_rate_nbc, true_positive_rate_nbc, label = \"Naive bayes\")\n",
    "plt.plot(false_positive_rate_dt, true_positive_rate_dt,label = \"Decision Tree\")\n",
    "plt.plot(false_positive_rate_rf, true_positive_rate_rf,label = \"Random Forest\")\n",
    "plt.plot(fpr_keras, tpr_keras,label = \"ANN\")\n",
    "plt.plot(false_positive_rate_ab, true_positive_rate_ab,label = \"AdaBoosting\")\n",
    "plt.plot([0, 1], ls=\"--\")\n",
    "plt.plot([0, 0], [1, 0] , c=\".7\"), plt.plot([1, 1] , c=\".7\")\n",
    "plt.ylabel('True Positive Rate')\n",
    "plt.xlabel('False Positive Rate')\n",
    "plt.legend()\n",
    "plt.show()"
   ]
  },
  {
   "cell_type": "markdown",
   "metadata": {},
   "source": [
    "   # Thank you"
   ]
  },
  {
   "cell_type": "code",
   "execution_count": null,
   "metadata": {},
   "outputs": [],
   "source": []
  }
 ],
 "metadata": {
  "kernelspec": {
   "display_name": "Python [conda env:hello]",
   "language": "python",
   "name": "conda-env-hello-py"
  },
  "language_info": {
   "codemirror_mode": {
    "name": "ipython",
    "version": 3
   },
   "file_extension": ".py",
   "mimetype": "text/x-python",
   "name": "python",
   "nbconvert_exporter": "python",
   "pygments_lexer": "ipython3",
   "version": "3.7.9"
  },
  "papermill": {
   "duration": 76.5034,
   "end_time": "2020-10-28T08:14:28.637373",
   "environment_variables": {},
   "exception": null,
   "input_path": "__notebook__.ipynb",
   "output_path": "__notebook__.ipynb",
   "parameters": {},
   "start_time": "2020-10-28T08:13:12.133973",
   "version": "2.1.0"
  }
 },
 "nbformat": 4,
 "nbformat_minor": 4
}
